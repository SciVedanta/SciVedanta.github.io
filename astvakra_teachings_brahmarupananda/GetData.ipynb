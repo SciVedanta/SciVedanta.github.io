{
 "cells": [
  {
   "cell_type": "code",
   "execution_count": 1,
   "id": "b9e0eafa",
   "metadata": {},
   "outputs": [],
   "source": [
    "#pip install youtube-transcript-api"
   ]
  },
  {
   "cell_type": "code",
   "execution_count": 1,
   "id": "031795b2",
   "metadata": {},
   "outputs": [],
   "source": [
    "from youtube_transcript_api import YouTubeTranscriptApi\n",
    "\n",
    "def get_text(youtube_id=\"XhKdu1_m-k4\"):\n",
    "    try:\n",
    "        text = \" \".join(\n",
    "            [\n",
    "                i[\"text\"]\n",
    "                .replace(\"\\xa0\\xa0\", \" \")\n",
    "                .replace(\"\\n\", \"\")\n",
    "                .replace(\"\\xa0\", \" \")\n",
    "                for i in YouTubeTranscriptApi.get_transcript(youtube_id)\n",
    "            ]\n",
    "        )\n",
    "        return text\n",
    "    except:\n",
    "        print ('Failed for',youtube_id )\n",
    "        pass\n"
   ]
  },
  {
   "cell_type": "code",
   "execution_count": 2,
   "id": "dd99d435",
   "metadata": {},
   "outputs": [],
   "source": [
    "import pandas as pd\n",
    "df = pd.read_csv('Sheet1.csv')\n",
    "df = df[df['Title'].notnull()]"
   ]
  },
  {
   "cell_type": "code",
   "execution_count": 3,
   "id": "5f3f9ac2",
   "metadata": {},
   "outputs": [],
   "source": [
    "df['youtube_id']=df['ID'].apply(lambda x: str(x).split('&')[0].strip('!'))"
   ]
  },
  {
   "cell_type": "code",
   "execution_count": 4,
   "id": "a3b78e35",
   "metadata": {},
   "outputs": [
    {
     "name": "stderr",
     "output_type": "stream",
     "text": [
      "100%|████████████████████████████████████████████████████████████████████████████████████████████████████████████████████████████████████████████████████████████████████████████████| 9/9 [00:11<00:00,  1.25s/it]\n"
     ]
    }
   ],
   "source": [
    "from tqdm import tqdm\n",
    "tqdm.pandas()\n",
    "df['text'] = df['youtube_id'].progress_apply(lambda x:get_text(x))"
   ]
  },
  {
   "cell_type": "code",
   "execution_count": 5,
   "id": "5b372781",
   "metadata": {},
   "outputs": [
    {
     "data": {
      "text/html": [
       "<div>\n",
       "<style scoped>\n",
       "    .dataframe tbody tr th:only-of-type {\n",
       "        vertical-align: middle;\n",
       "    }\n",
       "\n",
       "    .dataframe tbody tr th {\n",
       "        vertical-align: top;\n",
       "    }\n",
       "\n",
       "    .dataframe thead th {\n",
       "        text-align: right;\n",
       "    }\n",
       "</style>\n",
       "<table border=\"1\" class=\"dataframe\">\n",
       "  <thead>\n",
       "    <tr style=\"text-align: right;\">\n",
       "      <th></th>\n",
       "      <th>Title</th>\n",
       "      <th>ID</th>\n",
       "      <th>youtube_id</th>\n",
       "      <th>text</th>\n",
       "    </tr>\n",
       "  </thead>\n",
       "  <tbody>\n",
       "    <tr>\n",
       "      <th>0</th>\n",
       "      <td>Astavakra's Teachings, Part I</td>\n",
       "      <td>vxUGO9dtkwI</td>\n",
       "      <td>vxUGO9dtkwI</td>\n",
       "      <td>welcome thank you um foreign [Music] [Music] f...</td>\n",
       "    </tr>\n",
       "    <tr>\n",
       "      <th>1</th>\n",
       "      <td>Astavakra's Teachings, Part II</td>\n",
       "      <td>znuvzumhOrs</td>\n",
       "      <td>znuvzumhOrs</td>\n",
       "      <td>um [Music] [Music] foreign [Music] foreign [Mu...</td>\n",
       "    </tr>\n",
       "    <tr>\n",
       "      <th>2</th>\n",
       "      <td>Astavakra's Teachings, Part III</td>\n",
       "      <td>tEFIFSjYf1Q</td>\n",
       "      <td>tEFIFSjYf1Q</td>\n",
       "      <td>let us begin with the prayer this is on page 4...</td>\n",
       "    </tr>\n",
       "    <tr>\n",
       "      <th>3</th>\n",
       "      <td>Astavakra's Teachings, Part IV</td>\n",
       "      <td>lgZbqzqOyPk</td>\n",
       "      <td>lgZbqzqOyPk</td>\n",
       "      <td>um um um um oh um and not too close um okay um...</td>\n",
       "    </tr>\n",
       "    <tr>\n",
       "      <th>4</th>\n",
       "      <td>Astavakra's Teachings, Part V</td>\n",
       "      <td>tBNrOxWqkqo</td>\n",
       "      <td>tBNrOxWqkqo</td>\n",
       "      <td>[Music] oh [Music] oh [Music] oh [Music] [Musi...</td>\n",
       "    </tr>\n",
       "    <tr>\n",
       "      <th>5</th>\n",
       "      <td>Astavakra's Teachings, Part VI</td>\n",
       "      <td>bGyToVkeI7k</td>\n",
       "      <td>bGyToVkeI7k</td>\n",
       "      <td>this is fantastic such a beautiful shrine so t...</td>\n",
       "    </tr>\n",
       "    <tr>\n",
       "      <th>6</th>\n",
       "      <td>Astavakra's Teachings, Part VII</td>\n",
       "      <td>wBqSGDas6lo</td>\n",
       "      <td>wBqSGDas6lo</td>\n",
       "      <td>let us begin with the prayer this prayer is fr...</td>\n",
       "    </tr>\n",
       "    <tr>\n",
       "      <th>7</th>\n",
       "      <td>Astavakra's Teachings, Part VIII</td>\n",
       "      <td>SEkJs_zLz4w</td>\n",
       "      <td>SEkJs_zLz4w</td>\n",
       "      <td>indeed which some of you are studying with swa...</td>\n",
       "    </tr>\n",
       "    <tr>\n",
       "      <th>8</th>\n",
       "      <td>Astavakra's Teachings - Part 9</td>\n",
       "      <td>BH3r1TxP-zA</td>\n",
       "      <td>BH3r1TxP-zA</td>\n",
       "      <td>foreign [Music] foreign to the one who perform...</td>\n",
       "    </tr>\n",
       "  </tbody>\n",
       "</table>\n",
       "</div>"
      ],
      "text/plain": [
       "                              Title           ID   youtube_id  \\\n",
       "0     Astavakra's Teachings, Part I  vxUGO9dtkwI  vxUGO9dtkwI   \n",
       "1    Astavakra's Teachings, Part II  znuvzumhOrs  znuvzumhOrs   \n",
       "2   Astavakra's Teachings, Part III  tEFIFSjYf1Q  tEFIFSjYf1Q   \n",
       "3    Astavakra's Teachings, Part IV  lgZbqzqOyPk  lgZbqzqOyPk   \n",
       "4     Astavakra's Teachings, Part V  tBNrOxWqkqo  tBNrOxWqkqo   \n",
       "5    Astavakra's Teachings, Part VI  bGyToVkeI7k  bGyToVkeI7k   \n",
       "6   Astavakra's Teachings, Part VII  wBqSGDas6lo  wBqSGDas6lo   \n",
       "7  Astavakra's Teachings, Part VIII  SEkJs_zLz4w  SEkJs_zLz4w   \n",
       "8    Astavakra's Teachings - Part 9  BH3r1TxP-zA  BH3r1TxP-zA   \n",
       "\n",
       "                                                text  \n",
       "0  welcome thank you um foreign [Music] [Music] f...  \n",
       "1  um [Music] [Music] foreign [Music] foreign [Mu...  \n",
       "2  let us begin with the prayer this is on page 4...  \n",
       "3  um um um um oh um and not too close um okay um...  \n",
       "4  [Music] oh [Music] oh [Music] oh [Music] [Musi...  \n",
       "5  this is fantastic such a beautiful shrine so t...  \n",
       "6  let us begin with the prayer this prayer is fr...  \n",
       "7  indeed which some of you are studying with swa...  \n",
       "8  foreign [Music] foreign to the one who perform...  "
      ]
     },
     "execution_count": 5,
     "metadata": {},
     "output_type": "execute_result"
    }
   ],
   "source": [
    "df"
   ]
  },
  {
   "cell_type": "code",
   "execution_count": 6,
   "id": "b2bdb4be",
   "metadata": {},
   "outputs": [],
   "source": [
    "lines=[]\n",
    "filenames=[]\n",
    "temp='<!--table_content--><table style=\"width:100%\" id=\"j_table\">'+ \"<thead><tr>\"+ \"<th>Text</th>\"+ \"<th>Video</th>\"+ \"</tr></thead>\"\n",
    "for i,ii in df.iterrows():\n",
    "    page = ii.name  #ii['Unnamed: 0']\n",
    "    text = ii['text']\n",
    "    if text is not None:\n",
    "        #print('text',text)\n",
    "        filename='../docs/Video-'+str(page)+'.md'\n",
    "        filename2='Video-'+str(page)\n",
    "        #print (filename)\n",
    "        f=open(filename,'w')\n",
    "        line='['+ii['Title']+']('+'https://www.youtube.com/watch?v='+str(ii['ID'].split('&')[0].strip('!'))+')' \n",
    "        line2='['+ii['Title']+'](./'+filename2 +')'\n",
    "        \n",
    "        \n",
    "        \n",
    "        #temp+='<tr>'+'<td>'+line2+'</td>'+'<td>'+line+'</td>'+'</tr>'\n",
    "        part1='<a href=\"'+'./'+filename2+' \"'+' target=\"_black\"> '+ii['Title']+'</a>'\n",
    "        part2='<a href=\"'+ 'https://www.youtube.com/watch?v='+str(ii['ID'].split('&')[0].strip('!'))  +' \"'+' target=\"_black\"> '+'YouTube'+'</a>'\n",
    "        temp+='<tr>'+'<td>'+part1+'</td>'+'<td>'+part2+'</td>'+'</tr>'\n",
    "        lines.append(line2)\n",
    "        filenames.append(filename)\n",
    "        f.write(line+'\\n\\n')\n",
    "        f.write(text)\n",
    "        f.close()\n",
    "        #break"
   ]
  },
  {
   "cell_type": "code",
   "execution_count": 7,
   "id": "08667ad6",
   "metadata": {},
   "outputs": [
    {
     "data": {
      "text/plain": [
       "[\"[Astavakra's Teachings, Part I](./Video-0)\",\n",
       " \"[Astavakra's Teachings, Part II](./Video-1)\",\n",
       " \"[Astavakra's Teachings, Part III](./Video-2)\",\n",
       " \"[Astavakra's Teachings, Part IV](./Video-3)\",\n",
       " \"[Astavakra's Teachings, Part V](./Video-4)\",\n",
       " \"[Astavakra's Teachings, Part VI](./Video-5)\",\n",
       " \"[Astavakra's Teachings, Part VII](./Video-6)\",\n",
       " \"[Astavakra's Teachings, Part VIII](./Video-7)\",\n",
       " \"[Astavakra's Teachings - Part 9](./Video-8)\"]"
      ]
     },
     "execution_count": 7,
     "metadata": {},
     "output_type": "execute_result"
    }
   ],
   "source": [
    "lines"
   ]
  },
  {
   "cell_type": "code",
   "execution_count": 9,
   "id": "08a62f97",
   "metadata": {},
   "outputs": [],
   "source": [
    "md_path='../docs/index.md'\n",
    "with open(md_path, \"r\") as file:\n",
    "    filedata = file.read().splitlines()\n",
    "content = []\n",
    "\n",
    "content = ['\\n [Astavakra teachings](https://en.wikipedia.org/wiki/Ashtavakra) By [Swami Brahmarupananda](https://vedantanc.org/2013/07/27/swami-brahmarupananda/) \\n\\n<!--table_content-->\\n']\n",
    "# for j in filedata:\n",
    "#     if \"<!--table_content-->\" in j:\n",
    "#         content.append(\"<!--table_content-->\")\n",
    "#     else:\n",
    "#         content.append(j)\n",
    "with open(md_path, \"w\") as file:\n",
    "    file.write(\"\\n\".join(content))\n",
    "\n",
    "with open(md_path, \"r\") as file:\n",
    "    filedata = file.read().splitlines()\n",
    "    \n",
    "\n",
    "\n",
    "for j in filedata:\n",
    "    if \"<!--table_content-->\" in j:\n",
    "        content.append(\"<!--table_content-->\"+temp+\"</table>\")\n",
    "#     else:\n",
    "#         content.append(j)\n",
    "        \n",
    "# for i in lines:\n",
    "#         temp =  \"<!--table_content-->\"+\"<tr>\"+ \"<td>\"+\n",
    "#         \"<table style=\"width:100%\" id=\"j_table\"><thead><tr><th>Text</th><th>Video</th></thead>\"+'\\n\\n'.join(lines) +\"</table>\"\n",
    "#         content.append(temp)\n",
    "#     else:\n",
    "#         content.append(j)\n",
    "            \n",
    "\n",
    "with open(md_path, \"w\") as file:\n",
    "        file.write(\"\\n\".join(content))"
   ]
  },
  {
   "cell_type": "code",
   "execution_count": null,
   "id": "0903dd75",
   "metadata": {},
   "outputs": [],
   "source": []
  },
  {
   "cell_type": "code",
   "execution_count": null,
   "id": "f30213c6",
   "metadata": {},
   "outputs": [],
   "source": []
  }
 ],
 "metadata": {
  "kernelspec": {
   "display_name": "Python 3 (ipykernel)",
   "language": "python",
   "name": "python3"
  },
  "language_info": {
   "codemirror_mode": {
    "name": "ipython",
    "version": 3
   },
   "file_extension": ".py",
   "mimetype": "text/x-python",
   "name": "python",
   "nbconvert_exporter": "python",
   "pygments_lexer": "ipython3",
   "version": "3.8.13"
  }
 },
 "nbformat": 4,
 "nbformat_minor": 5
}
