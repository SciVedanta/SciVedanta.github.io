{
 "cells": [
  {
   "cell_type": "code",
   "execution_count": 1,
   "id": "d4effa42",
   "metadata": {},
   "outputs": [],
   "source": [
    "playlist='PLOEjrfhKOlHnhogNTNhM72eKzCnq7-OZq'"
   ]
  },
  {
   "cell_type": "code",
   "execution_count": 3,
   "id": "b03f3290",
   "metadata": {},
   "outputs": [
    {
     "name": "stdout",
     "output_type": "stream",
     "text": [
      "Videos Retrieved: 18\n",
      "Found all the videos.\n"
     ]
    }
   ],
   "source": [
    "from youtubesearchpython import *\n",
    "url = 'https://www.youtube.com/playlist?list='+playlist\n",
    "playlist = Playlist(url)\n",
    "\n",
    "print(f'Videos Retrieved: {len(playlist.videos)}')\n",
    "\n",
    "while playlist.hasMoreVideos:\n",
    "    print('Getting more videos...')\n",
    "    playlist.getNextVideos()\n",
    "    print(f'Videos Retrieved: {len(playlist.videos)}')\n",
    "\n",
    "print('Found all the videos.')"
   ]
  },
  {
   "cell_type": "code",
   "execution_count": 7,
   "id": "72480304",
   "metadata": {},
   "outputs": [],
   "source": [
    "ids = [i['id'] for i in playlist.videos]"
   ]
  },
  {
   "cell_type": "code",
   "execution_count": 16,
   "id": "55ebec52",
   "metadata": {},
   "outputs": [],
   "source": [
    "from py_youtube import Data\n",
    "f=open('Sheet1.csv','w')\n",
    "f.write('Title,ID\\n')\n",
    "for i in playlist.videos:\n",
    "    id = i['id']\n",
    "    link = 'https://www.youtube.com/watch?v='+str(id)\n",
    "    data = Data(link).data()\n",
    "    #print(data)\n",
    "    title=i['title']\n",
    "    line=title+','+id+'\\n'\n",
    "    f.write(line)\n",
    "f.close()\n",
    "    "
   ]
  },
  {
   "cell_type": "code",
   "execution_count": 17,
   "id": "b0be8f90",
   "metadata": {},
   "outputs": [],
   "source": [
    "from youtube_transcript_api import YouTubeTranscriptApi\n",
    "\n",
    "def get_text(youtube_id=\"XhKdu1_m-k4\"):\n",
    "    try:\n",
    "        text = \" \".join(\n",
    "            [\n",
    "                i[\"text\"]\n",
    "                .replace(\"\\xa0\\xa0\", \" \")\n",
    "                .replace(\"\\n\", \"\")\n",
    "                .replace(\"\\xa0\", \" \")\n",
    "                for i in YouTubeTranscriptApi.get_transcript(youtube_id)\n",
    "            ]\n",
    "        )\n",
    "        return text\n",
    "    except:\n",
    "        print ('Failed for',youtube_id )\n",
    "        pass"
   ]
  },
  {
   "cell_type": "code",
   "execution_count": 18,
   "id": "6e06908c",
   "metadata": {},
   "outputs": [],
   "source": [
    "import pandas as pd\n",
    "df = pd.read_csv('Sheet1.csv')\n",
    "df = df[df['Title'].notnull()]"
   ]
  },
  {
   "cell_type": "code",
   "execution_count": 19,
   "id": "cf310199",
   "metadata": {},
   "outputs": [],
   "source": [
    "\n",
    "df['youtube_id']=df['ID'].apply(lambda x: str(x).split('&')[0].strip('!'))"
   ]
  },
  {
   "cell_type": "code",
   "execution_count": 20,
   "id": "e40de853",
   "metadata": {},
   "outputs": [
    {
     "name": "stderr",
     "output_type": "stream",
     "text": [
      " 28%|████████████████████████████████████████████████▌                                                                                                                              | 5/18 [00:04<00:11,  1.13it/s]"
     ]
    },
    {
     "name": "stdout",
     "output_type": "stream",
     "text": [
      "Failed for VhF0NPw4aww\n"
     ]
    },
    {
     "name": "stderr",
     "output_type": "stream",
     "text": [
      " 39%|████████████████████████████████████████████████████████████████████                                                                                                           | 7/18 [00:06<00:09,  1.12it/s]"
     ]
    },
    {
     "name": "stdout",
     "output_type": "stream",
     "text": [
      "Failed for iFVZmcbSviU\n"
     ]
    },
    {
     "name": "stderr",
     "output_type": "stream",
     "text": [
      "100%|██████████████████████████████████████████████████████████████████████████████████████████████████████████████████████████████████████████████████████████████████████████████| 18/18 [00:20<00:00,  1.16s/it]\n"
     ]
    }
   ],
   "source": [
    "from tqdm import tqdm\n",
    "tqdm.pandas()\n",
    "df['text'] = df['youtube_id'].progress_apply(lambda x:get_text(x))"
   ]
  },
  {
   "cell_type": "code",
   "execution_count": 21,
   "id": "356c5d8c",
   "metadata": {},
   "outputs": [
    {
     "data": {
      "text/html": [
       "<div>\n",
       "<style scoped>\n",
       "    .dataframe tbody tr th:only-of-type {\n",
       "        vertical-align: middle;\n",
       "    }\n",
       "\n",
       "    .dataframe tbody tr th {\n",
       "        vertical-align: top;\n",
       "    }\n",
       "\n",
       "    .dataframe thead th {\n",
       "        text-align: right;\n",
       "    }\n",
       "</style>\n",
       "<table border=\"1\" class=\"dataframe\">\n",
       "  <thead>\n",
       "    <tr style=\"text-align: right;\">\n",
       "      <th></th>\n",
       "      <th>Title</th>\n",
       "      <th>ID</th>\n",
       "      <th>youtube_id</th>\n",
       "      <th>text</th>\n",
       "    </tr>\n",
       "  </thead>\n",
       "  <tbody>\n",
       "    <tr>\n",
       "      <th>0</th>\n",
       "      <td>1. Ramayana: An Introduction</td>\n",
       "      <td>GB0hIiA5mDE</td>\n",
       "      <td>GB0hIiA5mDE</td>\n",
       "      <td>a wonderful meeting though we are in a very fa...</td>\n",
       "    </tr>\n",
       "    <tr>\n",
       "      <th>1</th>\n",
       "      <td>2. Ramayana: The Eternal Story Of An Eternal P...</td>\n",
       "      <td>ZZ24ld-hdQQ</td>\n",
       "      <td>ZZ24ld-hdQQ</td>\n",
       "      <td>said that when we will start this ramayana tha...</td>\n",
       "    </tr>\n",
       "    <tr>\n",
       "      <th>2</th>\n",
       "      <td>3. Ramayana: Dasaratha</td>\n",
       "      <td>oX6jrzsCW7o</td>\n",
       "      <td>oX6jrzsCW7o</td>\n",
       "      <td>[Music] [Applause] i salute the supreme lord h...</td>\n",
       "    </tr>\n",
       "    <tr>\n",
       "      <th>3</th>\n",
       "      <td>Ramayana 004 : The Three Queens</td>\n",
       "      <td>VhF0NPw4aww</td>\n",
       "      <td>VhF0NPw4aww</td>\n",
       "      <td>None</td>\n",
       "    </tr>\n",
       "    <tr>\n",
       "      <th>4</th>\n",
       "      <td>Ramayana 05 : Sri Rama On His Way To The Forest</td>\n",
       "      <td>Ro2Sluev_MI</td>\n",
       "      <td>Ro2Sluev_MI</td>\n",
       "      <td>ramachandra sri rama chandra he was the prince...</td>\n",
       "    </tr>\n",
       "    <tr>\n",
       "      <th>5</th>\n",
       "      <td>Ramayana 006 :</td>\n",
       "      <td>iFVZmcbSviU</td>\n",
       "      <td>iFVZmcbSviU</td>\n",
       "      <td>None</td>\n",
       "    </tr>\n",
       "    <tr>\n",
       "      <th>6</th>\n",
       "      <td>Ramayana 007 : Confusion in Ayodhya</td>\n",
       "      <td>xsK1OHgVPoE</td>\n",
       "      <td>xsK1OHgVPoE</td>\n",
       "      <td>who is also the embodiment of sri ramachandra ...</td>\n",
       "    </tr>\n",
       "    <tr>\n",
       "      <th>7</th>\n",
       "      <td>Ramayana 008 : Prince Bharata's Prudence</td>\n",
       "      <td>RBqjcsTSzSU</td>\n",
       "      <td>RBqjcsTSzSU</td>\n",
       "      <td>the good evening dear devotees of trinidad and...</td>\n",
       "    </tr>\n",
       "    <tr>\n",
       "      <th>8</th>\n",
       "      <td>Ramayana 009 : Prince Bharata's Pilgrimage To ...</td>\n",
       "      <td>Pral9yoRws4</td>\n",
       "      <td>Pral9yoRws4</td>\n",
       "      <td>i is the supreme lord hari known as rama the c...</td>\n",
       "    </tr>\n",
       "    <tr>\n",
       "      <th>9</th>\n",
       "      <td>Ramayana 010 :Pilgrimage To Rama</td>\n",
       "      <td>AGmiEc3_9os</td>\n",
       "      <td>AGmiEc3_9os</td>\n",
       "      <td>[Music] now we after the salutation to bhagava...</td>\n",
       "    </tr>\n",
       "    <tr>\n",
       "      <th>10</th>\n",
       "      <td>Ramayana 011</td>\n",
       "      <td>YQ708DhcPYc</td>\n",
       "      <td>YQ708DhcPYc</td>\n",
       "      <td>good night good night good day uh good evening...</td>\n",
       "    </tr>\n",
       "    <tr>\n",
       "      <th>11</th>\n",
       "      <td>Ramayana 012 : Bharata receives Rama's sandals</td>\n",
       "      <td>3CNBgfXxzuk</td>\n",
       "      <td>3CNBgfXxzuk</td>\n",
       "      <td>namaskar dear devotees and friends this evenin...</td>\n",
       "    </tr>\n",
       "    <tr>\n",
       "      <th>12</th>\n",
       "      <td>RAMAYANA 013 :”KING’s RESPONSIBILITIES”</td>\n",
       "      <td>LXJRqS59LTE</td>\n",
       "      <td>LXJRqS59LTE</td>\n",
       "      <td>so let us begin with this pranam mantra data [...</td>\n",
       "    </tr>\n",
       "    <tr>\n",
       "      <th>13</th>\n",
       "      <td>Ramayana 014:”Sri Rama in Panchavati”</td>\n",
       "      <td>-Q_pgxgPTEA</td>\n",
       "      <td>-Q_pgxgPTEA</td>\n",
       "      <td>[Music] i salute the supreme lord hari known a...</td>\n",
       "    </tr>\n",
       "    <tr>\n",
       "      <th>14</th>\n",
       "      <td>Ramayana 015 - “Surpanakha meets Sri Rama and ...</td>\n",
       "      <td>f3ayzSceCyo</td>\n",
       "      <td>f3ayzSceCyo</td>\n",
       "      <td>crucial it is a beautiful story but at the sam...</td>\n",
       "    </tr>\n",
       "    <tr>\n",
       "      <th>15</th>\n",
       "      <td>Ramayana 016 - “Sri Rama in Panchavati”</td>\n",
       "      <td>_Spq25D7pTk</td>\n",
       "      <td>_Spq25D7pTk</td>\n",
       "      <td>ramayana this is a beautiful scripture this ra...</td>\n",
       "    </tr>\n",
       "    <tr>\n",
       "      <th>16</th>\n",
       "      <td>Ramayana 017 - “Abduction of Sita.”</td>\n",
       "      <td>dZjaJE2Ua20</td>\n",
       "      <td>dZjaJE2Ua20</td>\n",
       "      <td>are now let us begin our ramayana study so as ...</td>\n",
       "    </tr>\n",
       "    <tr>\n",
       "      <th>17</th>\n",
       "      <td>18. Ramayana: “Sri Rama Accepts the Challenge”</td>\n",
       "      <td>vackYUk2ExQ</td>\n",
       "      <td>vackYUk2ExQ</td>\n",
       "      <td>foreign [Music] [Music] foreign that this is t...</td>\n",
       "    </tr>\n",
       "  </tbody>\n",
       "</table>\n",
       "</div>"
      ],
      "text/plain": [
       "                                                Title           ID  \\\n",
       "0                        1. Ramayana: An Introduction  GB0hIiA5mDE   \n",
       "1   2. Ramayana: The Eternal Story Of An Eternal P...  ZZ24ld-hdQQ   \n",
       "2                              3. Ramayana: Dasaratha  oX6jrzsCW7o   \n",
       "3                     Ramayana 004 : The Three Queens  VhF0NPw4aww   \n",
       "4     Ramayana 05 : Sri Rama On His Way To The Forest  Ro2Sluev_MI   \n",
       "5                                      Ramayana 006 :  iFVZmcbSviU   \n",
       "6                 Ramayana 007 : Confusion in Ayodhya  xsK1OHgVPoE   \n",
       "7            Ramayana 008 : Prince Bharata's Prudence  RBqjcsTSzSU   \n",
       "8   Ramayana 009 : Prince Bharata's Pilgrimage To ...  Pral9yoRws4   \n",
       "9                    Ramayana 010 :Pilgrimage To Rama  AGmiEc3_9os   \n",
       "10                                       Ramayana 011  YQ708DhcPYc   \n",
       "11     Ramayana 012 : Bharata receives Rama's sandals  3CNBgfXxzuk   \n",
       "12            RAMAYANA 013 :”KING’s RESPONSIBILITIES”  LXJRqS59LTE   \n",
       "13              Ramayana 014:”Sri Rama in Panchavati”  -Q_pgxgPTEA   \n",
       "14  Ramayana 015 - “Surpanakha meets Sri Rama and ...  f3ayzSceCyo   \n",
       "15            Ramayana 016 - “Sri Rama in Panchavati”  _Spq25D7pTk   \n",
       "16                Ramayana 017 - “Abduction of Sita.”  dZjaJE2Ua20   \n",
       "17     18. Ramayana: “Sri Rama Accepts the Challenge”  vackYUk2ExQ   \n",
       "\n",
       "     youtube_id                                               text  \n",
       "0   GB0hIiA5mDE  a wonderful meeting though we are in a very fa...  \n",
       "1   ZZ24ld-hdQQ  said that when we will start this ramayana tha...  \n",
       "2   oX6jrzsCW7o  [Music] [Applause] i salute the supreme lord h...  \n",
       "3   VhF0NPw4aww                                               None  \n",
       "4   Ro2Sluev_MI  ramachandra sri rama chandra he was the prince...  \n",
       "5   iFVZmcbSviU                                               None  \n",
       "6   xsK1OHgVPoE  who is also the embodiment of sri ramachandra ...  \n",
       "7   RBqjcsTSzSU  the good evening dear devotees of trinidad and...  \n",
       "8   Pral9yoRws4  i is the supreme lord hari known as rama the c...  \n",
       "9   AGmiEc3_9os  [Music] now we after the salutation to bhagava...  \n",
       "10  YQ708DhcPYc  good night good night good day uh good evening...  \n",
       "11  3CNBgfXxzuk  namaskar dear devotees and friends this evenin...  \n",
       "12  LXJRqS59LTE  so let us begin with this pranam mantra data [...  \n",
       "13  -Q_pgxgPTEA  [Music] i salute the supreme lord hari known a...  \n",
       "14  f3ayzSceCyo  crucial it is a beautiful story but at the sam...  \n",
       "15  _Spq25D7pTk  ramayana this is a beautiful scripture this ra...  \n",
       "16  dZjaJE2Ua20  are now let us begin our ramayana study so as ...  \n",
       "17  vackYUk2ExQ  foreign [Music] [Music] foreign that this is t...  "
      ]
     },
     "execution_count": 21,
     "metadata": {},
     "output_type": "execute_result"
    }
   ],
   "source": [
    "df"
   ]
  },
  {
   "cell_type": "code",
   "execution_count": 22,
   "id": "88e2cd51",
   "metadata": {},
   "outputs": [],
   "source": [
    "lines=[]\n",
    "filenames=[]\n",
    "temp='<!--table_content--><table style=\"width:100%\" id=\"j_table\">'+ \"<thead><tr>\"+ \"<th>Text</th>\"+ \"<th>Video</th>\"+ \"</tr></thead>\"\n",
    "for i,ii in df.iterrows():\n",
    "    page = int(ii.name)+1  #ii['Unnamed: 0']\n",
    "    text = ii['text']\n",
    "    if text is not None:\n",
    "        #print('text',text)\n",
    "        filename='Video-'+str(page)+'.md'\n",
    "        filename2='Video-'+str(page)\n",
    "        #print (filename)\n",
    "        f=open(filename,'w')\n",
    "        line='['+ii['Title']+']('+'https://www.youtube.com/watch?v='+str(ii['ID'].split('&')[0].strip('!'))+')' \n",
    "        line2='['+ii['Title']+'](./'+filename2 +')'\n",
    "        \n",
    "        \n",
    "        \n",
    "        #temp+='<tr>'+'<td>'+line2+'</td>'+'<td>'+line+'</td>'+'</tr>'\n",
    "        part1='<a href=\"'+'./'+filename2+' \"'+' target=\"_black\"> '+ii['Title']+'</a>'\n",
    "        part2='<a href=\"'+ 'https://www.youtube.com/watch?v='+str(ii['ID'].split('&')[0].strip('!'))  +' \"'+' target=\"_black\"> '+'YouTube'+'</a>'\n",
    "        temp+='<tr>'+'<td>'+part1+'</td>'+'<td>'+part2+'</td>'+'</tr>'\n",
    "        lines.append(line2)\n",
    "        filenames.append(filename)\n",
    "        f.write(line+'\\n\\n')\n",
    "        f.write(text)\n",
    "        f.close()\n",
    "        #break"
   ]
  },
  {
   "cell_type": "code",
   "execution_count": 23,
   "id": "6ca9f51c",
   "metadata": {},
   "outputs": [
    {
     "data": {
      "text/plain": [
       "['[1. Ramayana: An Introduction](./Video-1)',\n",
       " '[2. Ramayana: The Eternal Story Of An Eternal Personality](./Video-2)',\n",
       " '[3. Ramayana: Dasaratha](./Video-3)',\n",
       " '[Ramayana 05 : Sri Rama On His Way To The Forest](./Video-5)',\n",
       " '[Ramayana 007 : Confusion in Ayodhya](./Video-7)',\n",
       " \"[Ramayana 008 : Prince Bharata's Prudence](./Video-8)\",\n",
       " \"[Ramayana 009 : Prince Bharata's Pilgrimage To Sri Rama](./Video-9)\",\n",
       " '[Ramayana 010 :Pilgrimage To Rama](./Video-10)',\n",
       " '[Ramayana 011](./Video-11)',\n",
       " \"[Ramayana 012 : Bharata receives Rama's sandals](./Video-12)\",\n",
       " '[RAMAYANA 013 :”KING’s RESPONSIBILITIES”](./Video-13)',\n",
       " '[Ramayana 014:”Sri Rama in Panchavati”](./Video-14)',\n",
       " '[Ramayana 015 - “Surpanakha meets Sri Rama and Lakshmana”](./Video-15)',\n",
       " '[Ramayana 016 - “Sri Rama in Panchavati”](./Video-16)',\n",
       " '[Ramayana 017 - “Abduction of Sita.”](./Video-17)',\n",
       " '[18. Ramayana: “Sri Rama Accepts the Challenge”](./Video-18)']"
      ]
     },
     "execution_count": 23,
     "metadata": {},
     "output_type": "execute_result"
    }
   ],
   "source": [
    "lines"
   ]
  },
  {
   "cell_type": "code",
   "execution_count": 24,
   "id": "5280e076",
   "metadata": {},
   "outputs": [],
   "source": [
    "md_path='index.md'\n",
    "with open(md_path, \"r\") as file:\n",
    "    filedata = file.read().splitlines()\n",
    "content = []\n",
    "\n",
    "content = ['\\n [Ramayana ](https://en.wikipedia.org/wiki/Ramayana) by [Swami Ishatmananda](https://chicagovedanta.org/swami_ishatmananda.html) \\n\\n<!--table_content-->\\n']\n",
    "# for j in filedata:\n",
    "#     if \"<!--table_content-->\" in j:\n",
    "#         content.append(\"<!--table_content-->\")\n",
    "#     else:\n",
    "#         content.append(j)\n",
    "with open(md_path, \"w\") as file:\n",
    "    file.write(\"\\n\".join(content))\n",
    "\n",
    "with open(md_path, \"r\") as file:\n",
    "    filedata = file.read().splitlines()\n",
    "    \n",
    "\n",
    "\n",
    "for j in filedata:\n",
    "    if \"<!--table_content-->\" in j:\n",
    "        content.append(\"<!--table_content-->\"+temp+\"</table>\")\n",
    "#     else:\n",
    "#         content.append(j)\n",
    "        \n",
    "# for i in lines:\n",
    "#         temp =  \"<!--table_content-->\"+\"<tr>\"+ \"<td>\"+\n",
    "#         \"<table style=\"width:100%\" id=\"j_table\"><thead><tr><th>Text</th><th>Video</th></thead>\"+'\\n\\n'.join(lines) +\"</table>\"\n",
    "#         content.append(temp)\n",
    "#     else:\n",
    "#         content.append(j)\n",
    "            \n",
    "\n",
    "with open(md_path, \"w\") as file:\n",
    "        file.write(\"\\n\".join(content))"
   ]
  },
  {
   "cell_type": "code",
   "execution_count": null,
   "id": "d50bf95c",
   "metadata": {},
   "outputs": [],
   "source": []
  }
 ],
 "metadata": {
  "kernelspec": {
   "display_name": "Python 3 (ipykernel)",
   "language": "python",
   "name": "python3"
  },
  "language_info": {
   "codemirror_mode": {
    "name": "ipython",
    "version": 3
   },
   "file_extension": ".py",
   "mimetype": "text/x-python",
   "name": "python",
   "nbconvert_exporter": "python",
   "pygments_lexer": "ipython3",
   "version": "3.8.13"
  }
 },
 "nbformat": 4,
 "nbformat_minor": 5
}
