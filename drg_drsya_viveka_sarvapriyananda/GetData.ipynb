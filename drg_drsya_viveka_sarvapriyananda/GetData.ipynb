{
 "cells": [
  {
   "cell_type": "code",
   "execution_count": 1,
   "id": "b9e0eafa",
   "metadata": {},
   "outputs": [],
   "source": [
    "#pip install youtube-transcript-api"
   ]
  },
  {
   "cell_type": "code",
   "execution_count": 1,
   "id": "031795b2",
   "metadata": {},
   "outputs": [],
   "source": [
    "from youtube_transcript_api import YouTubeTranscriptApi\n",
    "\n",
    "def get_text(youtube_id=\"XhKdu1_m-k4\"):\n",
    "    try:\n",
    "        text = \" \".join(\n",
    "            [\n",
    "                i[\"text\"]\n",
    "                .replace(\"\\xa0\\xa0\", \" \")\n",
    "                .replace(\"\\n\", \"\")\n",
    "                .replace(\"\\xa0\", \" \")\n",
    "                for i in YouTubeTranscriptApi.get_transcript(youtube_id)\n",
    "            ]\n",
    "        )\n",
    "        return text\n",
    "    except:\n",
    "        print ('Failed for',youtube_id )\n",
    "        pass\n"
   ]
  },
  {
   "cell_type": "code",
   "execution_count": 2,
   "id": "dd99d435",
   "metadata": {},
   "outputs": [],
   "source": [
    "import pandas as pd\n",
    "df = pd.read_csv('Sheet1.csv')\n",
    "df = df[df['Title'].notnull()]"
   ]
  },
  {
   "cell_type": "code",
   "execution_count": 3,
   "id": "5f3f9ac2",
   "metadata": {},
   "outputs": [],
   "source": [
    "df['youtube_id']=df['ID'].apply(lambda x: str(x).split('&')[0].strip('!'))"
   ]
  },
  {
   "cell_type": "code",
   "execution_count": 4,
   "id": "a3b78e35",
   "metadata": {},
   "outputs": [
    {
     "name": "stderr",
     "output_type": "stream",
     "text": [
      " 58%|██████████████████████████████████████████████████████████████████████████████████████████████████████                                                                         | 7/12 [00:07<00:05,  1.09s/it]"
     ]
    },
    {
     "name": "stdout",
     "output_type": "stream",
     "text": [
      "Failed for QOheqKTZxt4\n"
     ]
    },
    {
     "name": "stderr",
     "output_type": "stream",
     "text": [
      "100%|██████████████████████████████████████████████████████████████████████████████████████████████████████████████████████████████████████████████████████████████████████████████| 12/12 [00:15<00:00,  1.26s/it]\n"
     ]
    }
   ],
   "source": [
    "from tqdm import tqdm\n",
    "tqdm.pandas()\n",
    "df['text'] = df['youtube_id'].progress_apply(lambda x:get_text(x))"
   ]
  },
  {
   "cell_type": "code",
   "execution_count": 5,
   "id": "5b372781",
   "metadata": {},
   "outputs": [
    {
     "data": {
      "text/html": [
       "<div>\n",
       "<style scoped>\n",
       "    .dataframe tbody tr th:only-of-type {\n",
       "        vertical-align: middle;\n",
       "    }\n",
       "\n",
       "    .dataframe tbody tr th {\n",
       "        vertical-align: top;\n",
       "    }\n",
       "\n",
       "    .dataframe thead th {\n",
       "        text-align: right;\n",
       "    }\n",
       "</style>\n",
       "<table border=\"1\" class=\"dataframe\">\n",
       "  <thead>\n",
       "    <tr style=\"text-align: right;\">\n",
       "      <th></th>\n",
       "      <th>Title</th>\n",
       "      <th>ID</th>\n",
       "      <th>youtube_id</th>\n",
       "      <th>text</th>\n",
       "    </tr>\n",
       "  </thead>\n",
       "  <tbody>\n",
       "    <tr>\n",
       "      <th>0</th>\n",
       "      <td>Introduction to Vedanta Part 1 - Swami Sarvapr...</td>\n",
       "      <td>jx7O2zDqi6I&amp;list=PLDqahtm2vA728mT-GFH6F-vN2YsS...</td>\n",
       "      <td>jx7O2zDqi6I</td>\n",
       "      <td>Umaga vittles of an open up to civilian kuruva...</td>\n",
       "    </tr>\n",
       "    <tr>\n",
       "      <th>1</th>\n",
       "      <td>Introduction to Vedanta Part 2 - Swami Sarvapr...</td>\n",
       "      <td>m6kALQlK6-Q&amp;list=PLDqahtm2vA728mT-GFH6F-vN2YsS...</td>\n",
       "      <td>m6kALQlK6-Q</td>\n",
       "      <td>um seven oggela to her no luck - sir Javie die...</td>\n",
       "    </tr>\n",
       "    <tr>\n",
       "      <th>2</th>\n",
       "      <td>Introduction to Vedanta Part 3 - Swami Sarvapr...</td>\n",
       "      <td>Bxvc4eL3tag&amp;list=PLDqahtm2vA728mT-GFH6F-vN2YsS...</td>\n",
       "      <td>Bxvc4eL3tag</td>\n",
       "      <td>homes on over to safonovo knock - so javi diem...</td>\n",
       "    </tr>\n",
       "    <tr>\n",
       "      <th>3</th>\n",
       "      <td>Introduction to Vedanta Part 4 - Swami Sarvapr...</td>\n",
       "      <td>ASH1rD2jOXk&amp;list=PLDqahtm2vA728mT-GFH6F-vN2YsS...</td>\n",
       "      <td>ASH1rD2jOXk</td>\n",
       "      <td>you homes on all the vittles safonovo knock to...</td>\n",
       "    </tr>\n",
       "    <tr>\n",
       "      <th>4</th>\n",
       "      <td>Introduction to Vedanta Part 5 - Swami Sarvapr...</td>\n",
       "      <td>AiDa_7Blimg&amp;list=PLDqahtm2vA728mT-GFH6F-vN2YsS...</td>\n",
       "      <td>AiDa_7Blimg</td>\n",
       "      <td>Umaga Virtusa ha no panic - sir Javed young cu...</td>\n",
       "    </tr>\n",
       "    <tr>\n",
       "      <th>5</th>\n",
       "      <td>Introduction to Vedanta Part 6 - Swami Sarvapr...</td>\n",
       "      <td>QOheqKTZxt4&amp;list=PLDqahtm2vA728mT-GFH6F-vN2YsS...</td>\n",
       "      <td>QOheqKTZxt4</td>\n",
       "      <td>None</td>\n",
       "    </tr>\n",
       "    <tr>\n",
       "      <th>6</th>\n",
       "      <td>Introduction to Vedanta Part 7 - Swami Sarvapr...</td>\n",
       "      <td>wmdxSh84EI8&amp;list=PLDqahtm2vA728mT-GFH6F-vN2YsS...</td>\n",
       "      <td>wmdxSh84EI8</td>\n",
       "      <td>Oh Sahana Vova dosa Honoka knocked OH Saahil i...</td>\n",
       "    </tr>\n",
       "    <tr>\n",
       "      <th>7</th>\n",
       "      <td>Introduction to Vedanta Part 8 - Swami Sarvapr...</td>\n",
       "      <td>bx9n8vccx38&amp;list=PLDqahtm2vA728mT-GFH6F-vN2YsS...</td>\n",
       "      <td>bx9n8vccx38</td>\n",
       "      <td>you you Oh son of a - AHA no panic - Sahabi di...</td>\n",
       "    </tr>\n",
       "    <tr>\n",
       "      <th>8</th>\n",
       "      <td>Introduction to Vedanta Part 9 - Swami Sarvapr...</td>\n",
       "      <td>k5BEuDPDUFc&amp;list=PLDqahtm2vA728mT-GFH6F-vN2YsS...</td>\n",
       "      <td>k5BEuDPDUFc</td>\n",
       "      <td>Oh Misato Mossad gamaya Thomas OMA Joe Teague ...</td>\n",
       "    </tr>\n",
       "    <tr>\n",
       "      <th>9</th>\n",
       "      <td>Introduction to Vedanta Part 10 - Swami Sarvap...</td>\n",
       "      <td>vrPnT5wHZak&amp;list=PLDqahtm2vA728mT-GFH6F-vN2YsS...</td>\n",
       "      <td>vrPnT5wHZak</td>\n",
       "      <td>esatto Mossad gamaya Thomas OMA Joe Teague Ama...</td>\n",
       "    </tr>\n",
       "    <tr>\n",
       "      <th>10</th>\n",
       "      <td>Introduction to Vedanta Part 11 - Swami Sarvap...</td>\n",
       "      <td>QefiN1Hss58&amp;list=PLDqahtm2vA728mT-GFH6F-vN2YsS...</td>\n",
       "      <td>QefiN1Hss58</td>\n",
       "      <td>you it's nice to see that so many people have ...</td>\n",
       "    </tr>\n",
       "    <tr>\n",
       "      <th>11</th>\n",
       "      <td>Introduction to Vedanta Part 12 (Final) - Swam...</td>\n",
       "      <td>SaMsBTLarec&amp;list=PLDqahtm2vA728mT-GFH6F-vN2YsS...</td>\n",
       "      <td>SaMsBTLarec</td>\n",
       "      <td>Oh Misato Mossad gamma yah Thomas OMA Joe dear...</td>\n",
       "    </tr>\n",
       "  </tbody>\n",
       "</table>\n",
       "</div>"
      ],
      "text/plain": [
       "                                                Title  \\\n",
       "0   Introduction to Vedanta Part 1 - Swami Sarvapr...   \n",
       "1   Introduction to Vedanta Part 2 - Swami Sarvapr...   \n",
       "2   Introduction to Vedanta Part 3 - Swami Sarvapr...   \n",
       "3   Introduction to Vedanta Part 4 - Swami Sarvapr...   \n",
       "4   Introduction to Vedanta Part 5 - Swami Sarvapr...   \n",
       "5   Introduction to Vedanta Part 6 - Swami Sarvapr...   \n",
       "6   Introduction to Vedanta Part 7 - Swami Sarvapr...   \n",
       "7   Introduction to Vedanta Part 8 - Swami Sarvapr...   \n",
       "8   Introduction to Vedanta Part 9 - Swami Sarvapr...   \n",
       "9   Introduction to Vedanta Part 10 - Swami Sarvap...   \n",
       "10  Introduction to Vedanta Part 11 - Swami Sarvap...   \n",
       "11  Introduction to Vedanta Part 12 (Final) - Swam...   \n",
       "\n",
       "                                                   ID   youtube_id  \\\n",
       "0   jx7O2zDqi6I&list=PLDqahtm2vA728mT-GFH6F-vN2YsS...  jx7O2zDqi6I   \n",
       "1   m6kALQlK6-Q&list=PLDqahtm2vA728mT-GFH6F-vN2YsS...  m6kALQlK6-Q   \n",
       "2   Bxvc4eL3tag&list=PLDqahtm2vA728mT-GFH6F-vN2YsS...  Bxvc4eL3tag   \n",
       "3   ASH1rD2jOXk&list=PLDqahtm2vA728mT-GFH6F-vN2YsS...  ASH1rD2jOXk   \n",
       "4   AiDa_7Blimg&list=PLDqahtm2vA728mT-GFH6F-vN2YsS...  AiDa_7Blimg   \n",
       "5   QOheqKTZxt4&list=PLDqahtm2vA728mT-GFH6F-vN2YsS...  QOheqKTZxt4   \n",
       "6   wmdxSh84EI8&list=PLDqahtm2vA728mT-GFH6F-vN2YsS...  wmdxSh84EI8   \n",
       "7   bx9n8vccx38&list=PLDqahtm2vA728mT-GFH6F-vN2YsS...  bx9n8vccx38   \n",
       "8   k5BEuDPDUFc&list=PLDqahtm2vA728mT-GFH6F-vN2YsS...  k5BEuDPDUFc   \n",
       "9   vrPnT5wHZak&list=PLDqahtm2vA728mT-GFH6F-vN2YsS...  vrPnT5wHZak   \n",
       "10  QefiN1Hss58&list=PLDqahtm2vA728mT-GFH6F-vN2YsS...  QefiN1Hss58   \n",
       "11  SaMsBTLarec&list=PLDqahtm2vA728mT-GFH6F-vN2YsS...  SaMsBTLarec   \n",
       "\n",
       "                                                 text  \n",
       "0   Umaga vittles of an open up to civilian kuruva...  \n",
       "1   um seven oggela to her no luck - sir Javie die...  \n",
       "2   homes on over to safonovo knock - so javi diem...  \n",
       "3   you homes on all the vittles safonovo knock to...  \n",
       "4   Umaga Virtusa ha no panic - sir Javed young cu...  \n",
       "5                                                None  \n",
       "6   Oh Sahana Vova dosa Honoka knocked OH Saahil i...  \n",
       "7   you you Oh son of a - AHA no panic - Sahabi di...  \n",
       "8   Oh Misato Mossad gamaya Thomas OMA Joe Teague ...  \n",
       "9   esatto Mossad gamaya Thomas OMA Joe Teague Ama...  \n",
       "10  you it's nice to see that so many people have ...  \n",
       "11  Oh Misato Mossad gamma yah Thomas OMA Joe dear...  "
      ]
     },
     "execution_count": 5,
     "metadata": {},
     "output_type": "execute_result"
    }
   ],
   "source": [
    "df"
   ]
  },
  {
   "cell_type": "code",
   "execution_count": 6,
   "id": "b2bdb4be",
   "metadata": {},
   "outputs": [],
   "source": [
    "lines=[]\n",
    "filenames=[]\n",
    "temp='<!--table_content--><table style=\"width:100%\" id=\"j_table\">'+ \"<thead><tr>\"+ \"<th>Text</th>\"+ \"<th>Video</th>\"+ \"</tr></thead>\"\n",
    "for i,ii in df.iterrows():\n",
    "    page = int(ii.name)+1  #ii['Unnamed: 0']\n",
    "    text = ii['text']\n",
    "    if text is not None:\n",
    "        #print('text',text)\n",
    "        filename='Video-'+str(page)+'.md'\n",
    "        filename2='Video-'+str(page)\n",
    "        #print (filename)\n",
    "        f=open(filename,'w')\n",
    "        line='['+ii['Title']+']('+'https://www.youtube.com/watch?v='+str(ii['ID'].split('&')[0].strip('!'))+')' \n",
    "        line2='['+ii['Title']+'](./'+filename2 +')'\n",
    "        \n",
    "        \n",
    "        \n",
    "        #temp+='<tr>'+'<td>'+line2+'</td>'+'<td>'+line+'</td>'+'</tr>'\n",
    "        part1='<a href=\"'+'./'+filename2+' \"'+' target=\"_black\"> '+ii['Title']+'</a>'\n",
    "        part2='<a href=\"'+ 'https://www.youtube.com/watch?v='+str(ii['ID'].split('&')[0].strip('!'))  +' \"'+' target=\"_black\"> '+'YouTube'+'</a>'\n",
    "        temp+='<tr>'+'<td>'+part1+'</td>'+'<td>'+part2+'</td>'+'</tr>'\n",
    "        lines.append(line2)\n",
    "        filenames.append(filename)\n",
    "        f.write(line+'\\n\\n')\n",
    "        f.write(text)\n",
    "        f.close()\n",
    "        #break"
   ]
  },
  {
   "cell_type": "code",
   "execution_count": 8,
   "id": "08667ad6",
   "metadata": {},
   "outputs": [
    {
     "data": {
      "text/plain": [
       "['[Introduction to Vedanta Part 1 - Swami Sarvapriyananda - January 12 2016](./Video-1)',\n",
       " '[Introduction to Vedanta Part 2 - Swami Sarvapriyananda - January 19, 2016](./Video-2)',\n",
       " '[Introduction to Vedanta Part 3 - Swami Sarvapriyananda - February 02 2016](./Video-3)',\n",
       " '[Introduction to Vedanta Part 4 - Swami Sarvapriyananda - February 16 2016](./Video-4)',\n",
       " '[Introduction to Vedanta Part 5 - Swami Sarvapriyananda - March 15, 2016](./Video-5)',\n",
       " '[Introduction to Vedanta Part 7 - Swami Sarvapriyananda - April 19, 2016](./Video-7)',\n",
       " '[Introduction to Vedanta Part 8 - Swami Sarvapriyananda - April 26, 2016](./Video-8)',\n",
       " '[Introduction to Vedanta Part 9 - Swami Sarvapriyananda - May 17, 2016](./Video-9)',\n",
       " '[Introduction to Vedanta Part 10 - Swami Sarvapriyananda - May 24, 2016](./Video-10)',\n",
       " '[Introduction to Vedanta Part 11 - Swami Sarvapriyananda - June 21, 2016](./Video-11)',\n",
       " '[Introduction to Vedanta Part 12 (Final) - Swami Sarvapriyananda - June 28 2016](./Video-12)']"
      ]
     },
     "execution_count": 8,
     "metadata": {},
     "output_type": "execute_result"
    }
   ],
   "source": [
    "lines"
   ]
  },
  {
   "cell_type": "code",
   "execution_count": 10,
   "id": "08a62f97",
   "metadata": {},
   "outputs": [],
   "source": [
    "md_path='index.md'\n",
    "with open(md_path, \"r\") as file:\n",
    "    filedata = file.read().splitlines()\n",
    "content = []\n",
    "\n",
    "content = ['\\n [The Drg Drsya Viveka](https://en.wikipedia.org/wiki/D%E1%B9%9Bg-D%E1%B9%9B%C5%9Bya-Viveka) by [Swami Sarvapriyananda](https://en.wikipedia.org/wiki/Swami_Sarvapriyananda) \\n\\n<!--table_content-->\\n']\n",
    "# for j in filedata:\n",
    "#     if \"<!--table_content-->\" in j:\n",
    "#         content.append(\"<!--table_content-->\")\n",
    "#     else:\n",
    "#         content.append(j)\n",
    "with open(md_path, \"w\") as file:\n",
    "    file.write(\"\\n\".join(content))\n",
    "\n",
    "with open(md_path, \"r\") as file:\n",
    "    filedata = file.read().splitlines()\n",
    "    \n",
    "\n",
    "\n",
    "for j in filedata:\n",
    "    if \"<!--table_content-->\" in j:\n",
    "        content.append(\"<!--table_content-->\"+temp+\"</table>\")\n",
    "#     else:\n",
    "#         content.append(j)\n",
    "        \n",
    "# for i in lines:\n",
    "#         temp =  \"<!--table_content-->\"+\"<tr>\"+ \"<td>\"+\n",
    "#         \"<table style=\"width:100%\" id=\"j_table\"><thead><tr><th>Text</th><th>Video</th></thead>\"+'\\n\\n'.join(lines) +\"</table>\"\n",
    "#         content.append(temp)\n",
    "#     else:\n",
    "#         content.append(j)\n",
    "            \n",
    "\n",
    "with open(md_path, \"w\") as file:\n",
    "        file.write(\"\\n\".join(content))"
   ]
  },
  {
   "cell_type": "code",
   "execution_count": null,
   "id": "0903dd75",
   "metadata": {},
   "outputs": [],
   "source": []
  },
  {
   "cell_type": "code",
   "execution_count": null,
   "id": "f30213c6",
   "metadata": {},
   "outputs": [],
   "source": []
  }
 ],
 "metadata": {
  "kernelspec": {
   "display_name": "Python 3 (ipykernel)",
   "language": "python",
   "name": "python3"
  },
  "language_info": {
   "codemirror_mode": {
    "name": "ipython",
    "version": 3
   },
   "file_extension": ".py",
   "mimetype": "text/x-python",
   "name": "python",
   "nbconvert_exporter": "python",
   "pygments_lexer": "ipython3",
   "version": "3.8.13"
  }
 },
 "nbformat": 4,
 "nbformat_minor": 5
}
