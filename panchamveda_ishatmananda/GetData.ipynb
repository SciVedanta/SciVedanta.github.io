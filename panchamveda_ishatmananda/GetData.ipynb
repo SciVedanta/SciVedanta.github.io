{
 "cells": [
  {
   "cell_type": "code",
   "execution_count": 1,
   "id": "b9e0eafa",
   "metadata": {},
   "outputs": [],
   "source": [
    "#pip install youtube-transcript-api"
   ]
  },
  {
   "cell_type": "code",
   "execution_count": 7,
   "id": "031795b2",
   "metadata": {},
   "outputs": [],
   "source": [
    "from youtube_transcript_api import YouTubeTranscriptApi\n",
    "\n",
    "def get_text(youtube_id=\"XhKdu1_m-k4\"):\n",
    "    try:\n",
    "        text = \" \".join(\n",
    "            [\n",
    "                i[\"text\"]\n",
    "                .replace(\"\\xa0\\xa0\", \" \")\n",
    "                .replace(\"\\n\", \"\")\n",
    "                .replace(\"\\xa0\", \" \")\n",
    "                for i in YouTubeTranscriptApi.get_transcript(youtube_id)\n",
    "            ]\n",
    "        )\n",
    "        return text\n",
    "    except:\n",
    "        print ('Failed for',youtube_id )\n",
    "        pass\n"
   ]
  },
  {
   "cell_type": "code",
   "execution_count": 8,
   "id": "83f8a9d5",
   "metadata": {},
   "outputs": [
    {
     "data": {
      "text/html": [
       "<div>\n",
       "<style scoped>\n",
       "    .dataframe tbody tr th:only-of-type {\n",
       "        vertical-align: middle;\n",
       "    }\n",
       "\n",
       "    .dataframe tbody tr th {\n",
       "        vertical-align: top;\n",
       "    }\n",
       "\n",
       "    .dataframe thead th {\n",
       "        text-align: right;\n",
       "    }\n",
       "</style>\n",
       "<table border=\"1\" class=\"dataframe\">\n",
       "  <thead>\n",
       "    <tr style=\"text-align: right;\">\n",
       "      <th></th>\n",
       "      <th>Title</th>\n",
       "      <th>ID</th>\n",
       "      <th>youtube_id</th>\n",
       "    </tr>\n",
       "  </thead>\n",
       "  <tbody>\n",
       "    <tr>\n",
       "      <th>0</th>\n",
       "      <td>1. Panchama Veda : The Gospel of Sri Ramakrishna</td>\n",
       "      <td>XhKdu1_m-k4&amp;t</td>\n",
       "      <td>XhKdu1_m-k4</td>\n",
       "    </tr>\n",
       "    <tr>\n",
       "      <th>1</th>\n",
       "      <td>2. Panchama Veda: The Gospel of Sri Ramakrishna</td>\n",
       "      <td>wyCYJMk4uWo&amp;list=PLOEjrfhKOlHluaG8U4dhX6FREjS2...</td>\n",
       "      <td>wyCYJMk4uWo</td>\n",
       "    </tr>\n",
       "    <tr>\n",
       "      <th>2</th>\n",
       "      <td>3. Panchama Veda 03: The Gospel of Sri Ramakri...</td>\n",
       "      <td>76WxzDsV1JQ&amp;list=PLHJYQbWR4-c4TlN3zAsqGrJu3wEj...</td>\n",
       "      <td>76WxzDsV1JQ</td>\n",
       "    </tr>\n",
       "    <tr>\n",
       "      <th>3</th>\n",
       "      <td>4. Panchama Veda 04: The Gospel of Sri Ramakri...</td>\n",
       "      <td>Jbug2IqKn0M&amp;list=PLHJYQbWR4-c4TlN3zAsqGrJu3wEj...</td>\n",
       "      <td>Jbug2IqKn0M</td>\n",
       "    </tr>\n",
       "    <tr>\n",
       "      <th>4</th>\n",
       "      <td>5.  Panchama Veda 05: The Gospel of Sri Ramakr...</td>\n",
       "      <td>kpxAtDngGN8&amp;list=PLHJYQbWR4-c4TlN3zAsqGrJu3wEj...</td>\n",
       "      <td>kpxAtDngGN8</td>\n",
       "    </tr>\n",
       "    <tr>\n",
       "      <th>...</th>\n",
       "      <td>...</td>\n",
       "      <td>...</td>\n",
       "      <td>...</td>\n",
       "    </tr>\n",
       "    <tr>\n",
       "      <th>393</th>\n",
       "      <td>394. Panchama Veda - “God Surely Listen To Pra...</td>\n",
       "      <td>5dQVy1_om_E&amp;list=PLOEjrfhKOlHluaG8U4dhX6FREjS2...</td>\n",
       "      <td>5dQVy1_om_E</td>\n",
       "    </tr>\n",
       "    <tr>\n",
       "      <th>394</th>\n",
       "      <td>395. Panchama Veda - \"Stages of Sadhana”</td>\n",
       "      <td>GFoSfxt4MSQ&amp;list=PLOEjrfhKOlHluaG8U4dhX6FREjS2...</td>\n",
       "      <td>GFoSfxt4MSQ</td>\n",
       "    </tr>\n",
       "    <tr>\n",
       "      <th>395</th>\n",
       "      <td>396. Panchama Veda - “Take Shelter With God An...</td>\n",
       "      <td>kGLQwCF-_0c&amp;list=PLOEjrfhKOlHluaG8U4dhX6FREjS2...</td>\n",
       "      <td>kGLQwCF-_0c</td>\n",
       "    </tr>\n",
       "    <tr>\n",
       "      <th>396</th>\n",
       "      <td>397. Panchama Veda - “Do Incarnations Of God H...</td>\n",
       "      <td>R5VaUy_1Muo&amp;list=PLOEjrfhKOlHluaG8U4dhX6FREjS2...</td>\n",
       "      <td>R5VaUy_1Muo</td>\n",
       "    </tr>\n",
       "    <tr>\n",
       "      <th>397</th>\n",
       "      <td>398. Panchama Veda - “If a man gathers his who...</td>\n",
       "      <td>IztcOR4o_Qc&amp;list=PLOEjrfhKOlHluaG8U4dhX6FREjS2...</td>\n",
       "      <td>IztcOR4o_Qc</td>\n",
       "    </tr>\n",
       "  </tbody>\n",
       "</table>\n",
       "<p>341 rows × 3 columns</p>\n",
       "</div>"
      ],
      "text/plain": [
       "                                                 Title  \\\n",
       "0     1. Panchama Veda : The Gospel of Sri Ramakrishna   \n",
       "1      2. Panchama Veda: The Gospel of Sri Ramakrishna   \n",
       "2    3. Panchama Veda 03: The Gospel of Sri Ramakri...   \n",
       "3    4. Panchama Veda 04: The Gospel of Sri Ramakri...   \n",
       "4    5.  Panchama Veda 05: The Gospel of Sri Ramakr...   \n",
       "..                                                 ...   \n",
       "393  394. Panchama Veda - “God Surely Listen To Pra...   \n",
       "394           395. Panchama Veda - \"Stages of Sadhana”   \n",
       "395  396. Panchama Veda - “Take Shelter With God An...   \n",
       "396  397. Panchama Veda - “Do Incarnations Of God H...   \n",
       "397  398. Panchama Veda - “If a man gathers his who...   \n",
       "\n",
       "                                                    ID   youtube_id  \n",
       "0                                        XhKdu1_m-k4&t  XhKdu1_m-k4  \n",
       "1    wyCYJMk4uWo&list=PLOEjrfhKOlHluaG8U4dhX6FREjS2...  wyCYJMk4uWo  \n",
       "2    76WxzDsV1JQ&list=PLHJYQbWR4-c4TlN3zAsqGrJu3wEj...  76WxzDsV1JQ  \n",
       "3    Jbug2IqKn0M&list=PLHJYQbWR4-c4TlN3zAsqGrJu3wEj...  Jbug2IqKn0M  \n",
       "4    kpxAtDngGN8&list=PLHJYQbWR4-c4TlN3zAsqGrJu3wEj...  kpxAtDngGN8  \n",
       "..                                                 ...          ...  \n",
       "393  5dQVy1_om_E&list=PLOEjrfhKOlHluaG8U4dhX6FREjS2...  5dQVy1_om_E  \n",
       "394  GFoSfxt4MSQ&list=PLOEjrfhKOlHluaG8U4dhX6FREjS2...  GFoSfxt4MSQ  \n",
       "395  kGLQwCF-_0c&list=PLOEjrfhKOlHluaG8U4dhX6FREjS2...  kGLQwCF-_0c  \n",
       "396  R5VaUy_1Muo&list=PLOEjrfhKOlHluaG8U4dhX6FREjS2...  R5VaUy_1Muo  \n",
       "397  IztcOR4o_Qc&list=PLOEjrfhKOlHluaG8U4dhX6FREjS2...  IztcOR4o_Qc  \n",
       "\n",
       "[341 rows x 3 columns]"
      ]
     },
     "execution_count": 8,
     "metadata": {},
     "output_type": "execute_result"
    }
   ],
   "source": [
    "df"
   ]
  },
  {
   "cell_type": "code",
   "execution_count": 9,
   "id": "dd99d435",
   "metadata": {},
   "outputs": [],
   "source": [
    "import pandas as pd\n",
    "df = pd.read_csv('Sheet2.csv')\n",
    "df = df[df['Title'].notnull()]"
   ]
  },
  {
   "cell_type": "code",
   "execution_count": 10,
   "id": "5f3f9ac2",
   "metadata": {},
   "outputs": [],
   "source": [
    "df['youtube_id']=df['ID'].apply(lambda x: str(x).split('&')[0].strip('!'))"
   ]
  },
  {
   "cell_type": "code",
   "execution_count": 11,
   "id": "a3b78e35",
   "metadata": {},
   "outputs": [
    {
     "name": "stderr",
     "output_type": "stream",
     "text": [
      "  2%|███                                                                                                                                                                           | 6/341 [00:05<05:41,  1.02s/it]"
     ]
    },
    {
     "name": "stdout",
     "output_type": "stream",
     "text": [
      "Failed for kpxAtDngGN8\n"
     ]
    },
    {
     "name": "stderr",
     "output_type": "stream",
     "text": [
      "  3%|████▌                                                                                                                                                                         | 9/341 [00:09<05:35,  1.01s/it]"
     ]
    },
    {
     "name": "stdout",
     "output_type": "stream",
     "text": [
      "Failed for 2_a6L9outH0\n"
     ]
    },
    {
     "name": "stderr",
     "output_type": "stream",
     "text": [
      "\r",
      "  3%|█████                                                                                                                                                                        | 10/341 [00:09<05:12,  1.06it/s]"
     ]
    },
    {
     "name": "stdout",
     "output_type": "stream",
     "text": [
      "Failed for kVzU28XlKfw\n"
     ]
    },
    {
     "name": "stderr",
     "output_type": "stream",
     "text": [
      "\r",
      "  3%|█████▌                                                                                                                                                                       | 11/341 [00:10<04:54,  1.12it/s]"
     ]
    },
    {
     "name": "stdout",
     "output_type": "stream",
     "text": [
      "Failed for -fxNMwgZwjY\n"
     ]
    },
    {
     "name": "stderr",
     "output_type": "stream",
     "text": [
      "  4%|███████                                                                                                                                                                      | 14/341 [00:14<05:30,  1.01s/it]"
     ]
    },
    {
     "name": "stdout",
     "output_type": "stream",
     "text": [
      "Failed for GVsfJxbqOOc\n"
     ]
    },
    {
     "name": "stderr",
     "output_type": "stream",
     "text": [
      "  5%|████████▌                                                                                                                                                                    | 17/341 [00:17<05:47,  1.07s/it]"
     ]
    },
    {
     "name": "stdout",
     "output_type": "stream",
     "text": [
      "Failed for dHO9wgKmFIM\n"
     ]
    },
    {
     "name": "stderr",
     "output_type": "stream",
     "text": [
      "  6%|█████████▋                                                                                                                                                                   | 19/341 [00:19<05:32,  1.03s/it]"
     ]
    },
    {
     "name": "stdout",
     "output_type": "stream",
     "text": [
      "Failed for C5yf2h0nirA\n"
     ]
    },
    {
     "name": "stderr",
     "output_type": "stream",
     "text": [
      "\r",
      "  6%|██████████▏                                                                                                                                                                  | 20/341 [00:20<05:51,  1.09s/it]"
     ]
    },
    {
     "name": "stdout",
     "output_type": "stream",
     "text": [
      "Failed for 8V6fyZWsTy0\n"
     ]
    },
    {
     "name": "stderr",
     "output_type": "stream",
     "text": [
      "\r",
      "  6%|██████████▋                                                                                                                                                                  | 21/341 [00:21<05:17,  1.01it/s]"
     ]
    },
    {
     "name": "stdout",
     "output_type": "stream",
     "text": [
      "Failed for _KEQjkAxihM\n"
     ]
    },
    {
     "name": "stderr",
     "output_type": "stream",
     "text": [
      "  7%|████████████▋                                                                                                                                                                | 25/341 [00:25<05:15,  1.00it/s]"
     ]
    },
    {
     "name": "stdout",
     "output_type": "stream",
     "text": [
      "Failed for ahPLpqJAY0A\n"
     ]
    },
    {
     "name": "stderr",
     "output_type": "stream",
     "text": [
      "  8%|█████████████▋                                                                                                                                                               | 27/341 [00:27<05:07,  1.02it/s]"
     ]
    },
    {
     "name": "stdout",
     "output_type": "stream",
     "text": [
      "Failed for uhZzJzmJpfg\n"
     ]
    },
    {
     "name": "stderr",
     "output_type": "stream",
     "text": [
      "\r",
      "  8%|██████████████▏                                                                                                                                                              | 28/341 [00:28<04:55,  1.06it/s]"
     ]
    },
    {
     "name": "stdout",
     "output_type": "stream",
     "text": [
      "Failed for cigbmPWNu0E\n"
     ]
    },
    {
     "name": "stderr",
     "output_type": "stream",
     "text": [
      "\r",
      "  9%|██████████████▋                                                                                                                                                              | 29/341 [00:29<04:54,  1.06it/s]"
     ]
    },
    {
     "name": "stdout",
     "output_type": "stream",
     "text": [
      "Failed for IYwxbiR4jEY\n"
     ]
    },
    {
     "name": "stderr",
     "output_type": "stream",
     "text": [
      "\r",
      "  9%|███████████████▏                                                                                                                                                             | 30/341 [00:30<04:30,  1.15it/s]"
     ]
    },
    {
     "name": "stdout",
     "output_type": "stream",
     "text": [
      "Failed for Q15Bk8GM_Ss\n"
     ]
    },
    {
     "name": "stderr",
     "output_type": "stream",
     "text": [
      " 11%|██████████████████▎                                                                                                                                                          | 36/341 [00:37<05:05,  1.00s/it]"
     ]
    },
    {
     "name": "stdout",
     "output_type": "stream",
     "text": [
      "Failed for iPnYpwGJC0M\n"
     ]
    },
    {
     "name": "stderr",
     "output_type": "stream",
     "text": [
      " 12%|████████████████████▎                                                                                                                                                        | 40/341 [00:41<05:09,  1.03s/it]"
     ]
    },
    {
     "name": "stdout",
     "output_type": "stream",
     "text": [
      "Failed for mWzJtDaI7QY\n"
     ]
    },
    {
     "name": "stderr",
     "output_type": "stream",
     "text": [
      " 12%|█████████████████████▎                                                                                                                                                       | 42/341 [00:43<04:59,  1.00s/it]"
     ]
    },
    {
     "name": "stdout",
     "output_type": "stream",
     "text": [
      "Failed for NAFRWJaSuJI\n"
     ]
    },
    {
     "name": "stderr",
     "output_type": "stream",
     "text": [
      "\r",
      " 13%|█████████████████████▊                                                                                                                                                       | 43/341 [00:44<04:35,  1.08it/s]"
     ]
    },
    {
     "name": "stdout",
     "output_type": "stream",
     "text": [
      "Failed for ilj4ixH2aM8\n"
     ]
    },
    {
     "name": "stderr",
     "output_type": "stream",
     "text": [
      " 14%|███████████████████████▊                                                                                                                                                     | 47/341 [00:48<04:52,  1.00it/s]"
     ]
    },
    {
     "name": "stdout",
     "output_type": "stream",
     "text": [
      "Failed for voqo7i20nxk\n"
     ]
    },
    {
     "name": "stderr",
     "output_type": "stream",
     "text": [
      " 14%|████████████████████████▊                                                                                                                                                    | 49/341 [00:50<04:31,  1.08it/s]"
     ]
    },
    {
     "name": "stdout",
     "output_type": "stream",
     "text": [
      "Failed for JgbjlYWGdKc\n"
     ]
    },
    {
     "name": "stderr",
     "output_type": "stream",
     "text": [
      " 17%|████████████████████████████▉                                                                                                                                                | 57/341 [00:59<04:57,  1.05s/it]"
     ]
    },
    {
     "name": "stdout",
     "output_type": "stream",
     "text": [
      "Failed for s9fO5pucMu8\n"
     ]
    },
    {
     "name": "stderr",
     "output_type": "stream",
     "text": [
      " 17%|█████████████████████████████▉                                                                                                                                               | 59/341 [01:01<04:29,  1.04it/s]"
     ]
    },
    {
     "name": "stdout",
     "output_type": "stream",
     "text": [
      "Failed for PZD0zdN4UIY\n"
     ]
    },
    {
     "name": "stderr",
     "output_type": "stream",
     "text": [
      "\r",
      " 18%|██████████████████████████████▍                                                                                                                                              | 60/341 [01:02<04:15,  1.10it/s]"
     ]
    },
    {
     "name": "stdout",
     "output_type": "stream",
     "text": [
      "Failed for 3nHV2LcWS7E\n"
     ]
    },
    {
     "name": "stderr",
     "output_type": "stream",
     "text": [
      "\r",
      " 18%|██████████████████████████████▉                                                                                                                                              | 61/341 [01:03<04:24,  1.06it/s]"
     ]
    },
    {
     "name": "stdout",
     "output_type": "stream",
     "text": [
      "Failed for yogciWykz14\n"
     ]
    },
    {
     "name": "stderr",
     "output_type": "stream",
     "text": [
      " 18%|███████████████████████████████▉                                                                                                                                             | 63/341 [01:05<04:12,  1.10it/s]"
     ]
    },
    {
     "name": "stdout",
     "output_type": "stream",
     "text": [
      "Failed for 0L5ErEAmYuM\n"
     ]
    },
    {
     "name": "stderr",
     "output_type": "stream",
     "text": [
      " 19%|████████████████████████████████▉                                                                                                                                            | 65/341 [01:13<10:11,  2.22s/it]"
     ]
    },
    {
     "name": "stdout",
     "output_type": "stream",
     "text": [
      "Failed for ozeIv-V5Za4\n"
     ]
    },
    {
     "name": "stderr",
     "output_type": "stream",
     "text": [
      "\r",
      " 19%|█████████████████████████████████▍                                                                                                                                           | 66/341 [01:14<08:12,  1.79s/it]"
     ]
    },
    {
     "name": "stdout",
     "output_type": "stream",
     "text": [
      "Failed for r6Cum5IVkn0\n"
     ]
    },
    {
     "name": "stderr",
     "output_type": "stream",
     "text": [
      " 20%|██████████████████████████████████▍                                                                                                                                          | 68/341 [01:16<06:32,  1.44s/it]"
     ]
    },
    {
     "name": "stdout",
     "output_type": "stream",
     "text": [
      "Failed for leTXbajmHOo\n"
     ]
    },
    {
     "name": "stderr",
     "output_type": "stream",
     "text": [
      " 21%|████████████████████████████████████▌                                                                                                                                        | 72/341 [01:21<05:22,  1.20s/it]"
     ]
    },
    {
     "name": "stdout",
     "output_type": "stream",
     "text": [
      "Failed for MXVg2eP4ziM\n"
     ]
    },
    {
     "name": "stderr",
     "output_type": "stream",
     "text": [
      " 22%|█████████████████████████████████████▌                                                                                                                                       | 74/341 [01:23<04:39,  1.05s/it]"
     ]
    },
    {
     "name": "stdout",
     "output_type": "stream",
     "text": [
      "Failed for lMKqQ4JtGn8\n"
     ]
    },
    {
     "name": "stderr",
     "output_type": "stream",
     "text": [
      " 23%|████████████████████████████████████████▌                                                                                                                                    | 80/341 [01:30<04:51,  1.12s/it]"
     ]
    },
    {
     "name": "stdout",
     "output_type": "stream",
     "text": [
      "Failed for 8TbJh6ulve4\n"
     ]
    },
    {
     "name": "stderr",
     "output_type": "stream",
     "text": [
      " 24%|██████████████████████████████████████████                                                                                                                                   | 83/341 [01:33<04:28,  1.04s/it]"
     ]
    },
    {
     "name": "stdout",
     "output_type": "stream",
     "text": [
      "Failed for TH5MPwrRd10\n"
     ]
    },
    {
     "name": "stderr",
     "output_type": "stream",
     "text": [
      " 25%|███████████████████████████████████████████                                                                                                                                  | 85/341 [01:35<04:15,  1.00it/s]"
     ]
    },
    {
     "name": "stdout",
     "output_type": "stream",
     "text": [
      "Failed for 2yec29T1i0M\n"
     ]
    },
    {
     "name": "stderr",
     "output_type": "stream",
     "text": [
      "\r",
      " 25%|███████████████████████████████████████████▋                                                                                                                                 | 86/341 [01:36<03:54,  1.09it/s]"
     ]
    },
    {
     "name": "stdout",
     "output_type": "stream",
     "text": [
      "Failed for GmflD7TsMu0\n"
     ]
    },
    {
     "name": "stderr",
     "output_type": "stream",
     "text": [
      "\r",
      " 26%|████████████████████████████████████████████▏                                                                                                                                | 87/341 [01:36<03:40,  1.15it/s]"
     ]
    },
    {
     "name": "stdout",
     "output_type": "stream",
     "text": [
      "Failed for VnpKdAk6EVE\n"
     ]
    },
    {
     "name": "stderr",
     "output_type": "stream",
     "text": [
      "\r",
      " 26%|████████████████████████████████████████████▋                                                                                                                                | 88/341 [01:37<03:36,  1.17it/s]"
     ]
    },
    {
     "name": "stdout",
     "output_type": "stream",
     "text": [
      "Failed for 67heG2NJp-s\n"
     ]
    },
    {
     "name": "stderr",
     "output_type": "stream",
     "text": [
      " 28%|█████████████████████████████████████████████████▏                                                                                                                           | 97/341 [01:48<04:17,  1.05s/it]"
     ]
    },
    {
     "name": "stdout",
     "output_type": "stream",
     "text": [
      "Failed for SPFTS_toWTc\n"
     ]
    },
    {
     "name": "stderr",
     "output_type": "stream",
     "text": [
      " 30%|███████████████████████████████████████████████████▍                                                                                                                        | 102/341 [01:53<03:57,  1.01it/s]"
     ]
    },
    {
     "name": "stdout",
     "output_type": "stream",
     "text": [
      "Failed for CpkvJSK9PNE\n"
     ]
    },
    {
     "name": "stderr",
     "output_type": "stream",
     "text": [
      "\r",
      " 30%|███████████████████████████████████████████████████▉                                                                                                                        | 103/341 [01:54<03:34,  1.11it/s]"
     ]
    },
    {
     "name": "stdout",
     "output_type": "stream",
     "text": [
      "Failed for Bk0xJdEDPpw\n"
     ]
    },
    {
     "name": "stderr",
     "output_type": "stream",
     "text": [
      "\r",
      " 30%|████████████████████████████████████████████████████▍                                                                                                                       | 104/341 [01:54<03:21,  1.18it/s]"
     ]
    },
    {
     "name": "stdout",
     "output_type": "stream",
     "text": [
      "Failed for OJvddcI28cU\n"
     ]
    },
    {
     "name": "stderr",
     "output_type": "stream",
     "text": [
      " 32%|██████████████████████████████████████████████████████▍                                                                                                                     | 108/341 [01:59<03:47,  1.02it/s]"
     ]
    },
    {
     "name": "stdout",
     "output_type": "stream",
     "text": [
      "Failed for QW4dGHTZZns\n"
     ]
    },
    {
     "name": "stderr",
     "output_type": "stream",
     "text": [
      " 35%|███████████████████████████████████████████████████████████▌                                                                                                                | 118/341 [02:10<04:06,  1.10s/it]"
     ]
    },
    {
     "name": "stdout",
     "output_type": "stream",
     "text": [
      "Failed for ySlZ898zwYg\n"
     ]
    },
    {
     "name": "stderr",
     "output_type": "stream",
     "text": [
      "\r",
      " 35%|████████████████████████████████████████████████████████████                                                                                                                | 119/341 [02:11<03:42,  1.00s/it]"
     ]
    },
    {
     "name": "stdout",
     "output_type": "stream",
     "text": [
      "Failed for yj7egoi-ktY\n"
     ]
    },
    {
     "name": "stderr",
     "output_type": "stream",
     "text": [
      " 47%|████████████████████████████████████████████████████████████████████████████████▏                                                                                           | 159/341 [03:13<03:17,  1.08s/it]"
     ]
    },
    {
     "name": "stdout",
     "output_type": "stream",
     "text": [
      "Failed for 68h-iWTEa8w\n"
     ]
    },
    {
     "name": "stderr",
     "output_type": "stream",
     "text": [
      " 47%|█████████████████████████████████████████████████████████████████████████████████▏                                                                                          | 161/341 [03:15<03:11,  1.07s/it]"
     ]
    },
    {
     "name": "stdout",
     "output_type": "stream",
     "text": [
      "Failed for VsOr68xWiDY\n"
     ]
    },
    {
     "name": "stderr",
     "output_type": "stream",
     "text": [
      " 48%|██████████████████████████████████████████████████████████████████████████████████▏                                                                                         | 163/341 [03:17<03:11,  1.07s/it]"
     ]
    },
    {
     "name": "stdout",
     "output_type": "stream",
     "text": [
      "Failed for eyaPSfgy5uA\n"
     ]
    },
    {
     "name": "stderr",
     "output_type": "stream",
     "text": [
      " 48%|███████████████████████████████████████████████████████████████████████████████████▏                                                                                        | 165/341 [03:19<02:51,  1.02it/s]"
     ]
    },
    {
     "name": "stdout",
     "output_type": "stream",
     "text": [
      "Failed for U04XppmEisE\n"
     ]
    },
    {
     "name": "stderr",
     "output_type": "stream",
     "text": [
      "\r",
      " 49%|███████████████████████████████████████████████████████████████████████████████████▋                                                                                        | 166/341 [03:20<02:41,  1.09it/s]"
     ]
    },
    {
     "name": "stdout",
     "output_type": "stream",
     "text": [
      "Failed for sfUZJFfY9N8\n"
     ]
    },
    {
     "name": "stderr",
     "output_type": "stream",
     "text": [
      " 73%|█████████████████████████████████████████████████████████████████████████████████████████████████████████████████████████████▌                                              | 249/341 [05:10<01:45,  1.15s/it]"
     ]
    },
    {
     "name": "stdout",
     "output_type": "stream",
     "text": [
      "Failed for 8In9I2GdM0o\n"
     ]
    },
    {
     "name": "stderr",
     "output_type": "stream",
     "text": [
      " 78%|██████████████████████████████████████████████████████████████████████████████████████████████████████████████████████████████████████▋                                     | 267/341 [05:32<01:21,  1.10s/it]"
     ]
    },
    {
     "name": "stdout",
     "output_type": "stream",
     "text": [
      "Failed for iR1U7Oz6iXw\n"
     ]
    },
    {
     "name": "stderr",
     "output_type": "stream",
     "text": [
      " 83%|███████████████████████████████████████████████████████████████████████████████████████████████████████████████████████████████████████████████▏                            | 284/341 [05:53<00:56,  1.01it/s]"
     ]
    },
    {
     "name": "stdout",
     "output_type": "stream",
     "text": [
      "Failed for 5D-xDa5usE\n"
     ]
    },
    {
     "name": "stderr",
     "output_type": "stream",
     "text": [
      " 94%|█████████████████████████████████████████████████████████████████████████████████████████████████████████████████████████████████████████████████████████████████▉          | 321/341 [06:40<00:20,  1.03s/it]"
     ]
    },
    {
     "name": "stdout",
     "output_type": "stream",
     "text": [
      "Failed for c_71P6PP_4\n"
     ]
    },
    {
     "name": "stderr",
     "output_type": "stream",
     "text": [
      " 97%|██████████████████████████████████████████████████████████████████████████████████████████████████████████████████████████████████████████████████████████████████████▍     | 330/341 [07:03<00:24,  2.23s/it]"
     ]
    },
    {
     "name": "stdout",
     "output_type": "stream",
     "text": [
      "Failed for LAIrPkU7C0\n"
     ]
    },
    {
     "name": "stderr",
     "output_type": "stream",
     "text": [
      "100%|████████████████████████████████████████████████████████████████████████████████████████████████████████████████████████████████████████████████████████████████████████████| 341/341 [07:19<00:00,  1.29s/it]\n"
     ]
    }
   ],
   "source": [
    "from tqdm import tqdm\n",
    "tqdm.pandas()\n",
    "df['text'] = df['youtube_id'].progress_apply(lambda x:get_text(x))"
   ]
  },
  {
   "cell_type": "code",
   "execution_count": 12,
   "id": "5b372781",
   "metadata": {},
   "outputs": [
    {
     "data": {
      "text/html": [
       "<div>\n",
       "<style scoped>\n",
       "    .dataframe tbody tr th:only-of-type {\n",
       "        vertical-align: middle;\n",
       "    }\n",
       "\n",
       "    .dataframe tbody tr th {\n",
       "        vertical-align: top;\n",
       "    }\n",
       "\n",
       "    .dataframe thead th {\n",
       "        text-align: right;\n",
       "    }\n",
       "</style>\n",
       "<table border=\"1\" class=\"dataframe\">\n",
       "  <thead>\n",
       "    <tr style=\"text-align: right;\">\n",
       "      <th></th>\n",
       "      <th>Title</th>\n",
       "      <th>ID</th>\n",
       "      <th>youtube_id</th>\n",
       "      <th>text</th>\n",
       "    </tr>\n",
       "  </thead>\n",
       "  <tbody>\n",
       "    <tr>\n",
       "      <th>0</th>\n",
       "      <td>1. Panchama Veda : The Gospel of Sri Ramakrishna</td>\n",
       "      <td>XhKdu1_m-k4&amp;t</td>\n",
       "      <td>XhKdu1_m-k4</td>\n",
       "      <td>i can't see okay name our dear devotees and fr...</td>\n",
       "    </tr>\n",
       "    <tr>\n",
       "      <th>1</th>\n",
       "      <td>2. Panchama Veda: The Gospel of Sri Ramakrishna</td>\n",
       "      <td>wyCYJMk4uWo&amp;list=PLOEjrfhKOlHluaG8U4dhX6FREjS2...</td>\n",
       "      <td>wyCYJMk4uWo</td>\n",
       "      <td>like that because we always think about the mo...</td>\n",
       "    </tr>\n",
       "    <tr>\n",
       "      <th>2</th>\n",
       "      <td>3. Panchama Veda 03: The Gospel of Sri Ramakri...</td>\n",
       "      <td>76WxzDsV1JQ&amp;list=PLHJYQbWR4-c4TlN3zAsqGrJu3wEj...</td>\n",
       "      <td>76WxzDsV1JQ</td>\n",
       "      <td>so and then he was wondering who is this holy ...</td>\n",
       "    </tr>\n",
       "    <tr>\n",
       "      <th>3</th>\n",
       "      <td>4. Panchama Veda 04: The Gospel of Sri Ramakri...</td>\n",
       "      <td>Jbug2IqKn0M&amp;list=PLHJYQbWR4-c4TlN3zAsqGrJu3wEj...</td>\n",
       "      <td>Jbug2IqKn0M</td>\n",
       "      <td>we have the newspaper now we'll begin by offer...</td>\n",
       "    </tr>\n",
       "    <tr>\n",
       "      <th>4</th>\n",
       "      <td>5.  Panchama Veda 05: The Gospel of Sri Ramakr...</td>\n",
       "      <td>kpxAtDngGN8&amp;list=PLHJYQbWR4-c4TlN3zAsqGrJu3wEj...</td>\n",
       "      <td>kpxAtDngGN8</td>\n",
       "      <td>None</td>\n",
       "    </tr>\n",
       "    <tr>\n",
       "      <th>...</th>\n",
       "      <td>...</td>\n",
       "      <td>...</td>\n",
       "      <td>...</td>\n",
       "      <td>...</td>\n",
       "    </tr>\n",
       "    <tr>\n",
       "      <th>393</th>\n",
       "      <td>394. Panchama Veda - “God Surely Listen To Pra...</td>\n",
       "      <td>5dQVy1_om_E&amp;list=PLOEjrfhKOlHluaG8U4dhX6FREjS2...</td>\n",
       "      <td>5dQVy1_om_E</td>\n",
       "      <td>namaskar dear devotees and Friends and today l...</td>\n",
       "    </tr>\n",
       "    <tr>\n",
       "      <th>394</th>\n",
       "      <td>395. Panchama Veda - \"Stages of Sadhana”</td>\n",
       "      <td>GFoSfxt4MSQ&amp;list=PLOEjrfhKOlHluaG8U4dhX6FREjS2...</td>\n",
       "      <td>GFoSfxt4MSQ</td>\n",
       "      <td>namaskar and their devotees and Friends after ...</td>\n",
       "    </tr>\n",
       "    <tr>\n",
       "      <th>395</th>\n",
       "      <td>396. Panchama Veda - “Take Shelter With God An...</td>\n",
       "      <td>kGLQwCF-_0c&amp;list=PLOEjrfhKOlHluaG8U4dhX6FREjS2...</td>\n",
       "      <td>kGLQwCF-_0c</td>\n",
       "      <td>namaskar dear devotees and Friends let us begi...</td>\n",
       "    </tr>\n",
       "    <tr>\n",
       "      <th>396</th>\n",
       "      <td>397. Panchama Veda - “Do Incarnations Of God H...</td>\n",
       "      <td>R5VaUy_1Muo&amp;list=PLOEjrfhKOlHluaG8U4dhX6FREjS2...</td>\n",
       "      <td>R5VaUy_1Muo</td>\n",
       "      <td>namaskar they are devotees and Friends this We...</td>\n",
       "    </tr>\n",
       "    <tr>\n",
       "      <th>397</th>\n",
       "      <td>398. Panchama Veda - “If a man gathers his who...</td>\n",
       "      <td>IztcOR4o_Qc&amp;list=PLOEjrfhKOlHluaG8U4dhX6FREjS2...</td>\n",
       "      <td>IztcOR4o_Qc</td>\n",
       "      <td>and namaskar dear devotees and Friends let us ...</td>\n",
       "    </tr>\n",
       "  </tbody>\n",
       "</table>\n",
       "<p>341 rows × 4 columns</p>\n",
       "</div>"
      ],
      "text/plain": [
       "                                                 Title  \\\n",
       "0     1. Panchama Veda : The Gospel of Sri Ramakrishna   \n",
       "1      2. Panchama Veda: The Gospel of Sri Ramakrishna   \n",
       "2    3. Panchama Veda 03: The Gospel of Sri Ramakri...   \n",
       "3    4. Panchama Veda 04: The Gospel of Sri Ramakri...   \n",
       "4    5.  Panchama Veda 05: The Gospel of Sri Ramakr...   \n",
       "..                                                 ...   \n",
       "393  394. Panchama Veda - “God Surely Listen To Pra...   \n",
       "394           395. Panchama Veda - \"Stages of Sadhana”   \n",
       "395  396. Panchama Veda - “Take Shelter With God An...   \n",
       "396  397. Panchama Veda - “Do Incarnations Of God H...   \n",
       "397  398. Panchama Veda - “If a man gathers his who...   \n",
       "\n",
       "                                                    ID   youtube_id  \\\n",
       "0                                        XhKdu1_m-k4&t  XhKdu1_m-k4   \n",
       "1    wyCYJMk4uWo&list=PLOEjrfhKOlHluaG8U4dhX6FREjS2...  wyCYJMk4uWo   \n",
       "2    76WxzDsV1JQ&list=PLHJYQbWR4-c4TlN3zAsqGrJu3wEj...  76WxzDsV1JQ   \n",
       "3    Jbug2IqKn0M&list=PLHJYQbWR4-c4TlN3zAsqGrJu3wEj...  Jbug2IqKn0M   \n",
       "4    kpxAtDngGN8&list=PLHJYQbWR4-c4TlN3zAsqGrJu3wEj...  kpxAtDngGN8   \n",
       "..                                                 ...          ...   \n",
       "393  5dQVy1_om_E&list=PLOEjrfhKOlHluaG8U4dhX6FREjS2...  5dQVy1_om_E   \n",
       "394  GFoSfxt4MSQ&list=PLOEjrfhKOlHluaG8U4dhX6FREjS2...  GFoSfxt4MSQ   \n",
       "395  kGLQwCF-_0c&list=PLOEjrfhKOlHluaG8U4dhX6FREjS2...  kGLQwCF-_0c   \n",
       "396  R5VaUy_1Muo&list=PLOEjrfhKOlHluaG8U4dhX6FREjS2...  R5VaUy_1Muo   \n",
       "397  IztcOR4o_Qc&list=PLOEjrfhKOlHluaG8U4dhX6FREjS2...  IztcOR4o_Qc   \n",
       "\n",
       "                                                  text  \n",
       "0    i can't see okay name our dear devotees and fr...  \n",
       "1    like that because we always think about the mo...  \n",
       "2    so and then he was wondering who is this holy ...  \n",
       "3    we have the newspaper now we'll begin by offer...  \n",
       "4                                                 None  \n",
       "..                                                 ...  \n",
       "393  namaskar dear devotees and Friends and today l...  \n",
       "394  namaskar and their devotees and Friends after ...  \n",
       "395  namaskar dear devotees and Friends let us begi...  \n",
       "396  namaskar they are devotees and Friends this We...  \n",
       "397  and namaskar dear devotees and Friends let us ...  \n",
       "\n",
       "[341 rows x 4 columns]"
      ]
     },
     "execution_count": 12,
     "metadata": {},
     "output_type": "execute_result"
    }
   ],
   "source": [
    "df"
   ]
  },
  {
   "cell_type": "code",
   "execution_count": 13,
   "id": "b2bdb4be",
   "metadata": {},
   "outputs": [],
   "source": [
    "lines=[]\n",
    "filenames=[]\n",
    "temp='<!--table_content--><table style=\"width:100%\" id=\"j_table\">'+ \"<thead><tr>\"+ \"<th>Text</th>\"+ \"<th>Video</th>\"+ \"</tr></thead>\"\n",
    "for i,ii in df.iterrows():\n",
    "    page = ii.name  #ii['Unnamed: 0']\n",
    "    text = ii['text']\n",
    "    if text is not None:\n",
    "        #print('text',text)\n",
    "        filename='../docs/Video-'+str(page)+'.md'\n",
    "        filename2='Video-'+str(page)\n",
    "        #print (filename)\n",
    "        f=open(filename,'w')\n",
    "        line='['+ii['Title']+']('+'https://www.youtube.com/watch?v='+str(ii['ID'].split('&')[0].strip('!'))+')' \n",
    "        line2='['+ii['Title']+'](./'+filename2 +')'\n",
    "        \n",
    "        \n",
    "        \n",
    "        #temp+='<tr>'+'<td>'+line2+'</td>'+'<td>'+line+'</td>'+'</tr>'\n",
    "        part1='<a href=\"'+'./'+filename2+' \"'+' target=\"_black\"> '+ii['Title']+'</a>'\n",
    "        part2='<a href=\"'+ 'https://www.youtube.com/watch?v='+str(ii['ID'].split('&')[0].strip('!'))  +' \"'+' target=\"_black\"> '+'YouTube'+'</a>'\n",
    "        temp+='<tr>'+'<td>'+part1+'</td>'+'<td>'+part2+'</td>'+'</tr>'\n",
    "        lines.append(line2)\n",
    "        filenames.append(filename)\n",
    "        f.write(line+'\\n\\n')\n",
    "        f.write(text)\n",
    "        f.close()\n",
    "        #break"
   ]
  },
  {
   "cell_type": "code",
   "execution_count": 14,
   "id": "08667ad6",
   "metadata": {},
   "outputs": [
    {
     "data": {
      "text/plain": [
       "['[1. Panchama Veda : The Gospel of Sri Ramakrishna](./Video-0)',\n",
       " '[2. Panchama Veda: The Gospel of Sri Ramakrishna](./Video-1)',\n",
       " '[3. Panchama Veda 03: The Gospel of Sri Ramakrishna](./Video-2)',\n",
       " '[4. Panchama Veda 04: The Gospel of Sri Ramakrishna](./Video-3)',\n",
       " '[6. Panchama Veda 06: The Gospel of Sri Ramakrishna](./Video-5)',\n",
       " '[7. Panchama Veda 07: The Gospel of Sri Ramarkishna](./Video-6)',\n",
       " '[11. Panchama Veda 11: The Gospel of Sri Ramakrishna](./Video-10)',\n",
       " '[12. Panchama Veda 12: The Gospel of Sri Ramakrishna](./Video-11)',\n",
       " '[14. Panchama Veda 14: The Gospel of Sri Ramakrishna](./Video-13)',\n",
       " '[15. Panchama Veda 15: The Gospel of Sri Ramakrishna](./Video-14)',\n",
       " '[17.Panchama Veda 17: The Gospel of Sri Ramakrishna](./Video-16)',\n",
       " '[21. Panchama Veda 21 - The Gospel of Sri Ramakrishna](./Video-20)',\n",
       " '[22. Panchama Veda 22: Gospel Of Sri Ramakrishna](./Video-21)',\n",
       " '[23.Panchama Veda 23: The Gospel of Sri Ramakrishna](./Video-22)',\n",
       " '[25: Panchama Veda 25: The Gospel of Sri Ramakrishna](./Video-24)',\n",
       " '[30. Panchama Veda 30: The Gospel of Sri Ramakrishna](./Video-29)',\n",
       " '[31. Panchama Veda 31: The Gospel of Sri Ramakrishna](./Video-30)',\n",
       " '[32. Panchama Veda 32: The Gospel of Sri Ramakrishna](./Video-31)',\n",
       " '[33: Panchama Veda 33: Gospel of Sri Ramakrishna](./Video-32)',\n",
       " '[34. Panchama Veda 34:Gospel of Sri Ramakrishna](./Video-33)',\n",
       " '[36: Panchama Veda 36: Gospel of Sri Ramakrishna](./Video-35)',\n",
       " '[37: Panchama Veda 37: Gospel of Sri Ramakrishna](./Video-36)',\n",
       " '[38: Panchama Veda 38: Gospel of Sri Ramakrishna](./Video-37)',\n",
       " '[40. Panchama Veda 40: Gospel of Sri Ramakrishna](./Video-39)',\n",
       " '[43: Panchama Veda 43: Gospel of Sri Ramakrishna](./Video-42)',\n",
       " '[44: Panchama Veda 44: Gospel of Sri Ramakrishna](./Video-43)',\n",
       " '[45. Panchama Veda 45: Gospel of Sri Ramakrishna](./Video-44)',\n",
       " '[47. Panchama Veda 47: Gospel of Sri Ramakrishna](./Video-46)',\n",
       " '[49. Panchama Veda 49:Gospel of Sri Ramakrishna](./Video-48)',\n",
       " '[50. Panchama Veda 50: Gospel of Sri Ramakrishna](./Video-49)',\n",
       " '[51: Panchama Veda 51: Gospel of Sri Ramakrishna](./Video-50)',\n",
       " '[52: Panchama Veda 52: The Gospel of Sri Ramakrishna](./Video-51)',\n",
       " '[53: Panchama Veda 53: Gospel of Sri Ramakrishna](./Video-52)',\n",
       " '[54: Panchama Veda 54: Gospel of Sri Ramakrishna](./Video-53)',\n",
       " '[55: Panchama Veda 55: Gospel of Sri Ramakrishna](./Video-54)',\n",
       " '[57. Panchama Veda 57: Gospel of Sri Ramakrishna](./Video-56)',\n",
       " '[61: Panchama Veda 61: Gospel of Sri Ramakrishna](./Video-60)',\n",
       " '[63. Panchama Veda 63: Gospel of Sri Ramakrishna](./Video-62)',\n",
       " '[66. Panchama Veda 66: The Gospel of Sri Ramakrishna](./Video-65)',\n",
       " '[68: Panchama Veda 68: Gospel of Sri Ramakrishna](./Video-67)',\n",
       " '[69. Panchama Veda 69: The Gospel of Sri Ramakrishna](./Video-68)',\n",
       " '[70: Panchama Veda 70: The Gospel of Sri Ramakrishna](./Video-69)',\n",
       " '[72: Panchama Veda 72: Gospel of Sri Ramakrishna](./Video-71)',\n",
       " '[74: Panchama Veda 74: Gospel of Sri Ramakrishna](./Video-73)',\n",
       " '[75: Panchama Veda 75: Gospel of SriRamakrsihna](./Video-74)',\n",
       " '[76: Panchama Veda 76: Gospel of Sri Ramakrishna](./Video-75)',\n",
       " '[77: Panchama Veda 77: Gospel of Sri Ramakrishna](./Video-76)',\n",
       " '[78: Panchama Veda 78: Gospel of Sri Ramakrishna](./Video-77)',\n",
       " '[80. Panchama Veda 80: Gospel of Sri Ramakrishna](./Video-79)',\n",
       " '[81: Panchama Veda 81: Gospel of Sri Ramakrishna](./Video-80)',\n",
       " '[83: Panchama Veda 83: Gospel of Sri Ramakrishna](./Video-82)',\n",
       " '[88. Panchama Veda 88 : The Gospel Of Sri Ramakrishna](./Video-87)',\n",
       " '[89: Panchama Veda 89 :Gospel Of Sri Ramakrishna](./Video-88)',\n",
       " '[90. Panchama Veda 90 : Gospel Of Sri Ramakrishna](./Video-89)',\n",
       " '[91: Panchama Veda 91 : Gospel Of Sri Ramakrishna](./Video-90)',\n",
       " '[92: Panchama Veda 92 : Gospel Of Sri Ramakrishna](./Video-91)',\n",
       " '[93. Panchama Veda 93 : Gospel Of Sri Ramakrishna](./Video-92)',\n",
       " '[94. Panchama Veda 94 : Gospel Of Sri Ramakrishna](./Video-93)',\n",
       " '[95. Panchama Veda 95 :Gospel Of Sri Ramakrishna](./Video-94)',\n",
       " '[97. Panchama Veda 97: Gospel Of Sri Ramakrishna](./Video-96)',\n",
       " '[98. Panchama Veda 98: Gospel Of Sri Ramakrishna](./Video-97)',\n",
       " '[99: Panchama Veda 99: Gospel Of Sri Ramakrishna](./Video-98)',\n",
       " '[100. Panchama Veda 100: Gospel Of Sri Ramakrishna](./Video-99)',\n",
       " '[104: Panchama Veda 104: Gospel Of Sri Ramakrishna](./Video-103)',\n",
       " '[105. Panchama Veda 105: Gospel Of Sri Ramakrishna](./Video-104)',\n",
       " '[106. Panchama Veda 106:Gospel Of Sri Ramakrishna](./Video-105)',\n",
       " '[108: Panchama Veda 108: Gospel of Sri Ramakrishna](./Video-107)',\n",
       " '[109: Panchama Veda 109](./Video-108)',\n",
       " '[110: Panchama Veda 110: Gospel of Sri Ramakrishna](./Video-109)',\n",
       " '[111: Panchama Veda 111: Gospel of Sri Ramakrishna](./Video-110)',\n",
       " '[112: Panchama Veda 112 : Gospel of Sri Ramakrishna](./Video-111)',\n",
       " '[113: Panchama Veda 113: Gospel of Sri Ramakrishna](./Video-112)',\n",
       " '[114: Panchama Veda 114 : Gospel of Sri Ramakrishna](./Video-113)',\n",
       " '[115: Panchama Veda 115: Gospel of Sri Ramakrishna](./Video-114)',\n",
       " '[116: Panchama Veda 116: Gospel of Sri Ramakrishna](./Video-115)',\n",
       " '[119: Panchama Veda 119 : Gospel of Sri Ramakrishna](./Video-118)',\n",
       " '[120. Panchama Veda 120 : Gospel of Sri Ramakrishna](./Video-119)',\n",
       " '[121. Panchama Veda 121 : Gospel of Sri Ramakrishna](./Video-120)',\n",
       " '[122. Panchama Veda 122 : Gospel of Sri Ramakrishna](./Video-121)',\n",
       " '[123: Panchama Veda 123 : Gospel of Sri Ramakrishna](./Video-122)',\n",
       " '[124: Panchama Veda 124 : Gospel of Sri Ramakrishna](./Video-123)',\n",
       " '[125: Panchama Veda 125 : Gospel of Sri Ramakrishna](./Video-124)',\n",
       " '[126: Panchama Veda 126 : Gospel of Sri Ramakrishna](./Video-125)',\n",
       " '[127. Panchama Veda 127: Gospel of Sri Ramakrishna](./Video-126)',\n",
       " '[128. Panchama Veda - The Gospel of Sri Ramakrishna](./Video-127)',\n",
       " '[129. Panchama Veda 129 - The Gospel of Sri Ramakrishna](./Video-128)',\n",
       " '[130: Panchama Veda 130 - The Gospel of Sri Ramakrishna](./Video-129)',\n",
       " '[131: Panchama Veda 131- The Gospel of Sri Ramakrishna](./Video-130)',\n",
       " '[132: Panchama Veda 132- The Gospel of Sri Ramakrishna](./Video-131)',\n",
       " '[133. Panchama Veda 133- The Gospel of Sri Ramakrishna](./Video-132)',\n",
       " '[134: Panchama Veda 134- The Gospel of Sri Ramakrishna](./Video-133)',\n",
       " '[135. Panchama Veda 135- The Gospel of Sri Ramakrishna](./Video-134)',\n",
       " '[136: Panchama Veda 136- The Gospel of Sri Ramakrishna](./Video-135)',\n",
       " '[137: Panchama Veda 137- The Gospel of Sri Ramakrishna](./Video-136)',\n",
       " '[138. Panchama Veda 138- The Gospel of Sri Ramakrishna](./Video-137)',\n",
       " '[139. Panchama Veda 139- The Gospel of Sri Ramakrishna](./Video-138)',\n",
       " '[140. Panchama Veda 140- The Gospel of Sri Ramakrishna](./Video-139)',\n",
       " '[141: Panchama Veda 141- The Gospel of Sri RamaKrishna- Part -1](./Video-140)',\n",
       " '[142: Panchama Veda 142- The Gospel of Sri RamaKrishna](./Video-141)',\n",
       " '[143: Panchama Veda 143- The Gospel of Sri RamaKrishna](./Video-142)',\n",
       " '[144: Panchama Veda 144- The Gospel of Sri RamaKrishna](./Video-143)',\n",
       " '[145. Panchama Veda 145- The Gospel of Sri RamaKrishna](./Video-144)',\n",
       " '[146. Panchama Veda 146- The Gospel of Sri RamaKrishna](./Video-145)',\n",
       " '[147. Panchama Veda 147- The Gospel of Sri RamaKrishna](./Video-146)',\n",
       " '[148: Panchama Veda 148- The Gospel of Sri Ramakrishna](./Video-147)',\n",
       " '[149: Panchama Veda 149- The Gospel of Sri Ramakrishna](./Video-148)',\n",
       " '[150: Panchama Veda 150- The Gospel of Sri Ramakrishna](./Video-149)',\n",
       " '[151. Panchama Veda 151- The Gospel of Sri Ramakrishna](./Video-150)',\n",
       " '[152: Panchama Veda 152- The Gospel of Sri Ramakrishna](./Video-151)',\n",
       " '[153: Panchama Veda 153- The Gospel of Sri Ramakrishna](./Video-152)',\n",
       " '[154: Panchama Veda 154- The Gospel of Sri Ramakrishna](./Video-153)',\n",
       " '[155: Panchama Veda 155- The Gospel of Sri Ramakrishna](./Video-154)',\n",
       " '[156: Panchama Veda 156- The Gospel of Sri Ramakrishna](./Video-155)',\n",
       " '[157: Panchama Veda 157- The Gospel of Sri Ramakrishna](./Video-156)',\n",
       " '[159. Panchama Veda 159 - The Gospel of Sri Ramakrishna: The Rules For Concentration](./Video-158)',\n",
       " '[161: Panchama Veda 161 - The Gospel of Sri Ramakrishna](./Video-160)',\n",
       " '[163: Panchama Veda 163 - The Gospel of Sri Ramakrishna](./Video-162)',\n",
       " '[166. Panchama Veda 166 - The Gospel of Sri Ramakrishna](./Video-165)',\n",
       " '[167: Panchama Veda 167 - The Gospel of Sri Ramakrishna](./Video-166)',\n",
       " '[168: Panchama Veda 168 - The Gospel of Sri Ramakrishna](./Video-167)',\n",
       " '[169: Panchama Veda 169 - The Gospel of Sri Ramakrishna](./Video-168)',\n",
       " '[170. Panchama Veda 170 - The Gospel of Sri Ramakrishna](./Video-169)',\n",
       " '[171. Panchama Veda 171 - The Gospel of Sri Ramakrishna](./Video-170)',\n",
       " '[172: Panchama Veda 172 - The Gospel of Sri Ramakrishna](./Video-171)',\n",
       " '[173. Panchama Veda 173 - The Gospel of Sri Ramakrishna](./Video-172)',\n",
       " '[174: Panchama Veda 174 - The Gospel of Sri Ramakrishna](./Video-173)',\n",
       " '[175: Panchama Veda 175 - The Gospel of Sri Ramakrishna](./Video-174)',\n",
       " '[176: Panchama Veda 176 - The Gospel of Sri Ramakrishna](./Video-175)',\n",
       " '[177. Panchama Veda 177 - The Gospel of Sri Ramakrishna](./Video-176)',\n",
       " '[178: Panchama Veda 178 - The Gospel of Sri Ramakrishna](./Video-177)',\n",
       " '[179: Panchama Veda 179 - The Gospel of Sri Ramakrishna](./Video-178)',\n",
       " '[180. Panchama Veda 180 - The Gospel of Sri Ramakrishna](./Video-179)',\n",
       " '[181. Panchama Veda 181 - The Gospel of Sri Ramakrishna](./Video-180)',\n",
       " '[182. Panchama Veda 182 - The Gospel of Sri Ramakrishna :Three Types Of Enjoyments in Human life](./Video-181)',\n",
       " '[183: Panchama Veda 183 - The Gospel of Sri Ramakrishna : Ego : After Brahma Jnana](./Video-182)',\n",
       " '[184: Panchama Veda 184 - The Gospel of Sri Ramakrishna : Does God listen to our Prayers?](./Video-183)',\n",
       " '[185. Panchama Veda 185 - The Gospel of Sri Ramakrishna : Paths to God : Affirmation & Negation](./Video-184)',\n",
       " '[186: Panchama Veda 186 : Gospel Of Sri Ramakrishna : Sri Ramakrishna Speaks on Samannaya](./Video-185)',\n",
       " '[187: Panchama Veda 187: Gospel Of Sri Ramakrishna: By What Kind Of Bhakti Does One Realize God?](./Video-186)',\n",
       " '[188: Panchama Veda 188: Gospel Of Sri Ramakrishna: How to Attain Blissful State Of Mind?](./Video-187)',\n",
       " '[189: Panchama Veda 189: Gospel Of Sri Ramakrishna: Sapta Gyan Bhoomikas](./Video-188)',\n",
       " '[190: Panchama Veda 190: Gospel Of Sri Ramakrishna: Seven Steps Of Devotion](./Video-189)',\n",
       " '[191: Panchama Veda 191: Gospel Of Sri Ramakrishna: Live Unattached in the World](./Video-190)',\n",
       " '[192: Panchama Veda 192: Gospel Of Sri Ramakrishna: Renunciation and Longing for God](./Video-191)',\n",
       " '[193: Panchama Veda 193: Gospel Of Sri Ramakrishna: To Realize God, Stick to One Path](./Video-192)',\n",
       " '[194. Panchama Veda 194: Gospel Of Sri Ramakrishna: God Alone is Real and All Else is Illusory](./Video-193)',\n",
       " '[195. Panchama Veda 195: Gospel Of Sri Ramakrishna: God is Both Inside and Outside](./Video-194)',\n",
       " '[196: Panchama Veda 196: The Gospel Of Sri Ramakrishna](./Video-195)',\n",
       " '[197: Panchama Veda 197: The Gospel Of Sri Ramakrishna : God Is Beyond The Vedas](./Video-196)',\n",
       " '[198: Panchama Veda 198: The Gospel Of Sri Ramakrishna : God Is Both Vidya And Avidya](./Video-197)',\n",
       " '[199. Panchama Veda 199: The Gospel Of Sri Ramakrishna](./Video-198)',\n",
       " '[200: Panchama Veda 200: The Gospel Of Sri Ramakrishna](./Video-199)',\n",
       " '[201: Panchama Veda 201: The Gospel Of Sri Ramakrishna](./Video-200)',\n",
       " '[202. Panchama Veda 202: The Gospel Of Sri Ramakrishna](./Video-201)',\n",
       " '[203. Panchama Veda 203: The Gospel Of Sri Ramakrishna](./Video-202)',\n",
       " '[204. Panchama Veda 204: The Gospel Of Sri Ramakrishna](./Video-203)',\n",
       " '[205. Panchama Veda 205: The Gospel Of Sri Ramakrishna](./Video-204)',\n",
       " '[206. Panchama Veda 206: The Gospel Of Sri Ramakrishna](./Video-205)',\n",
       " '[207. Panchama Veda 207: The Gospel Of Sri Ramakrishna - Topic : An Egotistic Person Cannot Realize God](./Video-206)',\n",
       " '[208: Panchama Veda 208: The Gospel Of Sri Ramakrishna - Topic : God and Guru](./Video-207)',\n",
       " '[209: Panchama Veda 209: The Gospel Of Sri Ramakrishna](./Video-208)',\n",
       " '[210: Panchama Veda 210: The Gospel Of Sri Ramakrishna](./Video-209)',\n",
       " '[211: Panchama Veda 211: The Gospel Of Sri Ramakrishna](./Video-210)',\n",
       " '[212: Panchama Veda 212: The Gospel Of Sri Ramakrishna](./Video-211)',\n",
       " '[213: Panchama Veda 213 : Final Realization Of Sri Ramakrishna](./Video-212)',\n",
       " '[214: Panchama Veda 214 : When Does God Take Form?](./Video-213)',\n",
       " '[215: Panchama Veda 215 : What Is Our Duty?](./Video-214)',\n",
       " '[216: Panchama Veda 216 : Sri Ramakrishna On Knowledge and Ignorance](./Video-215)',\n",
       " '[217: Panchama Veda 217 :The Pure Self Is Free From Attachment](./Video-216)',\n",
       " '[218: Panchama Veda 218 : Our Real Nature](./Video-217)',\n",
       " '[219: Panchama Veda 219 : To Attain The Knowledge Of God](./Video-218)',\n",
       " '[220: Panchama Veda 220: Vedantic View Of Mukti](./Video-219)',\n",
       " '[221: Panchama Veda 221: Bhakti Yoga Is The Right Path](./Video-220)',\n",
       " '[222: Panchama Veda 222 : \"God Loves Those...\"](./Video-221)',\n",
       " '[223: Panchama Veda 223 : Sri Ramakrishna The God](./Video-222)',\n",
       " '[224: Panchama Veda 224 : Reading Is Not Knowing](./Video-223)',\n",
       " '[225: Panchama Veda 225 : Sri Ramakrishna- Ways and Means](./Video-224)',\n",
       " '[226: Panchama Veda 226 :How To be Free From Ego?](./Video-225)',\n",
       " '[227: Panchama Veda 227 : Devotion Of Mahavir Hanuman](./Video-226)',\n",
       " \"[228: Panchama Veda 228 : Don't Speak Ill Of Anyone](./Video-227)\",\n",
       " '[229: Panchama Veda 229 : Sri Ramakrishna and Vedanta](./Video-228)',\n",
       " '[230: Panchama Veda 230 : Ajnana-Jnana-Vijnana](./Video-229)',\n",
       " '[231: Panchama Veda 231 : Sri Ramakrishna and Buddha](./Video-230)',\n",
       " '[232: Panchama Veda 232 : Nature Of The Worldly Person](./Video-231)',\n",
       " '[233: Panchama Veda 233 : How Can a Person Conquer Passion?](./Video-232)',\n",
       " '[234: Panchama Veda 234 : Samskara: Tendencies Of Previous Births](./Video-233)',\n",
       " '[235: Panchama Veda 235 : God Realization is the Goal](./Video-234)',\n",
       " \"[236: PanchamaVeda 236: Why Don't I see God?](./Video-235)\",\n",
       " '[237: Panchama Veda 237 : Live Unattached in The World](./Video-236)',\n",
       " '[238: Panchama Veda 238 : Sri Ramakrishna And Chariot Festival](./Video-237)',\n",
       " '[239: Panchama Veda 239 : God is Your Own Mother](./Video-238)',\n",
       " '[240: Panchama Veda 240 : Oh Mother ! Make me mad with thy love](./Video-239)',\n",
       " '[241: Panchama Veda 241 : Mediatate On Consciousness](./Video-240)',\n",
       " '[242: Panchama Veda 242 : Goal is God , Not His Power](./Video-241)',\n",
       " '[243: Panchama Veda 243 : Dive Deep. Learn To Love God.](./Video-242)',\n",
       " '[244: Panchama Veda 244 : Hold Fast To God & Do Your Duty](./Video-243)',\n",
       " '[245: Panchama Veda 245 : How Long Should One Perform Worldly Duties?](./Video-244)',\n",
       " '[246: Panchama Veda 246 : How To Destroy Your Desires?](./Video-245)',\n",
       " '[247: Panchama Veda 247 : Is God Compassionate?](./Video-246)',\n",
       " '[249: Panchama Veda 249 : God Belongs to All](./Video-248)',\n",
       " '[250: Panchama Veda 250 : To Whom God Is A Person?](./Video-249)',\n",
       " '[251: Panchama Veda 251 : Divine Mother Gives Brahma Jnana Too](./Video-250)',\n",
       " '[252: Panchama Veda 252 : You have Substance In You](./Video-251)',\n",
       " '[253: Panchama Veda 253 : The Eternity Of Sanatana Dharma](./Video-252)',\n",
       " \"[254: Panchama Veda 254 : Everything Depends On God's Will](./Video-253)\",\n",
       " '[255: Panchama Veda 255 : By What Kind of work can One Realize God?](./Video-254)',\n",
       " '[256: Panchama Veda 256 : Renounce Everything Mentally To Realize God](./Video-255)',\n",
       " '[257: Panchama Veda 257 : \"I See God In All Things\"](./Video-256)',\n",
       " '[258: Panchama Veda 258 : Sri Ramakrishna And Tagore](./Video-257)',\n",
       " '[259: Panchama Veda 259 : Nitya and Lila belong tp the same Reality](./Video-258)',\n",
       " '[260: Panchama Veda 260 : God can be realized only through faith](./Video-259)',\n",
       " '[261: Panchama Veda 261 : God Is The Only Giver](./Video-260)',\n",
       " \"[262: Panchama Veda 262 : Seven Planes Of Jnani's Mind](./Video-261)\",\n",
       " '[263. Panchama Veda 263 : Devotion- Different Stages](./Video-262)',\n",
       " '[264: Panchama Veda 264 : Fight (Maya) From Inside a Fort](./Video-263)',\n",
       " \"[265: Panchama Veda 265: God's Love for His Devotees](./Video-264)\",\n",
       " '[267: Panchama Veda 267](./Video-266)',\n",
       " '[268: Panchama Veda 268 : The Gospel Of Sri Ramakrishna](./Video-267)',\n",
       " '[269: Panchama Veda 269 : Difficult to Break the Delusion](./Video-268)',\n",
       " '[270: Panchama Veda 270 : Be Restless For God](./Video-269)',\n",
       " '[271. Panchama Veda 271 - Divinity is everywhere](./Video-270)',\n",
       " '[272: Panchama Veda 272 : The Meaning Of Bhakti](./Video-271)',\n",
       " '[273. Panchama Veda 273 : The Journey From Nishtha To Prema Part 2](./Video-272)',\n",
       " '[274. Panchama Veda 274 : Sir What Will Happen To These Sinners?](./Video-273)',\n",
       " '[275. Panchama Veda 275 : The State Of No Separation](./Video-274)',\n",
       " '[276. Panchama Veda 276 : One Is able to see God through Telescope of Yoga](./Video-275)',\n",
       " '[277. Panchama Veda 277 : How Can One Get Vision Of God?](./Video-276)',\n",
       " '[279. Panchama Veda 279() : Let God Hold Our Hands](./Video-278)',\n",
       " '[280. Panchama Veda 280 : God’s Birthday Celebration](./Video-279)',\n",
       " \"[281. Panchama Veda 281 : God's Birthday Celebration Part 2](./Video-280)\",\n",
       " '[282. Panchama Veda 282 : Brother , Go Beyond Duality](./Video-281)',\n",
       " '[283. Panchama Veda 283: One needs the Knowledge Of Reality And Brahman](./Video-282)',\n",
       " '[285. Panchama Veda 285 : Bhakta Also attains Knowledge Of Oneness](./Video-284)',\n",
       " '[286: Panchama Veda 286 : Householders Debts](./Video-285)',\n",
       " '[287. Panchama Veda 287 : Can Only But a Brahman Achieve Perfection](./Video-286)',\n",
       " '[288. Panchama Veda 288 : The Whole World is Theater](./Video-287)',\n",
       " '[289. Panchama Veda 289 - Sri Ramakrishna and Narendra](./Video-288)',\n",
       " '[290. Panchama Veda 290 - Apply the knowledge of Brahman](./Video-289)',\n",
       " '[291. Panchama Veda 291 - Why should you be frightened! Hold fast Onto God](./Video-290)',\n",
       " '[292. Panchama Veda 292 - “Have Faith. Depend On God.”](./Video-291)',\n",
       " '[293. Panchama Veda 293 - “It is extremely difficult to attain the Knowledge of Brahman\"](./Video-292)',\n",
       " '[294. Panchama Veda 294 - “I Incarnate Myself In Every Age”](./Video-293)',\n",
       " '[295. Panchama Veda 295 - “Pure Souls Are Veritable Manifestations Of God.”](./Video-294)',\n",
       " '[296. Panchama Veda 296 - “We see God Himself if we but see His Incarnation”](./Video-295)',\n",
       " '[287. Panchama Veda 297 - “Sri Ramakrishna’s Attitude.”](./Video-296)',\n",
       " '[298. Panchama Veda 298 - “Sri Ramakrishna’s Prayer”](./Video-297)',\n",
       " '[299. Panchama Veda 299 - “I Clearly See That God Is Everything”](./Video-298)',\n",
       " '[300. Panchama Veda 300 - “Narendra asked, ‘What is Qualified Non-dualism?’.”](./Video-299)',\n",
       " '[301. Panchama Veda (301) - “Sri Ramakrishna and Vedanta”](./Video-300)',\n",
       " '[302. Panchama Veda (302) - “Sri Ramakrishna and Devotion”](./Video-301)',\n",
       " '[303. Panchama Veda (303) - “I Gave My Word.”](./Video-302)',\n",
       " '[304. Panchama Veda (304) - “God Cannot Be Realized Unless The Mind Is Free From Lust And Gold.”](./Video-303)',\n",
       " '[305. Panchama Veda 305](./Video-304)',\n",
       " '[307. Panchama Veda 307 - “Sri Ramakrishna: A Bridge between Nitya and Leela”](./Video-306)',\n",
       " '[308. Panchama Veda 308 - “Sri Ramakrishna: A bridge between Nitya and Leela - Part 2”](./Video-307)',\n",
       " '[309. Panchama Veda 309 - “ Live in the World in a Spirit of Detachment.”](./Video-308)',\n",
       " '[310. Panchama Veda 310 - “ How to get rid of lust and gold?”](./Video-309)',\n",
       " '[311. Panchama Veda 311 - “Sir, can all be like Sri Krishna”](./Video-310)',\n",
       " '[312. Panchama Veda 312 - “To Realize God, Cultivate Intense Dispassion”](./Video-311)',\n",
       " '[314. Panchama Veda 314 - “Enjoyments: Divine and Worldly”](./Video-313)',\n",
       " '[315. Panchama Veda 315 : Monastics and Householders](./Video-314)',\n",
       " '[316. Panchama Veda 316: “Do You Believe in the Incarnation of God?”](./Video-315)',\n",
       " '[317.  Panchama Veda 317: “Incarceration of God.”](./Video-316)',\n",
       " '[318. Panchama Veda 318: “All cannot understand an Incarnation of God.”](./Video-317)',\n",
       " '[319. Panchama Veda (319) - “Sir, What is Ekaangi Prema.”](./Video-318)',\n",
       " '[320. Panchama Veda (320) - “Devotion”](./Video-319)',\n",
       " '[321. Panchama Veda (321) - “Ego of Knowledge and the Ego of Ignorance”](./Video-320)',\n",
       " '[322. Panchama Veda (322) - “How does one receive God’s grace ?”](./Video-321)',\n",
       " '[324. Panchama Veda (324) - “Everything is possible for God.”](./Video-323)',\n",
       " '[325. Panchama Veda (325) - “Sri Ramakrishna in Samadhi.”](./Video-324)',\n",
       " '[326. Panchama Veda (326) - “Why doesn’t man’s mind dwell on God?”](./Video-325)',\n",
       " '[327. Where does God Exist ? - Panchama Veda(327)](./Video-326)',\n",
       " '[328. One Needs Sadhana to Realize God - Panchama Veda(328)](./Video-327)',\n",
       " '[329. “Through Vidyamaya one can Realize God.” - Panchama Veda (329)](./Video-328)',\n",
       " '[331. Divine Incarnation. - Panchama Veda (331)](./Video-330)',\n",
       " '[332. \"There is such a thing as Inborn Tendencies\" - Panchama Veda (332)](./Video-331)',\n",
       " '[334: “Everything is Chaitanya, Consciousness.” - Panchama Veda (334)](./Video-333)',\n",
       " '[337. “Harmful Ego.” - Panchama Veda (337)](./Video-336)',\n",
       " '[338. Panchama Veda (338) - The Gospel of Sri Ramakrishna](./Video-337)',\n",
       " '[390. “Who will receive the grace of God?” - Panchama Veda ](./Video-389)',\n",
       " '[391. “Let the Ego be your Servant” - Panchama Veda ](./Video-390)',\n",
       " '[392. Panchama Veda - “Stages of Sadhana”](./Video-391)',\n",
       " '[393. Panchama Veda - “Be Free From Worries”](./Video-392)',\n",
       " '[394. Panchama Veda - “God Surely Listen To Prayers”](./Video-393)',\n",
       " '[395. Panchama Veda - \"Stages of Sadhana”](./Video-394)',\n",
       " '[396. Panchama Veda - “Take Shelter With God And Pray To Him”](./Video-395)',\n",
       " '[397. Panchama Veda - “Do Incarnations Of God Have Desires?”](./Video-396)',\n",
       " '[398. Panchama Veda - “If a man gathers his whole mind on me, he achieves everything.”](./Video-397)']"
      ]
     },
     "execution_count": 14,
     "metadata": {},
     "output_type": "execute_result"
    }
   ],
   "source": [
    "lines"
   ]
  },
  {
   "cell_type": "code",
   "execution_count": 15,
   "id": "08a62f97",
   "metadata": {},
   "outputs": [],
   "source": [
    "md_path='../docs/index.md'\n",
    "with open(md_path, \"r\") as file:\n",
    "    filedata = file.read().splitlines()\n",
    "content = []\n",
    "\n",
    "content = ['\\nPanchamveda: [The Gospel of Sri Ramakrishna](https://en.wikipedia.org/wiki/The_Gospel_of_Sri_Ramakrishna) by [Swami Ishatmananda](https://chicagovedanta.org/swami_ishatmananda.html)\\n\\n<!--table_content-->\\n']\n",
    "# for j in filedata:\n",
    "#     if \"<!--table_content-->\" in j:\n",
    "#         content.append(\"<!--table_content-->\")\n",
    "#     else:\n",
    "#         content.append(j)\n",
    "with open(md_path, \"w\") as file:\n",
    "    file.write(\"\\n\".join(content))\n",
    "\n",
    "with open(md_path, \"r\") as file:\n",
    "    filedata = file.read().splitlines()\n",
    "    \n",
    "\n",
    "\n",
    "for j in filedata:\n",
    "    if \"<!--table_content-->\" in j:\n",
    "        content.append(\"<!--table_content-->\"+temp+\"</table>\")\n",
    "#     else:\n",
    "#         content.append(j)\n",
    "        \n",
    "# for i in lines:\n",
    "#         temp =  \"<!--table_content-->\"+\"<tr>\"+ \"<td>\"+\n",
    "#         \"<table style=\"width:100%\" id=\"j_table\"><thead><tr><th>Text</th><th>Video</th></thead>\"+'\\n\\n'.join(lines) +\"</table>\"\n",
    "#         content.append(temp)\n",
    "#     else:\n",
    "#         content.append(j)\n",
    "            \n",
    "\n",
    "with open(md_path, \"w\") as file:\n",
    "        file.write(\"\\n\".join(content))"
   ]
  },
  {
   "cell_type": "code",
   "execution_count": null,
   "id": "0903dd75",
   "metadata": {},
   "outputs": [],
   "source": []
  },
  {
   "cell_type": "code",
   "execution_count": null,
   "id": "f30213c6",
   "metadata": {},
   "outputs": [],
   "source": []
  }
 ],
 "metadata": {
  "kernelspec": {
   "display_name": "Python 3 (ipykernel)",
   "language": "python",
   "name": "python3"
  },
  "language_info": {
   "codemirror_mode": {
    "name": "ipython",
    "version": 3
   },
   "file_extension": ".py",
   "mimetype": "text/x-python",
   "name": "python",
   "nbconvert_exporter": "python",
   "pygments_lexer": "ipython3",
   "version": "3.8.13"
  }
 },
 "nbformat": 4,
 "nbformat_minor": 5
}
