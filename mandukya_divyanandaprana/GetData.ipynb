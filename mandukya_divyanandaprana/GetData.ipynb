{
 "cells": [
  {
   "cell_type": "code",
   "execution_count": 1,
   "id": "b9e0eafa",
   "metadata": {},
   "outputs": [],
   "source": [
    "#pip install youtube-transcript-api"
   ]
  },
  {
   "cell_type": "code",
   "execution_count": 1,
   "id": "031795b2",
   "metadata": {},
   "outputs": [],
   "source": [
    "from youtube_transcript_api import YouTubeTranscriptApi\n",
    "\n",
    "def get_text(youtube_id=\"XhKdu1_m-k4\"):\n",
    "    try:\n",
    "        text = \" \".join(\n",
    "            [\n",
    "                i[\"text\"]\n",
    "                .replace(\"\\xa0\\xa0\", \" \")\n",
    "                .replace(\"\\n\", \"\")\n",
    "                .replace(\"\\xa0\", \" \")\n",
    "                for i in YouTubeTranscriptApi.get_transcript(youtube_id)\n",
    "            ]\n",
    "        )\n",
    "        return text\n",
    "    except:\n",
    "        print ('Failed for',youtube_id )\n",
    "        pass\n"
   ]
  },
  {
   "cell_type": "code",
   "execution_count": 2,
   "id": "dd99d435",
   "metadata": {},
   "outputs": [],
   "source": [
    "import pandas as pd\n",
    "df = pd.read_csv('Sheet1.csv')\n",
    "df = df[df['Title'].notnull()]"
   ]
  },
  {
   "cell_type": "code",
   "execution_count": 3,
   "id": "5f3f9ac2",
   "metadata": {},
   "outputs": [],
   "source": [
    "df['youtube_id']=df['ID'].apply(lambda x: str(x).split('&')[0].strip('!'))"
   ]
  },
  {
   "cell_type": "code",
   "execution_count": 4,
   "id": "a3b78e35",
   "metadata": {},
   "outputs": [
    {
     "name": "stderr",
     "output_type": "stream",
     "text": [
      "100%|████████████████████████████████████████████████████████████████████████████████████████████████████████████████████████████████████████████████████████████████████████████████| 5/5 [00:06<00:00,  1.22s/it]\n"
     ]
    }
   ],
   "source": [
    "from tqdm import tqdm\n",
    "tqdm.pandas()\n",
    "df['text'] = df['youtube_id'].progress_apply(lambda x:get_text(x))"
   ]
  },
  {
   "cell_type": "code",
   "execution_count": 5,
   "id": "5b372781",
   "metadata": {},
   "outputs": [
    {
     "data": {
      "text/html": [
       "<div>\n",
       "<style scoped>\n",
       "    .dataframe tbody tr th:only-of-type {\n",
       "        vertical-align: middle;\n",
       "    }\n",
       "\n",
       "    .dataframe tbody tr th {\n",
       "        vertical-align: top;\n",
       "    }\n",
       "\n",
       "    .dataframe thead th {\n",
       "        text-align: right;\n",
       "    }\n",
       "</style>\n",
       "<table border=\"1\" class=\"dataframe\">\n",
       "  <thead>\n",
       "    <tr style=\"text-align: right;\">\n",
       "      <th></th>\n",
       "      <th>Title</th>\n",
       "      <th>ID</th>\n",
       "      <th>youtube_id</th>\n",
       "      <th>text</th>\n",
       "    </tr>\n",
       "  </thead>\n",
       "  <tbody>\n",
       "    <tr>\n",
       "      <th>0</th>\n",
       "      <td>Mandukya Upanishad - 1 by Pravrajika Divyanand...</td>\n",
       "      <td>TSV_QDDb8qU</td>\n",
       "      <td>TSV_QDDb8qU</td>\n",
       "      <td>[Music] [Music] welcome to pangord and welcome...</td>\n",
       "    </tr>\n",
       "    <tr>\n",
       "      <th>1</th>\n",
       "      <td>Mandukya Upanishad - 2 by Pravrajika Divyanand...</td>\n",
       "      <td>gFAcfkpeqpQ</td>\n",
       "      <td>gFAcfkpeqpQ</td>\n",
       "      <td>[Music] so [Music] he we'll resume our study o...</td>\n",
       "    </tr>\n",
       "    <tr>\n",
       "      <th>2</th>\n",
       "      <td>Mandukya Upanishad - 3 by Pravrajika Divyanand...</td>\n",
       "      <td>8sX0yI_9pvA</td>\n",
       "      <td>8sX0yI_9pvA</td>\n",
       "      <td>[Music] so [Music] he we were studying the fif...</td>\n",
       "    </tr>\n",
       "    <tr>\n",
       "      <th>3</th>\n",
       "      <td>Mandukya Upanishad - 4 by Pravrajika Divyanand...</td>\n",
       "      <td>MEKe1sS2960</td>\n",
       "      <td>MEKe1sS2960</td>\n",
       "      <td>[Music] so [Music] he uh we are coming to the ...</td>\n",
       "    </tr>\n",
       "    <tr>\n",
       "      <th>4</th>\n",
       "      <td>Mandukya Upanishad - 5 by Pravrajika Divyanand...</td>\n",
       "      <td>v5fmNlrTSGI</td>\n",
       "      <td>v5fmNlrTSGI</td>\n",
       "      <td>[Music] namaste everyone and welcome to the la...</td>\n",
       "    </tr>\n",
       "  </tbody>\n",
       "</table>\n",
       "</div>"
      ],
      "text/plain": [
       "                                               Title           ID  \\\n",
       "0  Mandukya Upanishad - 1 by Pravrajika Divyanand...  TSV_QDDb8qU   \n",
       "1  Mandukya Upanishad - 2 by Pravrajika Divyanand...  gFAcfkpeqpQ   \n",
       "2  Mandukya Upanishad - 3 by Pravrajika Divyanand...  8sX0yI_9pvA   \n",
       "3  Mandukya Upanishad - 4 by Pravrajika Divyanand...  MEKe1sS2960   \n",
       "4  Mandukya Upanishad - 5 by Pravrajika Divyanand...  v5fmNlrTSGI   \n",
       "\n",
       "    youtube_id                                               text  \n",
       "0  TSV_QDDb8qU  [Music] [Music] welcome to pangord and welcome...  \n",
       "1  gFAcfkpeqpQ  [Music] so [Music] he we'll resume our study o...  \n",
       "2  8sX0yI_9pvA  [Music] so [Music] he we were studying the fif...  \n",
       "3  MEKe1sS2960  [Music] so [Music] he uh we are coming to the ...  \n",
       "4  v5fmNlrTSGI  [Music] namaste everyone and welcome to the la...  "
      ]
     },
     "execution_count": 5,
     "metadata": {},
     "output_type": "execute_result"
    }
   ],
   "source": [
    "df"
   ]
  },
  {
   "cell_type": "code",
   "execution_count": 6,
   "id": "b2bdb4be",
   "metadata": {},
   "outputs": [],
   "source": [
    "lines=[]\n",
    "filenames=[]\n",
    "temp='<!--table_content--><table style=\"width:100%\" id=\"j_table\">'+ \"<thead><tr>\"+ \"<th>Text</th>\"+ \"<th>Video</th>\"+ \"</tr></thead>\"\n",
    "for i,ii in df.iterrows():\n",
    "    page = int(ii.name)+1  #ii['Unnamed: 0']\n",
    "    text = ii['text']\n",
    "    if text is not None:\n",
    "        #print('text',text)\n",
    "        filename='Video-'+str(page)+'.md'\n",
    "        filename2='Video-'+str(page)\n",
    "        #print (filename)\n",
    "        f=open(filename,'w')\n",
    "        line='['+ii['Title']+']('+'https://www.youtube.com/watch?v='+str(ii['ID'].split('&')[0].strip('!'))+')' \n",
    "        line2='['+ii['Title']+'](./'+filename2 +')'\n",
    "        \n",
    "        \n",
    "        \n",
    "        #temp+='<tr>'+'<td>'+line2+'</td>'+'<td>'+line+'</td>'+'</tr>'\n",
    "        part1='<a href=\"'+'./'+filename2+' \"'+' target=\"_black\"> '+ii['Title']+'</a>'\n",
    "        part2='<a href=\"'+ 'https://www.youtube.com/watch?v='+str(ii['ID'].split('&')[0].strip('!'))  +' \"'+' target=\"_black\"> '+'YouTube'+'</a>'\n",
    "        temp+='<tr>'+'<td>'+part1+'</td>'+'<td>'+part2+'</td>'+'</tr>'\n",
    "        lines.append(line2)\n",
    "        filenames.append(filename)\n",
    "        f.write(line+'\\n\\n')\n",
    "        f.write(text)\n",
    "        f.close()\n",
    "        #break"
   ]
  },
  {
   "cell_type": "code",
   "execution_count": 7,
   "id": "08667ad6",
   "metadata": {},
   "outputs": [
    {
     "data": {
      "text/plain": [
       "['[Mandukya Upanishad - 1 by Pravrajika Divyanandaprana](./Video-1)',\n",
       " '[Mandukya Upanishad - 2 by Pravrajika Divyanandaprana](./Video-2)',\n",
       " '[Mandukya Upanishad - 3 by Pravrajika Divyanandaprana](./Video-3)',\n",
       " '[Mandukya Upanishad - 4 by Pravrajika Divyanandaprana](./Video-4)',\n",
       " '[Mandukya Upanishad - 5 by Pravrajika Divyanandaprana](./Video-5)']"
      ]
     },
     "execution_count": 7,
     "metadata": {},
     "output_type": "execute_result"
    }
   ],
   "source": [
    "lines"
   ]
  },
  {
   "cell_type": "code",
   "execution_count": 8,
   "id": "08a62f97",
   "metadata": {},
   "outputs": [],
   "source": [
    "md_path='index.md'\n",
    "with open(md_path, \"r\") as file:\n",
    "    filedata = file.read().splitlines()\n",
    "content = []\n",
    "\n",
    "content = ['\\n [The Mandukya Upanishad](https://en.wikipedia.org/wiki/Mandukya_Upanishad) by [Pravrajika Divyanandaprana](https://www.linkedin.com/in/pravrajika-divyanandaprana-a7368a1b8/) \\n\\n<!--table_content-->\\n']\n",
    "# for j in filedata:\n",
    "#     if \"<!--table_content-->\" in j:\n",
    "#         content.append(\"<!--table_content-->\")\n",
    "#     else:\n",
    "#         content.append(j)\n",
    "with open(md_path, \"w\") as file:\n",
    "    file.write(\"\\n\".join(content))\n",
    "\n",
    "with open(md_path, \"r\") as file:\n",
    "    filedata = file.read().splitlines()\n",
    "    \n",
    "\n",
    "\n",
    "for j in filedata:\n",
    "    if \"<!--table_content-->\" in j:\n",
    "        content.append(\"<!--table_content-->\"+temp+\"</table>\")\n",
    "#     else:\n",
    "#         content.append(j)\n",
    "        \n",
    "# for i in lines:\n",
    "#         temp =  \"<!--table_content-->\"+\"<tr>\"+ \"<td>\"+\n",
    "#         \"<table style=\"width:100%\" id=\"j_table\"><thead><tr><th>Text</th><th>Video</th></thead>\"+'\\n\\n'.join(lines) +\"</table>\"\n",
    "#         content.append(temp)\n",
    "#     else:\n",
    "#         content.append(j)\n",
    "            \n",
    "\n",
    "with open(md_path, \"w\") as file:\n",
    "        file.write(\"\\n\".join(content))"
   ]
  },
  {
   "cell_type": "code",
   "execution_count": null,
   "id": "0903dd75",
   "metadata": {},
   "outputs": [],
   "source": []
  },
  {
   "cell_type": "code",
   "execution_count": null,
   "id": "f30213c6",
   "metadata": {},
   "outputs": [],
   "source": []
  }
 ],
 "metadata": {
  "kernelspec": {
   "display_name": "Python 3 (ipykernel)",
   "language": "python",
   "name": "python3"
  },
  "language_info": {
   "codemirror_mode": {
    "name": "ipython",
    "version": 3
   },
   "file_extension": ".py",
   "mimetype": "text/x-python",
   "name": "python",
   "nbconvert_exporter": "python",
   "pygments_lexer": "ipython3",
   "version": "3.8.13"
  }
 },
 "nbformat": 4,
 "nbformat_minor": 5
}
