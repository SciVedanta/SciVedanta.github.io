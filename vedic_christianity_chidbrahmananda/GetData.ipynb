{
 "cells": [
  {
   "cell_type": "code",
   "execution_count": 1,
   "id": "b9e0eafa",
   "metadata": {},
   "outputs": [],
   "source": [
    "#pip install youtube-transcript-api"
   ]
  },
  {
   "cell_type": "code",
   "execution_count": 1,
   "id": "031795b2",
   "metadata": {},
   "outputs": [],
   "source": [
    "from youtube_transcript_api import YouTubeTranscriptApi\n",
    "\n",
    "def get_text(youtube_id=\"XhKdu1_m-k4\"):\n",
    "    try:\n",
    "        text = \" \".join(\n",
    "            [\n",
    "                i[\"text\"]\n",
    "                .replace(\"\\xa0\\xa0\", \" \")\n",
    "                .replace(\"\\n\", \"\")\n",
    "                .replace(\"\\xa0\", \" \")\n",
    "                for i in YouTubeTranscriptApi.get_transcript(youtube_id)\n",
    "            ]\n",
    "        )\n",
    "        return text\n",
    "    except:\n",
    "        print ('Failed for',youtube_id )\n",
    "        pass\n"
   ]
  },
  {
   "cell_type": "code",
   "execution_count": 2,
   "id": "dd99d435",
   "metadata": {},
   "outputs": [],
   "source": [
    "import pandas as pd\n",
    "df = pd.read_csv('Sheet1.csv')\n",
    "df = df[df['Title'].notnull()]"
   ]
  },
  {
   "cell_type": "code",
   "execution_count": 3,
   "id": "5f3f9ac2",
   "metadata": {},
   "outputs": [],
   "source": [
    "df['youtube_id']=df['ID'].apply(lambda x: str(x).split('&')[0].strip('!'))"
   ]
  },
  {
   "cell_type": "code",
   "execution_count": 4,
   "id": "a3b78e35",
   "metadata": {},
   "outputs": [
    {
     "name": "stderr",
     "output_type": "stream",
     "text": [
      " 53%|█████████████████████████████████████████████████████████████████████████████████████████████▎                                                                                 | 8/15 [00:07<00:06,  1.11it/s]"
     ]
    },
    {
     "name": "stdout",
     "output_type": "stream",
     "text": [
      "Failed for qctRt5_l1o\n"
     ]
    },
    {
     "name": "stderr",
     "output_type": "stream",
     "text": [
      " 67%|████████████████████████████████████████████████████████████████████████████████████████████████████████████████████                                                          | 10/15 [00:09<00:04,  1.18it/s]"
     ]
    },
    {
     "name": "stdout",
     "output_type": "stream",
     "text": [
      "Failed for ANj_4UZAe0\n"
     ]
    },
    {
     "name": "stderr",
     "output_type": "stream",
     "text": [
      "100%|██████████████████████████████████████████████████████████████████████████████████████████████████████████████████████████████████████████████████████████████████████████████| 15/15 [00:16<00:00,  1.08s/it]\n"
     ]
    }
   ],
   "source": [
    "from tqdm import tqdm\n",
    "tqdm.pandas()\n",
    "df['text'] = df['youtube_id'].progress_apply(lambda x:get_text(x))"
   ]
  },
  {
   "cell_type": "code",
   "execution_count": 5,
   "id": "5b372781",
   "metadata": {},
   "outputs": [
    {
     "data": {
      "text/html": [
       "<div>\n",
       "<style scoped>\n",
       "    .dataframe tbody tr th:only-of-type {\n",
       "        vertical-align: middle;\n",
       "    }\n",
       "\n",
       "    .dataframe tbody tr th {\n",
       "        vertical-align: top;\n",
       "    }\n",
       "\n",
       "    .dataframe thead th {\n",
       "        text-align: right;\n",
       "    }\n",
       "</style>\n",
       "<table border=\"1\" class=\"dataframe\">\n",
       "  <thead>\n",
       "    <tr style=\"text-align: right;\">\n",
       "      <th></th>\n",
       "      <th>Title</th>\n",
       "      <th>ID</th>\n",
       "      <th>youtube_id</th>\n",
       "      <th>text</th>\n",
       "    </tr>\n",
       "  </thead>\n",
       "  <tbody>\n",
       "    <tr>\n",
       "      <th>0</th>\n",
       "      <td>Vedic Christianity · Class 1 · Practice of the...</td>\n",
       "      <td>XDAgPShdqlM&amp;list=PLBh-iYJ1Q_hQyUfJ2YBiiUnSBnaZ...</td>\n",
       "      <td>XDAgPShdqlM</td>\n",
       "      <td>all right good evening everyone and uh this is...</td>\n",
       "    </tr>\n",
       "    <tr>\n",
       "      <th>1</th>\n",
       "      <td>Vedic Christianity · Class 2 · Practice of the...</td>\n",
       "      <td>dE1-7k-aDm4&amp;list=PLBh-iYJ1Q_hQyUfJ2YBiiUnSBnaZ...</td>\n",
       "      <td>dE1-7k-aDm4</td>\n",
       "      <td>[Music] is [Music] this [Music] maybe [Music] ...</td>\n",
       "    </tr>\n",
       "    <tr>\n",
       "      <th>2</th>\n",
       "      <td>Vedic Christianity · Class 3 · Practice of the...</td>\n",
       "      <td>SZlT4wotPBs&amp;list=PLBh-iYJ1Q_hQyUfJ2YBiiUnSBnaZ...</td>\n",
       "      <td>SZlT4wotPBs</td>\n",
       "      <td>all right good evening everyone uh so we're ag...</td>\n",
       "    </tr>\n",
       "    <tr>\n",
       "      <th>3</th>\n",
       "      <td>Vedic Christianity · Class 4 · Practice of the...</td>\n",
       "      <td>JqPrJbJtC6s&amp;list=PLBh-iYJ1Q_hQyUfJ2YBiiUnSBnaZ...</td>\n",
       "      <td>JqPrJbJtC6s</td>\n",
       "      <td>[Music] so [Music] oh [Music] mountains [Music...</td>\n",
       "    </tr>\n",
       "    <tr>\n",
       "      <th>4</th>\n",
       "      <td>Vedic Christianity · Class 5 · Practice of the...</td>\n",
       "      <td>T40Och2ENj4&amp;list=PLBh-iYJ1Q_hQyUfJ2YBiiUnSBnaZ...</td>\n",
       "      <td>T40Och2ENj4</td>\n",
       "      <td>and love seems so far away only take me [Music...</td>\n",
       "    </tr>\n",
       "    <tr>\n",
       "      <th>5</th>\n",
       "      <td>Vedic Christianity, Class 6 · Practice of the ...</td>\n",
       "      <td>qm0cenYZU60&amp;list=PLBh-iYJ1Q_hQyUfJ2YBiiUnSBnaZ...</td>\n",
       "      <td>qm0cenYZU60</td>\n",
       "      <td>[Music] um [Music] um [Music] so of this pract...</td>\n",
       "    </tr>\n",
       "    <tr>\n",
       "      <th>6</th>\n",
       "      <td>Vedic Christianity, Class 7 · Practice of the ...</td>\n",
       "      <td>qctRt5_l1o&amp;list=PLBh-iYJ1Q_hQyUfJ2YBiiUnSBnaZN...</td>\n",
       "      <td>qctRt5_l1o</td>\n",
       "      <td>None</td>\n",
       "    </tr>\n",
       "    <tr>\n",
       "      <th>7</th>\n",
       "      <td>Vedic Christianity, Class 8 · Practice of the ...</td>\n",
       "      <td>qF1PeAzHs_0&amp;list=PLBh-iYJ1Q_hQyUfJ2YBiiUnSBnaZ...</td>\n",
       "      <td>qF1PeAzHs_0</td>\n",
       "      <td>[Music] where is this [Music] foreign [Music] ...</td>\n",
       "    </tr>\n",
       "    <tr>\n",
       "      <th>8</th>\n",
       "      <td>Vedic Christianity, Class 9 · Practice of the ...</td>\n",
       "      <td>ANj_4UZAe0&amp;list=PLBh-iYJ1Q_hQyUfJ2YBiiUnSBnaZN...</td>\n",
       "      <td>ANj_4UZAe0</td>\n",
       "      <td>None</td>\n",
       "    </tr>\n",
       "    <tr>\n",
       "      <th>9</th>\n",
       "      <td>Vedic Christianity, Class 10 · Practice of the...</td>\n",
       "      <td>I3SdM9Aah30&amp;list=PLBh-iYJ1Q_hQyUfJ2YBiiUnSBnaZ...</td>\n",
       "      <td>I3SdM9Aah30</td>\n",
       "      <td>so so so so so so so so so hmm so so so so so ...</td>\n",
       "    </tr>\n",
       "    <tr>\n",
       "      <th>10</th>\n",
       "      <td>Vedic Christianity, Class 11 · Practice of the...</td>\n",
       "      <td>UXxdVh8gIfM&amp;list=PLBh-iYJ1Q_hQyUfJ2YBiiUnSBnaZ...</td>\n",
       "      <td>UXxdVh8gIfM</td>\n",
       "      <td>[Music] oh [Music] [Music] i [Music] to me [Mu...</td>\n",
       "    </tr>\n",
       "    <tr>\n",
       "      <th>11</th>\n",
       "      <td>Vedic Christianity, Class 12 · Practice of the...</td>\n",
       "      <td>3Jm4Ix-7jt8&amp;list=PLBh-iYJ1Q_hQyUfJ2YBiiUnSBnaZ...</td>\n",
       "      <td>3Jm4Ix-7jt8</td>\n",
       "      <td>oh foreign [Music] oh [Music] oh [Music] is [M...</td>\n",
       "    </tr>\n",
       "    <tr>\n",
       "      <th>12</th>\n",
       "      <td>Vedic Christianity, Class 13 · Practice of the...</td>\n",
       "      <td>IihB9qTpsmw&amp;list=PLBh-iYJ1Q_hQyUfJ2YBiiUnSBnaZ...</td>\n",
       "      <td>IihB9qTpsmw</td>\n",
       "      <td>heart may be cleansed of its dust and that mig...</td>\n",
       "    </tr>\n",
       "    <tr>\n",
       "      <th>13</th>\n",
       "      <td>Vedic Christianity, Class 14 · Practice of the...</td>\n",
       "      <td>4s7ktqdgvcE&amp;list=PLBh-iYJ1Q_hQyUfJ2YBiiUnSBnaZ...</td>\n",
       "      <td>4s7ktqdgvcE</td>\n",
       "      <td>[Music] learn to make [Music] yours [Music] my...</td>\n",
       "    </tr>\n",
       "    <tr>\n",
       "      <th>14</th>\n",
       "      <td>Vedic Christianity, Class 15 · Practice of the...</td>\n",
       "      <td>1gHMWzXo0jI&amp;list=PLBh-iYJ1Q_hQyUfJ2YBiiUnSBnaZ...</td>\n",
       "      <td>1gHMWzXo0jI</td>\n",
       "      <td>[Music] do you worship God as mother or father...</td>\n",
       "    </tr>\n",
       "  </tbody>\n",
       "</table>\n",
       "</div>"
      ],
      "text/plain": [
       "                                                Title  \\\n",
       "0   Vedic Christianity · Class 1 · Practice of the...   \n",
       "1   Vedic Christianity · Class 2 · Practice of the...   \n",
       "2   Vedic Christianity · Class 3 · Practice of the...   \n",
       "3   Vedic Christianity · Class 4 · Practice of the...   \n",
       "4   Vedic Christianity · Class 5 · Practice of the...   \n",
       "5   Vedic Christianity, Class 6 · Practice of the ...   \n",
       "6   Vedic Christianity, Class 7 · Practice of the ...   \n",
       "7   Vedic Christianity, Class 8 · Practice of the ...   \n",
       "8   Vedic Christianity, Class 9 · Practice of the ...   \n",
       "9   Vedic Christianity, Class 10 · Practice of the...   \n",
       "10  Vedic Christianity, Class 11 · Practice of the...   \n",
       "11  Vedic Christianity, Class 12 · Practice of the...   \n",
       "12  Vedic Christianity, Class 13 · Practice of the...   \n",
       "13  Vedic Christianity, Class 14 · Practice of the...   \n",
       "14  Vedic Christianity, Class 15 · Practice of the...   \n",
       "\n",
       "                                                   ID   youtube_id  \\\n",
       "0   XDAgPShdqlM&list=PLBh-iYJ1Q_hQyUfJ2YBiiUnSBnaZ...  XDAgPShdqlM   \n",
       "1   dE1-7k-aDm4&list=PLBh-iYJ1Q_hQyUfJ2YBiiUnSBnaZ...  dE1-7k-aDm4   \n",
       "2   SZlT4wotPBs&list=PLBh-iYJ1Q_hQyUfJ2YBiiUnSBnaZ...  SZlT4wotPBs   \n",
       "3   JqPrJbJtC6s&list=PLBh-iYJ1Q_hQyUfJ2YBiiUnSBnaZ...  JqPrJbJtC6s   \n",
       "4   T40Och2ENj4&list=PLBh-iYJ1Q_hQyUfJ2YBiiUnSBnaZ...  T40Och2ENj4   \n",
       "5   qm0cenYZU60&list=PLBh-iYJ1Q_hQyUfJ2YBiiUnSBnaZ...  qm0cenYZU60   \n",
       "6   qctRt5_l1o&list=PLBh-iYJ1Q_hQyUfJ2YBiiUnSBnaZN...   qctRt5_l1o   \n",
       "7   qF1PeAzHs_0&list=PLBh-iYJ1Q_hQyUfJ2YBiiUnSBnaZ...  qF1PeAzHs_0   \n",
       "8   ANj_4UZAe0&list=PLBh-iYJ1Q_hQyUfJ2YBiiUnSBnaZN...   ANj_4UZAe0   \n",
       "9   I3SdM9Aah30&list=PLBh-iYJ1Q_hQyUfJ2YBiiUnSBnaZ...  I3SdM9Aah30   \n",
       "10  UXxdVh8gIfM&list=PLBh-iYJ1Q_hQyUfJ2YBiiUnSBnaZ...  UXxdVh8gIfM   \n",
       "11  3Jm4Ix-7jt8&list=PLBh-iYJ1Q_hQyUfJ2YBiiUnSBnaZ...  3Jm4Ix-7jt8   \n",
       "12  IihB9qTpsmw&list=PLBh-iYJ1Q_hQyUfJ2YBiiUnSBnaZ...  IihB9qTpsmw   \n",
       "13  4s7ktqdgvcE&list=PLBh-iYJ1Q_hQyUfJ2YBiiUnSBnaZ...  4s7ktqdgvcE   \n",
       "14  1gHMWzXo0jI&list=PLBh-iYJ1Q_hQyUfJ2YBiiUnSBnaZ...  1gHMWzXo0jI   \n",
       "\n",
       "                                                 text  \n",
       "0   all right good evening everyone and uh this is...  \n",
       "1   [Music] is [Music] this [Music] maybe [Music] ...  \n",
       "2   all right good evening everyone uh so we're ag...  \n",
       "3   [Music] so [Music] oh [Music] mountains [Music...  \n",
       "4   and love seems so far away only take me [Music...  \n",
       "5   [Music] um [Music] um [Music] so of this pract...  \n",
       "6                                                None  \n",
       "7   [Music] where is this [Music] foreign [Music] ...  \n",
       "8                                                None  \n",
       "9   so so so so so so so so so hmm so so so so so ...  \n",
       "10  [Music] oh [Music] [Music] i [Music] to me [Mu...  \n",
       "11  oh foreign [Music] oh [Music] oh [Music] is [M...  \n",
       "12  heart may be cleansed of its dust and that mig...  \n",
       "13  [Music] learn to make [Music] yours [Music] my...  \n",
       "14  [Music] do you worship God as mother or father...  "
      ]
     },
     "execution_count": 5,
     "metadata": {},
     "output_type": "execute_result"
    }
   ],
   "source": [
    "df"
   ]
  },
  {
   "cell_type": "code",
   "execution_count": 6,
   "id": "b2bdb4be",
   "metadata": {},
   "outputs": [],
   "source": [
    "lines=[]\n",
    "filenames=[]\n",
    "temp='<!--table_content--><table style=\"width:100%\" id=\"j_table\">'+ \"<thead><tr>\"+ \"<th>Text</th>\"+ \"<th>Video</th>\"+ \"</tr></thead>\"\n",
    "for i,ii in df.iterrows():\n",
    "    page = int(ii.name)+1  #ii['Unnamed: 0']\n",
    "    text = ii['text']\n",
    "    if text is not None:\n",
    "        #print('text',text)\n",
    "        filename='Video-'+str(page)+'.md'\n",
    "        filename2='Video-'+str(page)\n",
    "        #print (filename)\n",
    "        f=open(filename,'w')\n",
    "        line='['+ii['Title']+']('+'https://www.youtube.com/watch?v='+str(ii['ID'].split('&')[0].strip('!'))+')' \n",
    "        line2='['+ii['Title']+'](./'+filename2 +')'\n",
    "        \n",
    "        \n",
    "        \n",
    "        #temp+='<tr>'+'<td>'+line2+'</td>'+'<td>'+line+'</td>'+'</tr>'\n",
    "        part1='<a href=\"'+'./'+filename2+' \"'+' target=\"_black\"> '+ii['Title']+'</a>'\n",
    "        part2='<a href=\"'+ 'https://www.youtube.com/watch?v='+str(ii['ID'].split('&')[0].strip('!'))  +' \"'+' target=\"_black\"> '+'YouTube'+'</a>'\n",
    "        temp+='<tr>'+'<td>'+part1+'</td>'+'<td>'+part2+'</td>'+'</tr>'\n",
    "        lines.append(line2)\n",
    "        filenames.append(filename)\n",
    "        f.write(line+'\\n\\n')\n",
    "        f.write(text)\n",
    "        f.close()\n",
    "        #break"
   ]
  },
  {
   "cell_type": "code",
   "execution_count": 7,
   "id": "08667ad6",
   "metadata": {},
   "outputs": [
    {
     "data": {
      "text/plain": [
       "['[Vedic Christianity · Class 1 · Practice of the Presence of God · Swami Chidbrahmananda](./Video-1)',\n",
       " '[Vedic Christianity · Class 2 · Practice of the Presence of God · Swami Chidbrahmananda](./Video-2)',\n",
       " '[Vedic Christianity · Class 3 · Practice of the Presence of God · Swami Chidbrahmananda](./Video-3)',\n",
       " '[Vedic Christianity · Class 4 · Practice of the Presence of God · Swami Chidbrahmananda](./Video-4)',\n",
       " '[Vedic Christianity · Class 5 · Practice of the Presence of God · Swami Chidbrahmananda](./Video-5)',\n",
       " '[Vedic Christianity, Class 6\\u2002·\\u2002Practice of the Presence of God\\u2002·\\u2002Swami Chidbrahmananda](./Video-6)',\n",
       " '[Vedic Christianity, Class 8\\u2002·\\u2002Practice of the Presence of God\\u2002·\\u2002Swami Chidbrahmananda](./Video-8)',\n",
       " '[Vedic Christianity, Class 10 · Practice of the Presence of God · Swami Chidbrahmananda](./Video-10)',\n",
       " '[Vedic Christianity, Class 11\\u2002·\\u2002Practice of the Presence of God\\u2002·\\u2002Swami Chidbrahmananda](./Video-11)',\n",
       " '[Vedic Christianity, Class 12\\u2002·\\u2002Practice of the Presence of God\\u2002·\\u2002Swami Chidbrahmananda](./Video-12)',\n",
       " '[Vedic Christianity, Class 13\\u2002·\\u2002Practice of the Presence of God\\u2002·\\u2002Swami Chidbrahmananda](./Video-13)',\n",
       " '[Vedic Christianity, Class 14\\u2002·\\u2002Practice of the Presence of God\\u2002·\\u2002Swami Chidbrahmananda](./Video-14)',\n",
       " '[Vedic Christianity, Class 15 · Practice of the Presence of God · Swami Chidbrahmananda](./Video-15)']"
      ]
     },
     "execution_count": 7,
     "metadata": {},
     "output_type": "execute_result"
    }
   ],
   "source": [
    "lines"
   ]
  },
  {
   "cell_type": "code",
   "execution_count": 8,
   "id": "08a62f97",
   "metadata": {},
   "outputs": [],
   "source": [
    "md_path='index.md'\n",
    "with open(md_path, \"r\") as file:\n",
    "    filedata = file.read().splitlines()\n",
    "content = []\n",
    "\n",
    "content = ['\\n The Vedic Christianity by [Swami Chidbrahmananda](https://www.youtube.com/@monkotronic)\\n\\n<!--table_content-->\\n']\n",
    "# for j in filedata:\n",
    "#     if \"<!--table_content-->\" in j:\n",
    "#         content.append(\"<!--table_content-->\")\n",
    "#     else:\n",
    "#         content.append(j)\n",
    "with open(md_path, \"w\") as file:\n",
    "    file.write(\"\\n\".join(content))\n",
    "\n",
    "with open(md_path, \"r\") as file:\n",
    "    filedata = file.read().splitlines()\n",
    "    \n",
    "\n",
    "\n",
    "for j in filedata:\n",
    "    if \"<!--table_content-->\" in j:\n",
    "        content.append(\"<!--table_content-->\"+temp+\"</table>\")\n",
    "#     else:\n",
    "#         content.append(j)\n",
    "        \n",
    "# for i in lines:\n",
    "#         temp =  \"<!--table_content-->\"+\"<tr>\"+ \"<td>\"+\n",
    "#         \"<table style=\"width:100%\" id=\"j_table\"><thead><tr><th>Text</th><th>Video</th></thead>\"+'\\n\\n'.join(lines) +\"</table>\"\n",
    "#         content.append(temp)\n",
    "#     else:\n",
    "#         content.append(j)\n",
    "            \n",
    "\n",
    "with open(md_path, \"w\") as file:\n",
    "        file.write(\"\\n\".join(content))"
   ]
  },
  {
   "cell_type": "code",
   "execution_count": null,
   "id": "0903dd75",
   "metadata": {},
   "outputs": [],
   "source": []
  },
  {
   "cell_type": "code",
   "execution_count": null,
   "id": "f30213c6",
   "metadata": {},
   "outputs": [],
   "source": []
  }
 ],
 "metadata": {
  "kernelspec": {
   "display_name": "Python 3 (ipykernel)",
   "language": "python",
   "name": "python3"
  },
  "language_info": {
   "codemirror_mode": {
    "name": "ipython",
    "version": 3
   },
   "file_extension": ".py",
   "mimetype": "text/x-python",
   "name": "python",
   "nbconvert_exporter": "python",
   "pygments_lexer": "ipython3",
   "version": "3.8.13"
  }
 },
 "nbformat": 4,
 "nbformat_minor": 5
}
