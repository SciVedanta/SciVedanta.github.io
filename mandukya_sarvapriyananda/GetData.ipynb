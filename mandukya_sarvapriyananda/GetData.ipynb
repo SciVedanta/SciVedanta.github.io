{
 "cells": [
  {
   "cell_type": "code",
   "execution_count": 1,
   "id": "b9e0eafa",
   "metadata": {},
   "outputs": [],
   "source": [
    "#pip install youtube-transcript-api"
   ]
  },
  {
   "cell_type": "code",
   "execution_count": 25,
   "id": "031795b2",
   "metadata": {},
   "outputs": [],
   "source": [
    "from youtube_transcript_api import YouTubeTranscriptApi\n",
    "\n",
    "def get_text(youtube_id=\"XhKdu1_m-k4\"):\n",
    "    try:\n",
    "        text = \" \".join(\n",
    "            [\n",
    "                i[\"text\"]\n",
    "                .replace(\"\\xa0\\xa0\", \" \")\n",
    "                .replace(\"\\n\", \"\")\n",
    "                .replace(\"\\xa0\", \" \")\n",
    "                for i in YouTubeTranscriptApi.get_transcript(youtube_id)\n",
    "            ]\n",
    "        )\n",
    "        return text\n",
    "    except:\n",
    "        print ('Failed for',youtube_id )\n",
    "        pass\n"
   ]
  },
  {
   "cell_type": "code",
   "execution_count": 26,
   "id": "dd99d435",
   "metadata": {},
   "outputs": [],
   "source": [
    "import pandas as pd\n",
    "df = pd.read_csv('Sheet1.csv')\n",
    "df = df[df['Title'].notnull()]"
   ]
  },
  {
   "cell_type": "code",
   "execution_count": 27,
   "id": "5f3f9ac2",
   "metadata": {},
   "outputs": [],
   "source": [
    "df['youtube_id']=df['ID'].apply(lambda x: str(x).split('&')[0].strip('!'))"
   ]
  },
  {
   "cell_type": "code",
   "execution_count": 28,
   "id": "a3b78e35",
   "metadata": {},
   "outputs": [
    {
     "name": "stderr",
     "output_type": "stream",
     "text": [
      " 29%|██████████████████████████████████████████████████▍                                                                                                                           | 20/69 [00:38<01:10,  1.44s/it]"
     ]
    },
    {
     "name": "stdout",
     "output_type": "stream",
     "text": [
      "Failed for hxl3L9rBSIs\n"
     ]
    },
    {
     "name": "stderr",
     "output_type": "stream",
     "text": [
      " 45%|██████████████████████████████████████████████████████████████████████████████▏                                                                                               | 31/69 [00:53<00:42,  1.13s/it]"
     ]
    },
    {
     "name": "stdout",
     "output_type": "stream",
     "text": [
      "Failed for _02HTrh4zmk\n"
     ]
    },
    {
     "name": "stderr",
     "output_type": "stream",
     "text": [
      " 75%|███████████████████████████████████████████████████████████████████████████████████████████████████████████████████████████████████▏                                          | 52/69 [01:21<00:19,  1.17s/it]"
     ]
    },
    {
     "name": "stdout",
     "output_type": "stream",
     "text": [
      "Failed for -qO1AZRmxcc\n"
     ]
    },
    {
     "name": "stderr",
     "output_type": "stream",
     "text": [
      "100%|██████████████████████████████████████████████████████████████████████████████████████████████████████████████████████████████████████████████████████████████████████████████| 69/69 [01:51<00:00,  1.61s/it]\n"
     ]
    }
   ],
   "source": [
    "from tqdm import tqdm\n",
    "tqdm.pandas()\n",
    "df['text'] = df['youtube_id'].progress_apply(lambda x:get_text(x))"
   ]
  },
  {
   "cell_type": "code",
   "execution_count": 29,
   "id": "5b372781",
   "metadata": {},
   "outputs": [
    {
     "data": {
      "text/html": [
       "<div>\n",
       "<style scoped>\n",
       "    .dataframe tbody tr th:only-of-type {\n",
       "        vertical-align: middle;\n",
       "    }\n",
       "\n",
       "    .dataframe tbody tr th {\n",
       "        vertical-align: top;\n",
       "    }\n",
       "\n",
       "    .dataframe thead th {\n",
       "        text-align: right;\n",
       "    }\n",
       "</style>\n",
       "<table border=\"1\" class=\"dataframe\">\n",
       "  <thead>\n",
       "    <tr style=\"text-align: right;\">\n",
       "      <th></th>\n",
       "      <th>Title</th>\n",
       "      <th>ID</th>\n",
       "      <th>youtube_id</th>\n",
       "      <th>text</th>\n",
       "    </tr>\n",
       "  </thead>\n",
       "  <tbody>\n",
       "    <tr>\n",
       "      <th>0</th>\n",
       "      <td>1. Mandukya Upanishad | Chapter 1 Mantra 1</td>\n",
       "      <td>8mCkWGlO2x8</td>\n",
       "      <td>8mCkWGlO2x8</td>\n",
       "      <td>boomba drunken official ooyama diva own harem ...</td>\n",
       "    </tr>\n",
       "    <tr>\n",
       "      <th>1</th>\n",
       "      <td>2. Mandukya Upanishad | Chapter 1 Mantra 2</td>\n",
       "      <td>Da4Upkl_jj4</td>\n",
       "      <td>Da4Upkl_jj4</td>\n",
       "      <td>oompah drunk a renovation ooyama diva petrm pe...</td>\n",
       "    </tr>\n",
       "    <tr>\n",
       "      <th>2</th>\n",
       "      <td>3. Mandukya Upanishad | Chapter 1 Mantra 3-4</td>\n",
       "      <td>1pBhcSi9uKQ</td>\n",
       "      <td>1pBhcSi9uKQ</td>\n",
       "      <td>boom Bertram Karen II wish I knew Yama Deva bh...</td>\n",
       "    </tr>\n",
       "    <tr>\n",
       "      <th>3</th>\n",
       "      <td>4. Mandukya Upanishad | Chapter 1 Mantra 5-6</td>\n",
       "      <td>o_uj86CgwRI</td>\n",
       "      <td>o_uj86CgwRI</td>\n",
       "      <td>Oh huh drunken efficient Aoyama diva but Rampa...</td>\n",
       "    </tr>\n",
       "    <tr>\n",
       "      <th>4</th>\n",
       "      <td>5. Mandukya Upanishad | Chapter 1 Karika 1-5</td>\n",
       "      <td>0AYLO_fAYo8</td>\n",
       "      <td>0AYLO_fAYo8</td>\n",
       "      <td>boom bhadram Corina bish renew Yama Deva petrm...</td>\n",
       "    </tr>\n",
       "    <tr>\n",
       "      <th>...</th>\n",
       "      <td>...</td>\n",
       "      <td>...</td>\n",
       "      <td>...</td>\n",
       "      <td>...</td>\n",
       "    </tr>\n",
       "    <tr>\n",
       "      <th>64</th>\n",
       "      <td>65. Mandukya Upanishad | Chapter 4 Karika 74-78</td>\n",
       "      <td>j7M0WAyMpMw</td>\n",
       "      <td>j7M0WAyMpMw</td>\n",
       "      <td>it's in the fourth chapter of the mandukya kar...</td>\n",
       "    </tr>\n",
       "    <tr>\n",
       "      <th>65</th>\n",
       "      <td>66. Mandukya Upanishad | Chapter 4 Karika 79-82</td>\n",
       "      <td>k3ItJ_0k1HY</td>\n",
       "      <td>k3ItJ_0k1HY</td>\n",
       "      <td>so we were studying the fourth chapter of the ...</td>\n",
       "    </tr>\n",
       "    <tr>\n",
       "      <th>66</th>\n",
       "      <td>67. Mandukya Upanishad | Chapter 4 Karika 83-86</td>\n",
       "      <td>IbyrTYvDwkc</td>\n",
       "      <td>IbyrTYvDwkc</td>\n",
       "      <td>yes [Music] we are studying the mandukya karik...</td>\n",
       "    </tr>\n",
       "    <tr>\n",
       "      <th>67</th>\n",
       "      <td>68. Mandukya Upanishad | Chapter 4 Karika 87-93</td>\n",
       "      <td>RP1XC7vZ9wA</td>\n",
       "      <td>RP1XC7vZ9wA</td>\n",
       "      <td>[Music] wait um so yesterday in the fourth cha...</td>\n",
       "    </tr>\n",
       "    <tr>\n",
       "      <th>68</th>\n",
       "      <td>69. Mandukya Upanishad | Chapter 4 Karika 94-100</td>\n",
       "      <td>yRJqZFavANU</td>\n",
       "      <td>yRJqZFavANU</td>\n",
       "      <td>yeah recording started stirring [Music] m we a...</td>\n",
       "    </tr>\n",
       "  </tbody>\n",
       "</table>\n",
       "<p>69 rows × 4 columns</p>\n",
       "</div>"
      ],
      "text/plain": [
       "                                               Title           ID  \\\n",
       "0         1. Mandukya Upanishad | Chapter 1 Mantra 1  8mCkWGlO2x8   \n",
       "1         2. Mandukya Upanishad | Chapter 1 Mantra 2  Da4Upkl_jj4   \n",
       "2       3. Mandukya Upanishad | Chapter 1 Mantra 3-4  1pBhcSi9uKQ   \n",
       "3       4. Mandukya Upanishad | Chapter 1 Mantra 5-6  o_uj86CgwRI   \n",
       "4       5. Mandukya Upanishad | Chapter 1 Karika 1-5  0AYLO_fAYo8   \n",
       "..                                               ...          ...   \n",
       "64   65. Mandukya Upanishad | Chapter 4 Karika 74-78  j7M0WAyMpMw   \n",
       "65   66. Mandukya Upanishad | Chapter 4 Karika 79-82  k3ItJ_0k1HY   \n",
       "66   67. Mandukya Upanishad | Chapter 4 Karika 83-86  IbyrTYvDwkc   \n",
       "67   68. Mandukya Upanishad | Chapter 4 Karika 87-93  RP1XC7vZ9wA   \n",
       "68  69. Mandukya Upanishad | Chapter 4 Karika 94-100  yRJqZFavANU   \n",
       "\n",
       "     youtube_id                                               text  \n",
       "0   8mCkWGlO2x8  boomba drunken official ooyama diva own harem ...  \n",
       "1   Da4Upkl_jj4  oompah drunk a renovation ooyama diva petrm pe...  \n",
       "2   1pBhcSi9uKQ  boom Bertram Karen II wish I knew Yama Deva bh...  \n",
       "3   o_uj86CgwRI  Oh huh drunken efficient Aoyama diva but Rampa...  \n",
       "4   0AYLO_fAYo8  boom bhadram Corina bish renew Yama Deva petrm...  \n",
       "..          ...                                                ...  \n",
       "64  j7M0WAyMpMw  it's in the fourth chapter of the mandukya kar...  \n",
       "65  k3ItJ_0k1HY  so we were studying the fourth chapter of the ...  \n",
       "66  IbyrTYvDwkc  yes [Music] we are studying the mandukya karik...  \n",
       "67  RP1XC7vZ9wA  [Music] wait um so yesterday in the fourth cha...  \n",
       "68  yRJqZFavANU  yeah recording started stirring [Music] m we a...  \n",
       "\n",
       "[69 rows x 4 columns]"
      ]
     },
     "execution_count": 29,
     "metadata": {},
     "output_type": "execute_result"
    }
   ],
   "source": [
    "df"
   ]
  },
  {
   "cell_type": "code",
   "execution_count": 30,
   "id": "b2bdb4be",
   "metadata": {},
   "outputs": [],
   "source": [
    "lines=[]\n",
    "filenames=[]\n",
    "temp='<!--table_content--><table style=\"width:100%\" id=\"j_table\">'+ \"<thead><tr>\"+ \"<th>Text</th>\"+ \"<th>Video</th>\"+ \"</tr></thead>\"\n",
    "for i,ii in df.iterrows():\n",
    "    page = ii.name #ii['Unnamed: 0']\n",
    "    text = ii['text']\n",
    "    if text is not None:\n",
    "        #print('text',text)\n",
    "        filename='../docs/Video-'+str(page)+'.md'\n",
    "        filename2='Video-'+str(page)\n",
    "        #print (filename)\n",
    "        f=open(filename,'w')\n",
    "        line='['+ii['Title']+']('+'https://www.youtube.com/watch?v='+str(ii['ID'].split('&')[0].strip('!'))+')' \n",
    "        line2='['+ii['Title']+'](./'+filename2 +')'\n",
    "        \n",
    "        \n",
    "        \n",
    "        #temp+='<tr>'+'<td>'+line2+'</td>'+'<td>'+line+'</td>'+'</tr>'\n",
    "        part1='<a href=\"'+'./'+filename2+' \"'+' target=\"_black\"> '+ii['Title']+'</a>'\n",
    "        part2='<a href=\"'+ 'https://www.youtube.com/watch?v='+str(ii['ID'].split('&')[0].strip('!'))  +' \"'+' target=\"_black\"> '+'YouTube'+'</a>'\n",
    "        temp+='<tr>'+'<td>'+part1+'</td>'+'<td>'+part2+'</td>'+'</tr>'\n",
    "        lines.append(line2)\n",
    "        filenames.append(filename)\n",
    "        f.write(line+'\\n\\n')\n",
    "        f.write(text)\n",
    "        f.close()\n",
    "        #break"
   ]
  },
  {
   "cell_type": "code",
   "execution_count": 31,
   "id": "d9e1afd1",
   "metadata": {},
   "outputs": [
    {
     "data": {
      "text/plain": [
       "68"
      ]
     },
     "execution_count": 31,
     "metadata": {},
     "output_type": "execute_result"
    }
   ],
   "source": [
    "ii.name"
   ]
  },
  {
   "cell_type": "code",
   "execution_count": 32,
   "id": "08667ad6",
   "metadata": {},
   "outputs": [
    {
     "data": {
      "text/plain": [
       "['[1. Mandukya Upanishad | Chapter 1 Mantra 1](./Video-0)',\n",
       " '[2. Mandukya Upanishad | Chapter 1 Mantra 2](./Video-1)',\n",
       " '[3. Mandukya Upanishad | Chapter 1 Mantra 3-4](./Video-2)',\n",
       " '[4. Mandukya Upanishad | Chapter 1 Mantra 5-6](./Video-3)',\n",
       " '[5. Mandukya Upanishad | Chapter 1 Karika 1-5](./Video-4)',\n",
       " '[6. Mandukya Upanishad | Chapter 1 Karika 6-9](./Video-5)',\n",
       " '[7. Mandukya Upanishad | Chapter 1 Mantra 7 - Part 1](./Video-6)',\n",
       " '[8. Mandukya Upanishad | Chapter 1 Mantra 7 - Part 2](./Video-7)',\n",
       " '[9. Mandukya Upanishad | Chapter 1 Karika 10](./Video-8)',\n",
       " '[10. Mandukya Upanishad | Chapter 1 Karika 10-14](./Video-9)',\n",
       " '[11. Mandukya Upanishad | Chapter 1 Karika 15-18](./Video-10)',\n",
       " '[12. Mandukya Upanishad | Chapter 1 Mantra 8](./Video-11)',\n",
       " '[13. Mandukya Upanishad | Chapter 1 Mantra 9-11](./Video-12)',\n",
       " '[14. Mandukya Upanishad | Chapter 1 Karika 19-21](./Video-13)',\n",
       " '[15. Mandukya Upanishad | Chapter 1 Mantra 12 & Karika 22-23](./Video-14)',\n",
       " '[16. Mandukya Upanishad | Chapter 1 Karika 24-29](./Video-15)',\n",
       " '[17. Mandukya Upanishad | Chapter 1 Review](./Video-16)',\n",
       " '[18. Mandukya Upanishad | Chapter 2 Karika 1](./Video-17)',\n",
       " '[20. Mandukya Upanishad | Chapter 2 Karika 6](./Video-19)',\n",
       " '[21. Mandukya Upanishad | Chapter 2 Karika 7-10, 14, 15](./Video-20)',\n",
       " '[22. Mandukya Upanishad | Chapter 2 Karika 11-12](./Video-21)',\n",
       " '[23. Mandukya Upanishad | Chapter 2 Karika13](./Video-22)',\n",
       " '[24. Mandukya Upanishad | Chapter 2 Karika 16-18](./Video-23)',\n",
       " '[25. Mandukya Upanishad | Chapter 2 Karika 19-23](./Video-24)',\n",
       " '[26. Mandukya Upanishad | Chapter 2 Karika 24-28](./Video-25)',\n",
       " '[27. Mandukya Upanishad | Chapter 2 Karika 29-31](./Video-26)',\n",
       " '[28. Mandukya Upanishad | Chapter 2 Karika 32](./Video-27)',\n",
       " '[29. Mandukya Upanishad | Chapter 2 Karika 33-34](./Video-28)',\n",
       " '[31. Mandukya Upanishad | Chapter 2 Karika 36](./Video-30)',\n",
       " '[32. Mandukya Upanishad | Chapter 2 Karika 37](./Video-31)',\n",
       " '[33. Mandukya Upanishad | Chapter 2 Karika 38](./Video-32)',\n",
       " '[34. Mandukya Upanishad | Chapter 2 Review](./Video-33)',\n",
       " '[35. Mandukya Upanishad | Chapter 3 Karika 1](./Video-34)',\n",
       " '[36. Mandukya Upanishad | Chapter 3 Karika 2-3](./Video-35)',\n",
       " '[37. Mandukya Upanishad | Chapter 3 Karika 4-11](./Video-36)',\n",
       " '[38. Mandukya Upanishad | Chapter 3 Karika 12-14](./Video-37)',\n",
       " '[39. Mandukya Upanishad | Chapter 3 Karika 15-16](./Video-38)',\n",
       " '[40. Mandukya Upanishad | Chapter 3 Karika 17-19](./Video-39)',\n",
       " '[41. Mandukya Upanishad | Chapter 3 Karika 20-22](./Video-40)',\n",
       " '[42. Mandukya Upanishad | Chapter 3 Karika 23-24](./Video-41)',\n",
       " '[43. Mandukya Upanishad | Chapter 3 Karika 25-28](./Video-42)',\n",
       " '[44. Mandukya Upanishad | Chapter 3 Karika 29-30](./Video-43)',\n",
       " '[45. Mandukya Upanishad | Chapter 3 Karika 31-32](./Video-44)',\n",
       " '[46. Mandukya Upanishad | Chapter 3 Karika 33](./Video-45)',\n",
       " '[47. Mandukya Upanishad | Chapter 3 Karika 34-36](./Video-46)',\n",
       " '[48. Mandukya Upanishad | Chapter 3 Karika 37-39](./Video-47)',\n",
       " '[49. Mandukya Upanishad | Chapter 3 Karika 40-42](./Video-48)',\n",
       " '[50. Mandukya Upanishad | Chapter 3 Karika 43-47](./Video-49)',\n",
       " '[52. Mandukya Upanishad | Chapter 3 Karika Summary Q &A](./Video-51)',\n",
       " '[53. Mandukya Upanishad | Chapter 1&2 Summary](./Video-52)',\n",
       " '[54. Mandukya Upanishad | Chapter 4 Karika 1](./Video-53)',\n",
       " '[55. Mandukya Upanishad | Chapter 4 Karika 2](./Video-54)',\n",
       " '[56. Mandukya Upanishad | Chapter 4 Karika 5-10](./Video-55)',\n",
       " '[57. Mandukya Upanishad | Chapter 4 Karika 11-13](./Video-56)',\n",
       " '[58. Mandukya Upanishad | Chapter 4 Mantra 14-20](./Video-57)',\n",
       " '[59. Mandukya Upanishad | Chapter 4 Mantra 21-24](./Video-58)',\n",
       " '[60. Mandukya Upanishad | Chapter 4 Karika 25-27](./Video-59)',\n",
       " '[61. Mandukya Upanishad | Chapter 4 Mantra 28-43](./Video-60)',\n",
       " '[62. Mandukya Upanishad | Chapter 4 Mantra 44-54](./Video-61)',\n",
       " '[63. Mandukya Upanishad | Chapter 4 Karika 55-60](./Video-62)',\n",
       " '[64. Mandukya Upanishad | Chapter 4 Karika 61-73](./Video-63)',\n",
       " '[65. Mandukya Upanishad | Chapter 4 Karika 74-78](./Video-64)',\n",
       " '[66. Mandukya Upanishad | Chapter 4 Karika 79-82](./Video-65)',\n",
       " '[67. Mandukya Upanishad | Chapter 4 Karika 83-86](./Video-66)',\n",
       " '[68. Mandukya Upanishad | Chapter 4 Karika 87-93](./Video-67)',\n",
       " '[69. Mandukya Upanishad | Chapter 4 Karika 94-100](./Video-68)']"
      ]
     },
     "execution_count": 32,
     "metadata": {},
     "output_type": "execute_result"
    }
   ],
   "source": [
    "lines"
   ]
  },
  {
   "cell_type": "code",
   "execution_count": 33,
   "id": "2927cade",
   "metadata": {},
   "outputs": [],
   "source": [
    "md_path='../docs/index.md'\n",
    "with open(md_path, \"r\") as file:\n",
    "    filedata = file.read().splitlines()\n",
    "content = []\n",
    "\n",
    "content = ['\\n[Mandukya Upanishad](https://en.wikipedia.org/wiki/Mandukya_Upanishad) by [Swami Sarvapriyananda](https://www.vedantany.org/resident-minister)\\n\\n<!--table_content-->\\n']\n",
    "# for j in filedata:\n",
    "#     if \"<!--table_content-->\" in j:\n",
    "#         content.append(\"<!--table_content-->\")\n",
    "#     else:\n",
    "#         content.append(j)\n",
    "with open(md_path, \"w\") as file:\n",
    "    file.write(\"\\n\".join(content))\n",
    "\n",
    "with open(md_path, \"r\") as file:\n",
    "    filedata = file.read().splitlines()\n",
    "    \n",
    "\n",
    "\n",
    "for j in filedata:\n",
    "    if \"<!--table_content-->\" in j:\n",
    "        content.append(\"<!--table_content-->\"+temp+\"</table>\")\n",
    "#     else:\n",
    "#         content.append(j)\n",
    "        \n",
    "# for i in lines:\n",
    "#         temp =  \"<!--table_content-->\"+\"<tr>\"+ \"<td>\"+\n",
    "#         \"<table style=\"width:100%\" id=\"j_table\"><thead><tr><th>Text</th><th>Video</th></thead>\"+'\\n\\n'.join(lines) +\"</table>\"\n",
    "#         content.append(temp)\n",
    "#     else:\n",
    "#         content.append(j)\n",
    "            \n",
    "\n",
    "with open(md_path, \"w\") as file:\n",
    "        file.write(\"\\n\".join(content))"
   ]
  },
  {
   "cell_type": "code",
   "execution_count": null,
   "id": "cf8082d5",
   "metadata": {},
   "outputs": [],
   "source": []
  },
  {
   "cell_type": "code",
   "execution_count": null,
   "id": "d967b804",
   "metadata": {},
   "outputs": [],
   "source": []
  }
 ],
 "metadata": {
  "kernelspec": {
   "display_name": "Python 3 (ipykernel)",
   "language": "python",
   "name": "python3"
  },
  "language_info": {
   "codemirror_mode": {
    "name": "ipython",
    "version": 3
   },
   "file_extension": ".py",
   "mimetype": "text/x-python",
   "name": "python",
   "nbconvert_exporter": "python",
   "pygments_lexer": "ipython3",
   "version": "3.8.13"
  }
 },
 "nbformat": 4,
 "nbformat_minor": 5
}
