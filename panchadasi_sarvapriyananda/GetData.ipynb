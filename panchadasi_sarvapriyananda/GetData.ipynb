{
 "cells": [
  {
   "cell_type": "code",
   "execution_count": 1,
   "id": "b9e0eafa",
   "metadata": {},
   "outputs": [],
   "source": [
    "#pip install youtube-transcript-api"
   ]
  },
  {
   "cell_type": "code",
   "execution_count": 1,
   "id": "031795b2",
   "metadata": {},
   "outputs": [],
   "source": [
    "from youtube_transcript_api import YouTubeTranscriptApi\n",
    "\n",
    "def get_text(youtube_id=\"XhKdu1_m-k4\"):\n",
    "    try:\n",
    "        text = \" \".join(\n",
    "            [\n",
    "                i[\"text\"]\n",
    "                .replace(\"\\xa0\\xa0\", \" \")\n",
    "                .replace(\"\\n\", \"\")\n",
    "                .replace(\"\\xa0\", \" \")\n",
    "                for i in YouTubeTranscriptApi.get_transcript(youtube_id)\n",
    "            ]\n",
    "        )\n",
    "        return text\n",
    "    except:\n",
    "        print ('Failed for',youtube_id )\n",
    "        pass\n"
   ]
  },
  {
   "cell_type": "code",
   "execution_count": 2,
   "id": "dd99d435",
   "metadata": {},
   "outputs": [],
   "source": [
    "import pandas as pd\n",
    "df = pd.read_csv('Sheet1.csv')\n",
    "df = df[df['Title'].notnull()]"
   ]
  },
  {
   "cell_type": "code",
   "execution_count": 3,
   "id": "5f3f9ac2",
   "metadata": {},
   "outputs": [],
   "source": [
    "df['youtube_id']=df['ID'].apply(lambda x: str(x).split('&')[0].strip('!'))"
   ]
  },
  {
   "cell_type": "code",
   "execution_count": 4,
   "id": "a3b78e35",
   "metadata": {},
   "outputs": [
    {
     "name": "stderr",
     "output_type": "stream",
     "text": [
      "100%|████████████████████████████████████████████████████████████████████████████████████████████████████████████████████████████████████████████████████████████████████████████████| 8/8 [00:09<00:00,  1.24s/it]\n"
     ]
    }
   ],
   "source": [
    "from tqdm import tqdm\n",
    "tqdm.pandas()\n",
    "df['text'] = df['youtube_id'].progress_apply(lambda x:get_text(x))"
   ]
  },
  {
   "cell_type": "code",
   "execution_count": 5,
   "id": "5b372781",
   "metadata": {},
   "outputs": [
    {
     "data": {
      "text/html": [
       "<div>\n",
       "<style scoped>\n",
       "    .dataframe tbody tr th:only-of-type {\n",
       "        vertical-align: middle;\n",
       "    }\n",
       "\n",
       "    .dataframe tbody tr th {\n",
       "        vertical-align: top;\n",
       "    }\n",
       "\n",
       "    .dataframe thead th {\n",
       "        text-align: right;\n",
       "    }\n",
       "</style>\n",
       "<table border=\"1\" class=\"dataframe\">\n",
       "  <thead>\n",
       "    <tr style=\"text-align: right;\">\n",
       "      <th></th>\n",
       "      <th>Title</th>\n",
       "      <th>ID</th>\n",
       "      <th>youtube_id</th>\n",
       "      <th>text</th>\n",
       "    </tr>\n",
       "  </thead>\n",
       "  <tbody>\n",
       "    <tr>\n",
       "      <th>0</th>\n",
       "      <td>Panchadasi - Lecture 1</td>\n",
       "      <td>rNHJvdbTRws</td>\n",
       "      <td>rNHJvdbTRws</td>\n",
       "      <td>Oh Oh leaders from the unveil to the real lead...</td>\n",
       "    </tr>\n",
       "    <tr>\n",
       "      <th>1</th>\n",
       "      <td>Panchadasi - Lecture 2</td>\n",
       "      <td>KNcrtQzutTg</td>\n",
       "      <td>KNcrtQzutTg</td>\n",
       "      <td>[Music] they lead us from darkness into light ...</td>\n",
       "    </tr>\n",
       "    <tr>\n",
       "      <th>2</th>\n",
       "      <td>Panchadasi - Lecture 3</td>\n",
       "      <td>LAak_FzLae8</td>\n",
       "      <td>LAak_FzLae8</td>\n",
       "      <td>Oh leaders from the unreal to the real leaders...</td>\n",
       "    </tr>\n",
       "    <tr>\n",
       "      <th>3</th>\n",
       "      <td>Panchadasi - Lecture 4</td>\n",
       "      <td>hpIzXDa3MQ8</td>\n",
       "      <td>hpIzXDa3MQ8</td>\n",
       "      <td>lead us from the unreal to the real leaders fr...</td>\n",
       "    </tr>\n",
       "    <tr>\n",
       "      <th>4</th>\n",
       "      <td>Panchadasi - Lecture 5</td>\n",
       "      <td>ooTc4QazKvg</td>\n",
       "      <td>ooTc4QazKvg</td>\n",
       "      <td>my own leaders from the unreal to the real Veg...</td>\n",
       "    </tr>\n",
       "    <tr>\n",
       "      <th>5</th>\n",
       "      <td>Panchadasi - Lecture 6</td>\n",
       "      <td>C3eABsDNQmA</td>\n",
       "      <td>C3eABsDNQmA</td>\n",
       "      <td>Oh [Music] haha dude Britannia Oh Shaun - Shau...</td>\n",
       "    </tr>\n",
       "    <tr>\n",
       "      <th>6</th>\n",
       "      <td>Panchadasi - Lecture 7</td>\n",
       "      <td>ojdfNDST358</td>\n",
       "      <td>ojdfNDST358</td>\n",
       "      <td>I said Oh leaders from the unreal to the real ...</td>\n",
       "    </tr>\n",
       "    <tr>\n",
       "      <th>7</th>\n",
       "      <td>Panchadasi-Lecture 8</td>\n",
       "      <td>BlZdtDqk31c</td>\n",
       "      <td>BlZdtDqk31c</td>\n",
       "      <td>Oh leaders from the unreal to the real leaders...</td>\n",
       "    </tr>\n",
       "  </tbody>\n",
       "</table>\n",
       "</div>"
      ],
      "text/plain": [
       "                    Title           ID   youtube_id  \\\n",
       "0  Panchadasi - Lecture 1  rNHJvdbTRws  rNHJvdbTRws   \n",
       "1  Panchadasi - Lecture 2  KNcrtQzutTg  KNcrtQzutTg   \n",
       "2  Panchadasi - Lecture 3  LAak_FzLae8  LAak_FzLae8   \n",
       "3  Panchadasi - Lecture 4  hpIzXDa3MQ8  hpIzXDa3MQ8   \n",
       "4  Panchadasi - Lecture 5  ooTc4QazKvg  ooTc4QazKvg   \n",
       "5  Panchadasi - Lecture 6  C3eABsDNQmA  C3eABsDNQmA   \n",
       "6  Panchadasi - Lecture 7  ojdfNDST358  ojdfNDST358   \n",
       "7    Panchadasi-Lecture 8  BlZdtDqk31c  BlZdtDqk31c   \n",
       "\n",
       "                                                text  \n",
       "0  Oh Oh leaders from the unveil to the real lead...  \n",
       "1  [Music] they lead us from darkness into light ...  \n",
       "2  Oh leaders from the unreal to the real leaders...  \n",
       "3  lead us from the unreal to the real leaders fr...  \n",
       "4  my own leaders from the unreal to the real Veg...  \n",
       "5  Oh [Music] haha dude Britannia Oh Shaun - Shau...  \n",
       "6  I said Oh leaders from the unreal to the real ...  \n",
       "7  Oh leaders from the unreal to the real leaders...  "
      ]
     },
     "execution_count": 5,
     "metadata": {},
     "output_type": "execute_result"
    }
   ],
   "source": [
    "df"
   ]
  },
  {
   "cell_type": "code",
   "execution_count": 12,
   "id": "b2bdb4be",
   "metadata": {},
   "outputs": [],
   "source": [
    "lines=[]\n",
    "filenames=[]\n",
    "temp='<!--table_content--><table style=\"width:100%\" id=\"j_table\">'+ \"<thead><tr>\"+ \"<th>Text</th>\"+ \"<th>Video</th>\"+ \"</tr></thead>\"\n",
    "for i,ii in df.iterrows():\n",
    "    page = int(ii.name)+1  #ii['Unnamed: 0']\n",
    "    text = (ii['text'])\n",
    "    if text is not None:\n",
    "        #print('text',text)\n",
    "        filename='Video-'+str(page)+'.md'\n",
    "        filename2='Video-'+str(page)\n",
    "        #print (filename)\n",
    "        f=open(filename,'w')\n",
    "        line='['+ii['Title']+']('+'https://www.youtube.com/watch?v='+str(ii['ID'].split('&')[0].strip('!'))+')' \n",
    "        line2='['+ii['Title']+'](./'+filename2 +')'\n",
    "        \n",
    "        \n",
    "        \n",
    "        #temp+='<tr>'+'<td>'+line2+'</td>'+'<td>'+line+'</td>'+'</tr>'\n",
    "        part1='<a href=\"'+'./'+filename2+' \"'+' target=\"_black\"> '+ii['Title']+'</a>'\n",
    "        part2='<a href=\"'+ 'https://www.youtube.com/watch?v='+str(ii['ID'].split('&')[0].strip('!'))  +' \"'+' target=\"_black\"> '+'YouTube'+'</a>'\n",
    "        temp+='<tr>'+'<td>'+part1+'</td>'+'<td>'+part2+'</td>'+'</tr>'\n",
    "        lines.append(line2)\n",
    "        filenames.append(filename)\n",
    "        f.write(line+'\\n\\n')\n",
    "        f.write(text)\n",
    "        f.close()\n",
    "        #break"
   ]
  },
  {
   "cell_type": "code",
   "execution_count": 13,
   "id": "08667ad6",
   "metadata": {},
   "outputs": [
    {
     "data": {
      "text/plain": [
       "['[Panchadasi - Lecture 1](./Video-1)',\n",
       " '[Panchadasi - Lecture 2](./Video-2)',\n",
       " '[Panchadasi - Lecture 3](./Video-3)',\n",
       " '[Panchadasi - Lecture 4](./Video-4)',\n",
       " '[Panchadasi - Lecture 5](./Video-5)',\n",
       " '[Panchadasi - Lecture 6](./Video-6)',\n",
       " '[Panchadasi - Lecture 7](./Video-7)',\n",
       " '[Panchadasi-Lecture 8](./Video-8)']"
      ]
     },
     "execution_count": 13,
     "metadata": {},
     "output_type": "execute_result"
    }
   ],
   "source": [
    "lines"
   ]
  },
  {
   "cell_type": "code",
   "execution_count": 14,
   "id": "08a62f97",
   "metadata": {},
   "outputs": [],
   "source": [
    "md_path='index.md'\n",
    "with open(md_path, \"r\") as file:\n",
    "    filedata = file.read().splitlines()\n",
    "content = []\n",
    "\n",
    "content = ['\\n [Panchadasi](https://en.wikipedia.org/wiki/Panchadasi) by [Swami Sarvapriyananda](https://en.wikipedia.org/wiki/Swami_Sarvapriyananda) \\n\\n<!--table_content-->\\n']\n",
    "# for j in filedata:\n",
    "#     if \"<!--table_content-->\" in j:\n",
    "#         content.append(\"<!--table_content-->\")\n",
    "#     else:\n",
    "#         content.append(j)\n",
    "with open(md_path, \"w\") as file:\n",
    "    file.write(\"\\n\".join(content))\n",
    "\n",
    "with open(md_path, \"r\") as file:\n",
    "    filedata = file.read().splitlines()\n",
    "    \n",
    "\n",
    "\n",
    "for j in filedata:\n",
    "    if \"<!--table_content-->\" in j:\n",
    "        content.append(\"<!--table_content-->\"+temp+\"</table>\")\n",
    "#     else:\n",
    "#         content.append(j)\n",
    "        \n",
    "# for i in lines:\n",
    "#         temp =  \"<!--table_content-->\"+\"<tr>\"+ \"<td>\"+\n",
    "#         \"<table style=\"width:100%\" id=\"j_table\"><thead><tr><th>Text</th><th>Video</th></thead>\"+'\\n\\n'.join(lines) +\"</table>\"\n",
    "#         content.append(temp)\n",
    "#     else:\n",
    "#         content.append(j)\n",
    "            \n",
    "\n",
    "with open(md_path, \"w\") as file:\n",
    "        file.write(\"\\n\".join(content))"
   ]
  },
  {
   "cell_type": "code",
   "execution_count": null,
   "id": "0903dd75",
   "metadata": {},
   "outputs": [],
   "source": []
  },
  {
   "cell_type": "code",
   "execution_count": null,
   "id": "f30213c6",
   "metadata": {},
   "outputs": [],
   "source": []
  }
 ],
 "metadata": {
  "kernelspec": {
   "display_name": "Python 3 (ipykernel)",
   "language": "python",
   "name": "python3"
  },
  "language_info": {
   "codemirror_mode": {
    "name": "ipython",
    "version": 3
   },
   "file_extension": ".py",
   "mimetype": "text/x-python",
   "name": "python",
   "nbconvert_exporter": "python",
   "pygments_lexer": "ipython3",
   "version": "3.8.13"
  }
 },
 "nbformat": 4,
 "nbformat_minor": 5
}
