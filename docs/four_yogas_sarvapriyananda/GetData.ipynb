{
 "cells": [
  {
   "cell_type": "code",
   "execution_count": 1,
   "id": "b9e0eafa",
   "metadata": {},
   "outputs": [],
   "source": [
    "#pip install youtube-transcript-api"
   ]
  },
  {
   "cell_type": "code",
   "execution_count": 3,
   "id": "031795b2",
   "metadata": {},
   "outputs": [],
   "source": [
    "from youtube_transcript_api import YouTubeTranscriptApi\n",
    "\n",
    "def get_text(youtube_id=\"XhKdu1_m-k4\"):\n",
    "    try:\n",
    "        text = \" \".join(\n",
    "            [\n",
    "                i[\"text\"]\n",
    "                .replace(\"\\xa0\\xa0\", \" \")\n",
    "                .replace(\"\\n\", \"\")\n",
    "                .replace(\"\\xa0\", \" \")\n",
    "                for i in YouTubeTranscriptApi.get_transcript(youtube_id)\n",
    "            ]\n",
    "        )\n",
    "        return text\n",
    "    except:\n",
    "        print ('Failed for',youtube_id )\n",
    "        pass\n"
   ]
  },
  {
   "cell_type": "code",
   "execution_count": 4,
   "id": "dd99d435",
   "metadata": {},
   "outputs": [],
   "source": [
    "import pandas as pd\n",
    "df = pd.read_csv('Sheet1.csv')\n",
    "df = df[df['Title'].notnull()]"
   ]
  },
  {
   "cell_type": "code",
   "execution_count": 5,
   "id": "5f3f9ac2",
   "metadata": {},
   "outputs": [],
   "source": [
    "df['youtube_id']=df['ID'].apply(lambda x: str(x).split('&')[0].strip('!'))"
   ]
  },
  {
   "cell_type": "code",
   "execution_count": 6,
   "id": "a3b78e35",
   "metadata": {},
   "outputs": [
    {
     "name": "stderr",
     "output_type": "stream",
     "text": [
      "100%|████████████████████████████████████████████████████████████████████████████████████████████████████████████████████████████████████████████████████████████████████████████████| 6/6 [00:20<00:00,  3.38s/it]\n"
     ]
    }
   ],
   "source": [
    "from tqdm import tqdm\n",
    "tqdm.pandas()\n",
    "df['text'] = df['youtube_id'].progress_apply(lambda x:get_text(x))"
   ]
  },
  {
   "cell_type": "code",
   "execution_count": 7,
   "id": "5b372781",
   "metadata": {},
   "outputs": [
    {
     "data": {
      "text/html": [
       "<div>\n",
       "<style scoped>\n",
       "    .dataframe tbody tr th:only-of-type {\n",
       "        vertical-align: middle;\n",
       "    }\n",
       "\n",
       "    .dataframe tbody tr th {\n",
       "        vertical-align: top;\n",
       "    }\n",
       "\n",
       "    .dataframe thead th {\n",
       "        text-align: right;\n",
       "    }\n",
       "</style>\n",
       "<table border=\"1\" class=\"dataframe\">\n",
       "  <thead>\n",
       "    <tr style=\"text-align: right;\">\n",
       "      <th></th>\n",
       "      <th>Title</th>\n",
       "      <th>ID</th>\n",
       "      <th>youtube_id</th>\n",
       "      <th>text</th>\n",
       "    </tr>\n",
       "  </thead>\n",
       "  <tbody>\n",
       "    <tr>\n",
       "      <th>0</th>\n",
       "      <td>Karma Yoga: The Path of Action (Part 1) | Swam...</td>\n",
       "      <td>-rgNWIeF9Qo&amp;list=PLBQKFO7zO2sGPdqCNNEhHO95LAe8...</td>\n",
       "      <td>-rgNWIeF9Qo</td>\n",
       "      <td>[Music] assert Oh Massa Gama yah Thomas oh ma ...</td>\n",
       "    </tr>\n",
       "    <tr>\n",
       "      <th>1</th>\n",
       "      <td>Karma Yoga: The Path of Action (Part 2) | Swam...</td>\n",
       "      <td>n-SUJ0Vwelk&amp;list=PLBQKFO7zO2sGPdqCNNEhHO95LAe8...</td>\n",
       "      <td>n-SUJ0Vwelk</td>\n",
       "      <td>[Music] assert Omar said gamma gamma so oh dea...</td>\n",
       "    </tr>\n",
       "    <tr>\n",
       "      <th>2</th>\n",
       "      <td>Bhakti Yoga: The Path of Devotion | Swami Sarv...</td>\n",
       "      <td>dDIdHh2-mF8&amp;list=PLBQKFO7zO2sGPdqCNNEhHO95LAe8...</td>\n",
       "      <td>dDIdHh2-mF8</td>\n",
       "      <td>[Music] so to Hamas and gamma yah Thomas OMA d...</td>\n",
       "    </tr>\n",
       "    <tr>\n",
       "      <th>3</th>\n",
       "      <td>Jnana Yoga: The Path of Knowledge | Swami Sarv...</td>\n",
       "      <td>EijmfagFw20&amp;list=PLBQKFO7zO2sGPdqCNNEhHO95LAe8...</td>\n",
       "      <td>EijmfagFw20</td>\n",
       "      <td>[Music] Oh leaders from the unreal to the real...</td>\n",
       "    </tr>\n",
       "    <tr>\n",
       "      <th>4</th>\n",
       "      <td>Raja Yoga: The Path of Meditation (Part 1) | S...</td>\n",
       "      <td>Bj5_lNQdJPw&amp;list=PLBQKFO7zO2sGPdqCNNEhHO95LAe8...</td>\n",
       "      <td>Bj5_lNQdJPw</td>\n",
       "      <td>[Music] Oh esatto mas and gamma are Thomas Oh ...</td>\n",
       "    </tr>\n",
       "    <tr>\n",
       "      <th>5</th>\n",
       "      <td>Raja Yoga: The Path of Meditation (Part 2) | S...</td>\n",
       "      <td>e9uBaJEKgOw&amp;list=PLBQKFO7zO2sGPdqCNNEhHO95LAe8...</td>\n",
       "      <td>e9uBaJEKgOw</td>\n",
       "      <td>[Music] leaders from the unreal to the real le...</td>\n",
       "    </tr>\n",
       "  </tbody>\n",
       "</table>\n",
       "</div>"
      ],
      "text/plain": [
       "                                               Title  \\\n",
       "0  Karma Yoga: The Path of Action (Part 1) | Swam...   \n",
       "1  Karma Yoga: The Path of Action (Part 2) | Swam...   \n",
       "2  Bhakti Yoga: The Path of Devotion | Swami Sarv...   \n",
       "3  Jnana Yoga: The Path of Knowledge | Swami Sarv...   \n",
       "4  Raja Yoga: The Path of Meditation (Part 1) | S...   \n",
       "5  Raja Yoga: The Path of Meditation (Part 2) | S...   \n",
       "\n",
       "                                                  ID   youtube_id  \\\n",
       "0  -rgNWIeF9Qo&list=PLBQKFO7zO2sGPdqCNNEhHO95LAe8...  -rgNWIeF9Qo   \n",
       "1  n-SUJ0Vwelk&list=PLBQKFO7zO2sGPdqCNNEhHO95LAe8...  n-SUJ0Vwelk   \n",
       "2  dDIdHh2-mF8&list=PLBQKFO7zO2sGPdqCNNEhHO95LAe8...  dDIdHh2-mF8   \n",
       "3  EijmfagFw20&list=PLBQKFO7zO2sGPdqCNNEhHO95LAe8...  EijmfagFw20   \n",
       "4  Bj5_lNQdJPw&list=PLBQKFO7zO2sGPdqCNNEhHO95LAe8...  Bj5_lNQdJPw   \n",
       "5  e9uBaJEKgOw&list=PLBQKFO7zO2sGPdqCNNEhHO95LAe8...  e9uBaJEKgOw   \n",
       "\n",
       "                                                text  \n",
       "0  [Music] assert Oh Massa Gama yah Thomas oh ma ...  \n",
       "1  [Music] assert Omar said gamma gamma so oh dea...  \n",
       "2  [Music] so to Hamas and gamma yah Thomas OMA d...  \n",
       "3  [Music] Oh leaders from the unreal to the real...  \n",
       "4  [Music] Oh esatto mas and gamma are Thomas Oh ...  \n",
       "5  [Music] leaders from the unreal to the real le...  "
      ]
     },
     "execution_count": 7,
     "metadata": {},
     "output_type": "execute_result"
    }
   ],
   "source": [
    "df"
   ]
  },
  {
   "cell_type": "code",
   "execution_count": 9,
   "id": "b2bdb4be",
   "metadata": {},
   "outputs": [],
   "source": [
    "lines=[]\n",
    "filenames=[]\n",
    "temp='<!--table_content--><table style=\"width:100%\" id=\"j_table\">'+ \"<thead><tr>\"+ \"<th>Text</th>\"+ \"<th>Video</th>\"+ \"</tr></thead>\"\n",
    "for i,ii in df.iterrows():\n",
    "    page = int(ii.name)+1  #ii['Unnamed: 0']\n",
    "    text = ii['text']\n",
    "    if text is not None:\n",
    "        #print('text',text)\n",
    "        filename='Video-'+str(page)+'.md'\n",
    "        filename2='Video-'+str(page)\n",
    "        #print (filename)\n",
    "        f=open(filename,'w')\n",
    "        line='['+ii['Title']+']('+'https://www.youtube.com/watch?v='+str(ii['ID'].split('&')[0].strip('!'))+')' \n",
    "        line2='['+ii['Title']+'](./'+filename2 +')'\n",
    "        \n",
    "        \n",
    "        \n",
    "        #temp+='<tr>'+'<td>'+line2+'</td>'+'<td>'+line+'</td>'+'</tr>'\n",
    "        part1='<a href=\"'+'./'+filename2+' \"'+' target=\"_black\"> '+ii['Title']+'</a>'\n",
    "        part2='<a href=\"'+ 'https://www.youtube.com/watch?v='+str(ii['ID'].split('&')[0].strip('!'))  +' \"'+' target=\"_black\"> '+'YouTube'+'</a>'\n",
    "        temp+='<tr>'+'<td>'+part1+'</td>'+'<td>'+part2+'</td>'+'</tr>'\n",
    "        lines.append(line2)\n",
    "        filenames.append(filename)\n",
    "        f.write(line+'\\n\\n')\n",
    "        f.write(text)\n",
    "        f.close()\n",
    "        #break"
   ]
  },
  {
   "cell_type": "code",
   "execution_count": 10,
   "id": "08667ad6",
   "metadata": {},
   "outputs": [
    {
     "data": {
      "text/plain": [
       "['[Karma Yoga: The Path of Action (Part 1) | Swami Sarvapriyananda](./Video-1)',\n",
       " '[Karma Yoga: The Path of Action (Part 2) | Swami Sarvapriyananda](./Video-2)',\n",
       " '[Bhakti Yoga: The Path of Devotion | Swami Sarvapriyananda](./Video-3)',\n",
       " '[Jnana Yoga: The Path of Knowledge | Swami Sarvapriyananda](./Video-4)',\n",
       " '[Raja Yoga: The Path of Meditation (Part 1) | Swami Sarvapriyananda](./Video-5)',\n",
       " '[Raja Yoga: The Path of Meditation (Part 2) | Swami Sarvapriyananda](./Video-6)']"
      ]
     },
     "execution_count": 10,
     "metadata": {},
     "output_type": "execute_result"
    }
   ],
   "source": [
    "lines"
   ]
  },
  {
   "cell_type": "code",
   "execution_count": 12,
   "id": "08a62f97",
   "metadata": {},
   "outputs": [],
   "source": [
    "md_path='index.md'\n",
    "with open(md_path, \"r\") as file:\n",
    "    filedata = file.read().splitlines()\n",
    "content = []\n",
    "\n",
    "content = ['\\n [Four Yogas](https://www.ramakrishnavivekananda.info/vivekananda/volume_8/writings_prose/four_paths_of_yoga.htm) by [Swami Sarvapriyananda](https://en.wikipedia.org/wiki/Swami_Sarvapriyananda) \\n\\n<!--table_content-->\\n']\n",
    "# for j in filedata:\n",
    "#     if \"<!--table_content-->\" in j:\n",
    "#         content.append(\"<!--table_content-->\")\n",
    "#     else:\n",
    "#         content.append(j)\n",
    "with open(md_path, \"w\") as file:\n",
    "    file.write(\"\\n\".join(content))\n",
    "\n",
    "with open(md_path, \"r\") as file:\n",
    "    filedata = file.read().splitlines()\n",
    "    \n",
    "\n",
    "\n",
    "for j in filedata:\n",
    "    if \"<!--table_content-->\" in j:\n",
    "        content.append(\"<!--table_content-->\"+temp+\"</table>\")\n",
    "#     else:\n",
    "#         content.append(j)\n",
    "        \n",
    "# for i in lines:\n",
    "#         temp =  \"<!--table_content-->\"+\"<tr>\"+ \"<td>\"+\n",
    "#         \"<table style=\"width:100%\" id=\"j_table\"><thead><tr><th>Text</th><th>Video</th></thead>\"+'\\n\\n'.join(lines) +\"</table>\"\n",
    "#         content.append(temp)\n",
    "#     else:\n",
    "#         content.append(j)\n",
    "            \n",
    "\n",
    "with open(md_path, \"w\") as file:\n",
    "        file.write(\"\\n\".join(content))"
   ]
  },
  {
   "cell_type": "code",
   "execution_count": null,
   "id": "0903dd75",
   "metadata": {},
   "outputs": [],
   "source": []
  },
  {
   "cell_type": "code",
   "execution_count": null,
   "id": "f30213c6",
   "metadata": {},
   "outputs": [],
   "source": []
  }
 ],
 "metadata": {
  "kernelspec": {
   "display_name": "Python 3 (ipykernel)",
   "language": "python",
   "name": "python3"
  },
  "language_info": {
   "codemirror_mode": {
    "name": "ipython",
    "version": 3
   },
   "file_extension": ".py",
   "mimetype": "text/x-python",
   "name": "python",
   "nbconvert_exporter": "python",
   "pygments_lexer": "ipython3",
   "version": "3.8.13"
  }
 },
 "nbformat": 4,
 "nbformat_minor": 5
}
