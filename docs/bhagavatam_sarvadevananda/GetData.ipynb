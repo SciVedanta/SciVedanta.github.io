{
 "cells": [
  {
   "cell_type": "code",
   "execution_count": 1,
   "id": "b9e0eafa",
   "metadata": {},
   "outputs": [],
   "source": [
    "#pip install youtube-transcript-api"
   ]
  },
  {
   "cell_type": "code",
   "execution_count": 1,
   "id": "031795b2",
   "metadata": {},
   "outputs": [],
   "source": [
    "from youtube_transcript_api import YouTubeTranscriptApi\n",
    "\n",
    "def get_text(youtube_id=\"XhKdu1_m-k4\"):\n",
    "    try:\n",
    "        text = \" \".join(\n",
    "            [\n",
    "                i[\"text\"]\n",
    "                .replace(\"\\xa0\\xa0\", \" \")\n",
    "                .replace(\"\\n\", \"\")\n",
    "                .replace(\"\\xa0\", \" \")\n",
    "                for i in YouTubeTranscriptApi.get_transcript(youtube_id)\n",
    "            ]\n",
    "        )\n",
    "        return text\n",
    "    except:\n",
    "        print ('Failed for',youtube_id )\n",
    "        pass\n"
   ]
  },
  {
   "cell_type": "code",
   "execution_count": 2,
   "id": "dd99d435",
   "metadata": {},
   "outputs": [],
   "source": [
    "import pandas as pd\n",
    "df = pd.read_csv('Sheet1.csv')\n",
    "df = df[df['Title'].notnull()]"
   ]
  },
  {
   "cell_type": "code",
   "execution_count": 3,
   "id": "5f3f9ac2",
   "metadata": {},
   "outputs": [],
   "source": [
    "df['youtube_id']=df['ID'].apply(lambda x: str(x).split('&')[0].strip('!'))"
   ]
  },
  {
   "cell_type": "code",
   "execution_count": 4,
   "id": "a3b78e35",
   "metadata": {},
   "outputs": [
    {
     "name": "stderr",
     "output_type": "stream",
     "text": [
      "  5%|███████▉                                                                                                                                                                       | 3/66 [00:02<00:43,  1.45it/s]"
     ]
    },
    {
     "name": "stdout",
     "output_type": "stream",
     "text": [
      "Failed for qhonhQqHVKQ\n"
     ]
    },
    {
     "name": "stderr",
     "output_type": "stream",
     "text": [
      "\r",
      "  6%|██████████▌                                                                                                                                                                    | 4/66 [00:02<00:45,  1.37it/s]"
     ]
    },
    {
     "name": "stdout",
     "output_type": "stream",
     "text": [
      "Failed for OdPHlzJ3Hnw\n"
     ]
    },
    {
     "name": "stderr",
     "output_type": "stream",
     "text": [
      "  9%|███████████████▉                                                                                                                                                               | 6/66 [00:04<00:50,  1.19it/s]"
     ]
    },
    {
     "name": "stdout",
     "output_type": "stream",
     "text": [
      "Failed for sC7jZ54h0aA\n"
     ]
    },
    {
     "name": "stderr",
     "output_type": "stream",
     "text": [
      " 12%|█████████████████████▏                                                                                                                                                         | 8/66 [00:06<00:54,  1.07it/s]"
     ]
    },
    {
     "name": "stdout",
     "output_type": "stream",
     "text": [
      "Failed for DZXegtorCOY\n"
     ]
    },
    {
     "name": "stderr",
     "output_type": "stream",
     "text": [
      "\r",
      " 14%|███████████████████████▊                                                                                                                                                       | 9/66 [00:07<00:45,  1.26it/s]"
     ]
    },
    {
     "name": "stdout",
     "output_type": "stream",
     "text": [
      "Failed for DlFpOWyqDQ\n"
     ]
    },
    {
     "name": "stderr",
     "output_type": "stream",
     "text": [
      "\r",
      " 15%|██████████████████████████▎                                                                                                                                                   | 10/66 [00:08<00:44,  1.26it/s]"
     ]
    },
    {
     "name": "stdout",
     "output_type": "stream",
     "text": [
      "Failed for a70CYU_KAOY\n"
     ]
    },
    {
     "name": "stderr",
     "output_type": "stream",
     "text": [
      " 21%|████████████████████████████████████▉                                                                                                                                         | 14/66 [00:25<03:16,  3.78s/it]"
     ]
    },
    {
     "name": "stdout",
     "output_type": "stream",
     "text": [
      "Failed for 3I2QMDOlfWI\n"
     ]
    },
    {
     "name": "stderr",
     "output_type": "stream",
     "text": [
      "100%|██████████████████████████████████████████████████████████████████████████████████████████████████████████████████████████████████████████████████████████████████████████████| 66/66 [01:38<00:00,  1.50s/it]\n"
     ]
    }
   ],
   "source": [
    "from tqdm import tqdm\n",
    "tqdm.pandas()\n",
    "df['text'] = df['youtube_id'].progress_apply(lambda x:get_text(x))"
   ]
  },
  {
   "cell_type": "code",
   "execution_count": 5,
   "id": "5b372781",
   "metadata": {},
   "outputs": [
    {
     "data": {
      "text/html": [
       "<div>\n",
       "<style scoped>\n",
       "    .dataframe tbody tr th:only-of-type {\n",
       "        vertical-align: middle;\n",
       "    }\n",
       "\n",
       "    .dataframe tbody tr th {\n",
       "        vertical-align: top;\n",
       "    }\n",
       "\n",
       "    .dataframe thead th {\n",
       "        text-align: right;\n",
       "    }\n",
       "</style>\n",
       "<table border=\"1\" class=\"dataframe\">\n",
       "  <thead>\n",
       "    <tr style=\"text-align: right;\">\n",
       "      <th></th>\n",
       "      <th>Title</th>\n",
       "      <th>ID</th>\n",
       "      <th>youtube_id</th>\n",
       "      <th>text</th>\n",
       "    </tr>\n",
       "  </thead>\n",
       "  <tbody>\n",
       "    <tr>\n",
       "      <th>0</th>\n",
       "      <td>Bhagavatam - Introduction</td>\n",
       "      <td>9s3S2C57k7M&amp;list=PLBh-iYJ1Q_hTJhgsU5D8Rn8WdC3j...</td>\n",
       "      <td>9s3S2C57k7M</td>\n",
       "      <td>[Music] he our salutation to bhagavan krishna ...</td>\n",
       "    </tr>\n",
       "    <tr>\n",
       "      <th>1</th>\n",
       "      <td>Bhagavatam - Verse 1</td>\n",
       "      <td>qhonhQqHVKQ&amp;list=PLBh-iYJ1Q_hTJhgsU5D8Rn8WdC3j...</td>\n",
       "      <td>qhonhQqHVKQ</td>\n",
       "      <td>None</td>\n",
       "    </tr>\n",
       "    <tr>\n",
       "      <th>2</th>\n",
       "      <td>Bhagavatam - 1.2.1 - 1.2.22</td>\n",
       "      <td>OdPHlzJ3Hnw&amp;list=PLBh-iYJ1Q_hTJhgsU5D8Rn8WdC3j...</td>\n",
       "      <td>OdPHlzJ3Hnw</td>\n",
       "      <td>None</td>\n",
       "    </tr>\n",
       "    <tr>\n",
       "      <th>3</th>\n",
       "      <td>Bhagavatam - 1.2.16-34 ( Book 1 - Chapter 2 - ...</td>\n",
       "      <td>NSl9iEzBAI0&amp;list=PLBh-iYJ1Q_hTJhgsU5D8Rn8WdC3j...</td>\n",
       "      <td>NSl9iEzBAI0</td>\n",
       "      <td>[Music] he the destroyer of the demons kangso ...</td>\n",
       "    </tr>\n",
       "    <tr>\n",
       "      <th>4</th>\n",
       "      <td>Bhagavatam - 1.3.1 ( Book 1 - Chapter 3)</td>\n",
       "      <td>sC7jZ54h0aA&amp;list=PLBh-iYJ1Q_hTJhgsU5D8Rn8WdC3j...</td>\n",
       "      <td>sC7jZ54h0aA</td>\n",
       "      <td>None</td>\n",
       "    </tr>\n",
       "    <tr>\n",
       "      <th>...</th>\n",
       "      <td>...</td>\n",
       "      <td>...</td>\n",
       "      <td>...</td>\n",
       "      <td>...</td>\n",
       "    </tr>\n",
       "    <tr>\n",
       "      <th>61</th>\n",
       "      <td>Bhagavatam - 3.21.9 ( Book 3, Chapter 20 verse...</td>\n",
       "      <td>ooXVuSB76ns&amp;list=PLBh-iYJ1Q_hTJhgsU5D8Rn8WdC3j...</td>\n",
       "      <td>ooXVuSB76ns</td>\n",
       "      <td>oh what should they were shooting the one Cons...</td>\n",
       "    </tr>\n",
       "    <tr>\n",
       "      <th>62</th>\n",
       "      <td>Bhagavatam - 3.24.1 ( Book 3, Chapter 24 verse...</td>\n",
       "      <td>5HUNM0AN_2U&amp;list=PLBh-iYJ1Q_hTJhgsU5D8Rn8WdC3j...</td>\n",
       "      <td>5HUNM0AN_2U</td>\n",
       "      <td>um [Music] Shanti Shanti Shanti or shall reaso...</td>\n",
       "    </tr>\n",
       "    <tr>\n",
       "      <th>63</th>\n",
       "      <td>Bhagavatam - 3.25.1 ( Book 3, Chapter 25 verse...</td>\n",
       "      <td>7BJt8mQ6PVo&amp;list=PLBh-iYJ1Q_hTJhgsU5D8Rn8WdC3j...</td>\n",
       "      <td>7BJt8mQ6PVo</td>\n",
       "      <td>foreign [Music] [Music] the destroyer of the d...</td>\n",
       "    </tr>\n",
       "    <tr>\n",
       "      <th>64</th>\n",
       "      <td>Bhagavatam - 3.25.25 ( Book 3, Chapter 25 vers...</td>\n",
       "      <td>kNsR0Kz868s&amp;list=PLBh-iYJ1Q_hTJhgsU5D8Rn8WdC3j...</td>\n",
       "      <td>kNsR0Kz868s</td>\n",
       "      <td>foreign [Music] the darling and sweetheart of ...</td>\n",
       "    </tr>\n",
       "    <tr>\n",
       "      <th>65</th>\n",
       "      <td>Bhagavatam - 3.26.1 ( Book 3, Chapter 26 verse 1)</td>\n",
       "      <td>-GGYvy9giSM&amp;list=PLBh-iYJ1Q_hTJhgsU5D8Rn8WdC3j...</td>\n",
       "      <td>-GGYvy9giSM</td>\n",
       "      <td>foreign [Music] the son of basudeva the destro...</td>\n",
       "    </tr>\n",
       "  </tbody>\n",
       "</table>\n",
       "<p>66 rows × 4 columns</p>\n",
       "</div>"
      ],
      "text/plain": [
       "                                                Title  \\\n",
       "0                           Bhagavatam - Introduction   \n",
       "1                                Bhagavatam - Verse 1   \n",
       "2                         Bhagavatam - 1.2.1 - 1.2.22   \n",
       "3   Bhagavatam - 1.2.16-34 ( Book 1 - Chapter 2 - ...   \n",
       "4            Bhagavatam - 1.3.1 ( Book 1 - Chapter 3)   \n",
       "..                                                ...   \n",
       "61  Bhagavatam - 3.21.9 ( Book 3, Chapter 20 verse...   \n",
       "62  Bhagavatam - 3.24.1 ( Book 3, Chapter 24 verse...   \n",
       "63  Bhagavatam - 3.25.1 ( Book 3, Chapter 25 verse...   \n",
       "64  Bhagavatam - 3.25.25 ( Book 3, Chapter 25 vers...   \n",
       "65  Bhagavatam - 3.26.1 ( Book 3, Chapter 26 verse 1)   \n",
       "\n",
       "                                                   ID   youtube_id  \\\n",
       "0   9s3S2C57k7M&list=PLBh-iYJ1Q_hTJhgsU5D8Rn8WdC3j...  9s3S2C57k7M   \n",
       "1   qhonhQqHVKQ&list=PLBh-iYJ1Q_hTJhgsU5D8Rn8WdC3j...  qhonhQqHVKQ   \n",
       "2   OdPHlzJ3Hnw&list=PLBh-iYJ1Q_hTJhgsU5D8Rn8WdC3j...  OdPHlzJ3Hnw   \n",
       "3   NSl9iEzBAI0&list=PLBh-iYJ1Q_hTJhgsU5D8Rn8WdC3j...  NSl9iEzBAI0   \n",
       "4   sC7jZ54h0aA&list=PLBh-iYJ1Q_hTJhgsU5D8Rn8WdC3j...  sC7jZ54h0aA   \n",
       "..                                                ...          ...   \n",
       "61  ooXVuSB76ns&list=PLBh-iYJ1Q_hTJhgsU5D8Rn8WdC3j...  ooXVuSB76ns   \n",
       "62  5HUNM0AN_2U&list=PLBh-iYJ1Q_hTJhgsU5D8Rn8WdC3j...  5HUNM0AN_2U   \n",
       "63  7BJt8mQ6PVo&list=PLBh-iYJ1Q_hTJhgsU5D8Rn8WdC3j...  7BJt8mQ6PVo   \n",
       "64  kNsR0Kz868s&list=PLBh-iYJ1Q_hTJhgsU5D8Rn8WdC3j...  kNsR0Kz868s   \n",
       "65  -GGYvy9giSM&list=PLBh-iYJ1Q_hTJhgsU5D8Rn8WdC3j...  -GGYvy9giSM   \n",
       "\n",
       "                                                 text  \n",
       "0   [Music] he our salutation to bhagavan krishna ...  \n",
       "1                                                None  \n",
       "2                                                None  \n",
       "3   [Music] he the destroyer of the demons kangso ...  \n",
       "4                                                None  \n",
       "..                                                ...  \n",
       "61  oh what should they were shooting the one Cons...  \n",
       "62  um [Music] Shanti Shanti Shanti or shall reaso...  \n",
       "63  foreign [Music] [Music] the destroyer of the d...  \n",
       "64  foreign [Music] the darling and sweetheart of ...  \n",
       "65  foreign [Music] the son of basudeva the destro...  \n",
       "\n",
       "[66 rows x 4 columns]"
      ]
     },
     "execution_count": 5,
     "metadata": {},
     "output_type": "execute_result"
    }
   ],
   "source": [
    "df"
   ]
  },
  {
   "cell_type": "code",
   "execution_count": 6,
   "id": "b2bdb4be",
   "metadata": {},
   "outputs": [],
   "source": [
    "lines=[]\n",
    "filenames=[]\n",
    "temp='<!--table_content--><table style=\"width:100%\" id=\"j_table\">'+ \"<thead><tr>\"+ \"<th>Text</th>\"+ \"<th>Video</th>\"+ \"</tr></thead>\"\n",
    "for i,ii in df.iterrows():\n",
    "    page = ii.name #ii['Unnamed: 0']\n",
    "    text = ii['text']\n",
    "    if text is not None:\n",
    "        #print('text',text)\n",
    "        filename='../docs/Video-'+str(page)+'.md'\n",
    "        filename2='Video-'+str(page)\n",
    "        #print (filename)\n",
    "        f=open(filename,'w')\n",
    "        line='['+ii['Title']+']('+'https://www.youtube.com/watch?v='+str(ii['ID'].split('&')[0].strip('!'))+')' \n",
    "        line2='['+ii['Title']+'](./'+filename2 +')'\n",
    "        \n",
    "        \n",
    "        \n",
    "        #temp+='<tr>'+'<td>'+line2+'</td>'+'<td>'+line+'</td>'+'</tr>'\n",
    "        part1='<a href=\"'+'./'+filename2+' \"'+' target=\"_black\"> '+ii['Title']+'</a>'\n",
    "        part2='<a href=\"'+ 'https://www.youtube.com/watch?v='+str(ii['ID'].split('&')[0].strip('!'))  +' \"'+' target=\"_black\"> '+'YouTube'+'</a>'\n",
    "        temp+='<tr>'+'<td>'+part1+'</td>'+'<td>'+part2+'</td>'+'</tr>'\n",
    "        lines.append(line2)\n",
    "        filenames.append(filename)\n",
    "        f.write(line+'\\n\\n')\n",
    "        f.write(text)\n",
    "        f.close()\n",
    "        #break"
   ]
  },
  {
   "cell_type": "code",
   "execution_count": 7,
   "id": "d9e1afd1",
   "metadata": {},
   "outputs": [
    {
     "data": {
      "text/plain": [
       "65"
      ]
     },
     "execution_count": 7,
     "metadata": {},
     "output_type": "execute_result"
    }
   ],
   "source": [
    "ii.name"
   ]
  },
  {
   "cell_type": "code",
   "execution_count": 8,
   "id": "08667ad6",
   "metadata": {},
   "outputs": [
    {
     "data": {
      "text/plain": [
       "['[Bhagavatam - Introduction](./Video-0)',\n",
       " '[Bhagavatam - 1.2.16-34 ( Book 1 - Chapter 2 - Verse 16 - 34)](./Video-3)',\n",
       " '[Bhagavatam - 1.3.35 ( Book 1 - Chapter 3)](./Video-5)',\n",
       " '[Bhagavatam - 1.6.26 - 1.7.8](./Video-9)',\n",
       " '[Bhagavatam - 1.7.9 - 1.8.1](./Video-10)',\n",
       " '[Bhagavatam - 1.8.1 - 1.8.35](./Video-11)',\n",
       " '[Bhagavatam - 1.9.25-1.10.1](./Video-13)',\n",
       " '[Bhagavatam - 1.10.1](./Video-14)',\n",
       " '[Bhagavatam - 1.11. 1 - 39](./Video-15)',\n",
       " '[Bhagavatam - 1.12.1](./Video-16)',\n",
       " '[Bhagavatam - Book 1. Chapter 13 - Verse 1-36](./Video-17)',\n",
       " '[Bhagavatam - Book 1. Chapter 13 - Verse 37](./Video-18)',\n",
       " '[Bhagavatam - Book 1. Chapter 14 - Verse 1](./Video-19)',\n",
       " '[Bhagavatam - Book 1. Chapter 15 - Verse 10](./Video-20)',\n",
       " '[Bhagavatam - Book 1. Chapter 15 - Verse 36](./Video-21)',\n",
       " '[Bhagavatam - Book 1. Chapter 16 - Verse 17](./Video-22)',\n",
       " '[Bhagavatam - Book 1. Chapter 18 - Verse 1](./Video-23)',\n",
       " '[Bhagavatam - Book 1. Chapter 18 - Verse 24](./Video-24)',\n",
       " '[Bhagavatam - Book 1. Chapter 19 - Verse 9](./Video-25)',\n",
       " '[Bhagavatam - 2.1.1](./Video-26)',\n",
       " '[Bhagavatam - 2.1.10 ( Book 2, Chapter 1, Verse 10)](./Video-27)',\n",
       " '[Bhagavatam - 2.1.26 ( Book 2, Chapter 1, Verse 26)](./Video-28)',\n",
       " '[Bhagavatam - 2.1.8-21 ( Book 2, Chapter 1, Verse 8-21)](./Video-29)',\n",
       " '[Bhagavatam - 2.2.22-34 ( Book 2, Chapter 2, Verse 22)](./Video-30)',\n",
       " '[Bhagavatam - 2.2.35 - 2.3.25 ( Book 2, Chapter 2, Verse 35 - Chapter 3, verse 25)](./Video-31)',\n",
       " '[Bhagavatam - 2.4.1-25 ( Book 2, Chapter 4, verse 1-25)](./Video-32)',\n",
       " '[Bhagavatam - 2.4.1 ( Book 2, Chapter 5 verse 1)](./Video-33)',\n",
       " '[Bhagavatam - 2.5.21 ( Book 2, Chapter 5 verse 21)](./Video-34)',\n",
       " '[Bhagavatam - 2.5.21 ( Book 2, Chapter 5 verse 21)](./Video-35)',\n",
       " '[Bhagavatam - 2.7 ( Book 2, 7 Chapter)](./Video-36)',\n",
       " '[Bhagavatam - 2.8 ( Book 2, 8 Chapter)](./Video-37)',\n",
       " '[Bhagavatam - 2.8.22 ( Book 2, Chapter 8, verse 22 -to- Chapter 9 verse 23)](./Video-38)',\n",
       " '[Bhagavatam - 2.9.24 ( Book 2, Chapter 9, verse 24)](./Video-39)',\n",
       " '[Bhagavatam - 2.9.1 - 30 ( Book 2, Chapter 10 , verse 1- 30)](./Video-40)',\n",
       " '[Bhagavatam - 2.10.34 - 3. 1. 23 (Book 2, Chapter 10 verse 34 - Book 3, Chapter 1, verse 23)](./Video-41)',\n",
       " '[Bhagavatam - 3.1.24 - ( Book 3, Chapter 1, verse 24)](./Video-42)',\n",
       " '[Bhagavatam - 3.3.1 - ( Book 3, Chapter 3, verse 1](./Video-43)',\n",
       " '[Bhagavatam - 3.4.1 - ( Book 3, Chapter 4, verse 1](./Video-44)',\n",
       " '[Bhagavatam - 3.5.1-26 - ( Book 3, Chapter 5 verse 1-26)](./Video-45)',\n",
       " '[Bhagavatam - 3.5.1-2 7- ( Book 3, Chapter 5 verse 27- 42 )](./Video-46)',\n",
       " '[Bhagavatam - 3.5.42 - 3.6.9](./Video-47)',\n",
       " '[Bhagavatam - 3.6.10 - ( Book 3, Chapter 6 verse 10)](./Video-48)',\n",
       " '[Bhagavatam - 3.7.1 - ( Book 3, Chapter 7 verse 1)](./Video-49)',\n",
       " '[Bhagavatam - 3.7.26 -3.8.22 ( Book 3, Chapter 7 verse 26)](./Video-50)',\n",
       " '[Bhagavatam - 3.8.23 -3.9.10 ( Book 3, Chapter 8 verse 23)](./Video-51)',\n",
       " '[Bhagavatam - 3.9.12 -3.10.1 ( Book 3, Chapter 9 verse 12)](./Video-52)',\n",
       " '[Bhagavatam - 3.10.10 - 3.12.20 ( Book 3, Chapter 10 verse 10)](./Video-53)',\n",
       " '[Bhagavatam - 3.12.21 - 3.13.50 ( Book 3, Chapter 12 verse 21)](./Video-54)',\n",
       " '[Bhagavatam - 3.14.1 - 3.15.31 ( Book 3, Chapter 14 verse 1)](./Video-55)',\n",
       " '[Bhagavatam - 3.15.32 ( Book 3, Chapter 15 verse 32)](./Video-56)',\n",
       " '[Bhagavatam - 3.16.13 ( Book 3, Chapter 16 verse 13)](./Video-57)',\n",
       " '[Bhagavatam - 3.17.1 ( Book 3, Chapter 17 verse 1)](./Video-58)',\n",
       " '[Bhagavatam - 3.18.5 ( Book 3, Chapter 18 verse 5 )](./Video-59)',\n",
       " '[Bhagavatam - 3.20.1 ( Book 3, Chapter 20 verse 1 )](./Video-60)',\n",
       " '[Bhagavatam - 3.21.9 ( Book 3, Chapter 20 verse 1 )](./Video-61)',\n",
       " '[Bhagavatam - 3.24.1 ( Book 3, Chapter 24 verse 1 )](./Video-62)',\n",
       " '[Bhagavatam - 3.25.1 ( Book 3, Chapter 25 verse 1 )](./Video-63)',\n",
       " '[Bhagavatam - 3.25.25 ( Book 3, Chapter 25 verse 25 )](./Video-64)',\n",
       " '[Bhagavatam - 3.26.1 ( Book 3, Chapter 26 verse 1)](./Video-65)']"
      ]
     },
     "execution_count": 8,
     "metadata": {},
     "output_type": "execute_result"
    }
   ],
   "source": [
    "lines"
   ]
  },
  {
   "cell_type": "code",
   "execution_count": 9,
   "id": "2927cade",
   "metadata": {},
   "outputs": [],
   "source": [
    "md_path='../docs/index.md'\n",
    "with open(md_path, \"r\") as file:\n",
    "    filedata = file.read().splitlines()\n",
    "content = []\n",
    "\n",
    "content = ['\\n[Bhagavatam](https://en.wikipedia.org/wiki/Bhagavata_Purana) by [Swami Sarvadevananda](https://vedanta.org/swami-sarvadevananda/)\\n\\n<!--table_content-->\\n']\n",
    "# for j in filedata:\n",
    "#     if \"<!--table_content-->\" in j:\n",
    "#         content.append(\"<!--table_content-->\")\n",
    "#     else:\n",
    "#         content.append(j)\n",
    "with open(md_path, \"w\") as file:\n",
    "    file.write(\"\\n\".join(content))\n",
    "\n",
    "with open(md_path, \"r\") as file:\n",
    "    filedata = file.read().splitlines()\n",
    "    \n",
    "\n",
    "\n",
    "for j in filedata:\n",
    "    if \"<!--table_content-->\" in j:\n",
    "        content.append(\"<!--table_content-->\"+temp+\"</table>\")\n",
    "#     else:\n",
    "#         content.append(j)\n",
    "        \n",
    "# for i in lines:\n",
    "#         temp =  \"<!--table_content-->\"+\"<tr>\"+ \"<td>\"+\n",
    "#         \"<table style=\"width:100%\" id=\"j_table\"><thead><tr><th>Text</th><th>Video</th></thead>\"+'\\n\\n'.join(lines) +\"</table>\"\n",
    "#         content.append(temp)\n",
    "#     else:\n",
    "#         content.append(j)\n",
    "            \n",
    "\n",
    "with open(md_path, \"w\") as file:\n",
    "        file.write(\"\\n\".join(content))"
   ]
  },
  {
   "cell_type": "code",
   "execution_count": null,
   "id": "cf8082d5",
   "metadata": {},
   "outputs": [],
   "source": []
  },
  {
   "cell_type": "code",
   "execution_count": null,
   "id": "d967b804",
   "metadata": {},
   "outputs": [],
   "source": []
  }
 ],
 "metadata": {
  "kernelspec": {
   "display_name": "Python 3 (ipykernel)",
   "language": "python",
   "name": "python3"
  },
  "language_info": {
   "codemirror_mode": {
    "name": "ipython",
    "version": 3
   },
   "file_extension": ".py",
   "mimetype": "text/x-python",
   "name": "python",
   "nbconvert_exporter": "python",
   "pygments_lexer": "ipython3",
   "version": "3.8.13"
  }
 },
 "nbformat": 4,
 "nbformat_minor": 5
}
