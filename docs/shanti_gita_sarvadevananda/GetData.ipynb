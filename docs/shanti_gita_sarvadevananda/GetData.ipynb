{
 "cells": [
  {
   "cell_type": "code",
   "execution_count": 1,
   "id": "b9e0eafa",
   "metadata": {},
   "outputs": [],
   "source": [
    "#pip install youtube-transcript-api"
   ]
  },
  {
   "cell_type": "code",
   "execution_count": 1,
   "id": "031795b2",
   "metadata": {},
   "outputs": [],
   "source": [
    "from youtube_transcript_api import YouTubeTranscriptApi\n",
    "\n",
    "def get_text(youtube_id=\"XhKdu1_m-k4\"):\n",
    "    try:\n",
    "        text = \" \".join(\n",
    "            [\n",
    "                i[\"text\"]\n",
    "                .replace(\"\\xa0\\xa0\", \" \")\n",
    "                .replace(\"\\n\", \"\")\n",
    "                .replace(\"\\xa0\", \" \")\n",
    "                for i in YouTubeTranscriptApi.get_transcript(youtube_id)\n",
    "            ]\n",
    "        )\n",
    "        return text\n",
    "    except:\n",
    "        print ('Failed for',youtube_id )\n",
    "        pass\n"
   ]
  },
  {
   "cell_type": "code",
   "execution_count": 2,
   "id": "dd99d435",
   "metadata": {},
   "outputs": [],
   "source": [
    "import pandas as pd\n",
    "df = pd.read_csv('Sheet1.csv')\n",
    "df = df[df['Title'].notnull()]"
   ]
  },
  {
   "cell_type": "code",
   "execution_count": 3,
   "id": "5f3f9ac2",
   "metadata": {},
   "outputs": [],
   "source": [
    "df['youtube_id']=df['ID'].apply(lambda x: str(x).split('&')[0].strip('!'))"
   ]
  },
  {
   "cell_type": "code",
   "execution_count": 4,
   "id": "a3b78e35",
   "metadata": {},
   "outputs": [
    {
     "name": "stderr",
     "output_type": "stream",
     "text": [
      "  4%|███████▍                                                                                                                                                                       | 4/94 [00:03<01:18,  1.14it/s]"
     ]
    },
    {
     "name": "stdout",
     "output_type": "stream",
     "text": [
      "Failed for CQ3fpRA926o\n"
     ]
    },
    {
     "name": "stderr",
     "output_type": "stream",
     "text": [
      "\r",
      "  5%|█████████▎                                                                                                                                                                     | 5/94 [00:04<01:15,  1.17it/s]"
     ]
    },
    {
     "name": "stdout",
     "output_type": "stream",
     "text": [
      "Failed for cu7oDEH5l3I\n"
     ]
    },
    {
     "name": "stderr",
     "output_type": "stream",
     "text": [
      "\r",
      "  6%|███████████▏                                                                                                                                                                   | 6/94 [00:04<01:10,  1.25it/s]"
     ]
    },
    {
     "name": "stdout",
     "output_type": "stream",
     "text": [
      "Failed for WUVy-rvUD9c\n"
     ]
    },
    {
     "name": "stderr",
     "output_type": "stream",
     "text": [
      "  9%|██████████████▉                                                                                                                                                                | 8/94 [00:06<01:16,  1.12it/s]"
     ]
    },
    {
     "name": "stdout",
     "output_type": "stream",
     "text": [
      "Failed for UdX-j7_GK8A\n"
     ]
    },
    {
     "name": "stderr",
     "output_type": "stream",
     "text": [
      "\r",
      " 10%|████████████████▊                                                                                                                                                              | 9/94 [00:07<01:09,  1.22it/s]"
     ]
    },
    {
     "name": "stdout",
     "output_type": "stream",
     "text": [
      "Failed for _5-wqnemHKY\n"
     ]
    },
    {
     "name": "stderr",
     "output_type": "stream",
     "text": [
      " 13%|██████████████████████▏                                                                                                                                                       | 12/94 [00:10<01:17,  1.05it/s]"
     ]
    },
    {
     "name": "stdout",
     "output_type": "stream",
     "text": [
      "Failed for 86n2EY9lYL8\n"
     ]
    },
    {
     "name": "stderr",
     "output_type": "stream",
     "text": [
      " 15%|█████████████████████████▉                                                                                                                                                    | 14/94 [00:12<01:15,  1.06it/s]"
     ]
    },
    {
     "name": "stdout",
     "output_type": "stream",
     "text": [
      "Failed for X4uqrU2B-t8\n"
     ]
    },
    {
     "name": "stderr",
     "output_type": "stream",
     "text": [
      " 19%|█████████████████████████████████▎                                                                                                                                            | 18/94 [00:16<01:14,  1.02it/s]"
     ]
    },
    {
     "name": "stdout",
     "output_type": "stream",
     "text": [
      "Failed for 3IGe-tUvsSM\n"
     ]
    },
    {
     "name": "stderr",
     "output_type": "stream",
     "text": [
      "\r",
      " 20%|███████████████████████████████████▏                                                                                                                                          | 19/94 [00:17<01:09,  1.09it/s]"
     ]
    },
    {
     "name": "stdout",
     "output_type": "stream",
     "text": [
      "Failed for KdufWLGnLQA\n"
     ]
    },
    {
     "name": "stderr",
     "output_type": "stream",
     "text": [
      "\r",
      " 21%|█████████████████████████████████████                                                                                                                                         | 20/94 [00:18<01:03,  1.17it/s]"
     ]
    },
    {
     "name": "stdout",
     "output_type": "stream",
     "text": [
      "Failed for qqcj2iRwdHg\n"
     ]
    },
    {
     "name": "stderr",
     "output_type": "stream",
     "text": [
      " 26%|████████████████████████████████████████████▍                                                                                                                                 | 24/94 [00:22<01:08,  1.02it/s]"
     ]
    },
    {
     "name": "stdout",
     "output_type": "stream",
     "text": [
      "Failed for Be00rHAeG-k\n"
     ]
    },
    {
     "name": "stderr",
     "output_type": "stream",
     "text": [
      "\r",
      " 27%|██████████████████████████████████████████████▎                                                                                                                               | 25/94 [00:23<01:04,  1.07it/s]"
     ]
    },
    {
     "name": "stdout",
     "output_type": "stream",
     "text": [
      "Failed for PeDGq3QkqaQ\n"
     ]
    },
    {
     "name": "stderr",
     "output_type": "stream",
     "text": [
      "\r",
      " 28%|████████████████████████████████████████████████▏                                                                                                                             | 26/94 [00:24<00:57,  1.19it/s]"
     ]
    },
    {
     "name": "stdout",
     "output_type": "stream",
     "text": [
      "Failed for 9NelpRkDNvs\n"
     ]
    },
    {
     "name": "stderr",
     "output_type": "stream",
     "text": [
      "\r",
      " 29%|█████████████████████████████████████████████████▉                                                                                                                            | 27/94 [00:24<00:52,  1.27it/s]"
     ]
    },
    {
     "name": "stdout",
     "output_type": "stream",
     "text": [
      "Failed for zh-kmStOnUU\n"
     ]
    },
    {
     "name": "stderr",
     "output_type": "stream",
     "text": [
      "\r",
      " 30%|███████████████████████████████████████████████████▊                                                                                                                          | 28/94 [00:25<00:50,  1.31it/s]"
     ]
    },
    {
     "name": "stdout",
     "output_type": "stream",
     "text": [
      "Failed for vLdVLOcieeg\n"
     ]
    },
    {
     "name": "stderr",
     "output_type": "stream",
     "text": [
      "\r",
      " 31%|█████████████████████████████████████████████████████▋                                                                                                                        | 29/94 [00:26<00:48,  1.33it/s]"
     ]
    },
    {
     "name": "stdout",
     "output_type": "stream",
     "text": [
      "Failed for HzE-aK3iqz8\n"
     ]
    },
    {
     "name": "stderr",
     "output_type": "stream",
     "text": [
      " 36%|██████████████████████████████████████████████████████████████▉                                                                                                               | 34/94 [00:31<01:00,  1.01s/it]"
     ]
    },
    {
     "name": "stdout",
     "output_type": "stream",
     "text": [
      "Failed for BEqxQvvT5oE\n"
     ]
    },
    {
     "name": "stderr",
     "output_type": "stream",
     "text": [
      "\r",
      " 37%|████████████████████████████████████████████████████████████████▊                                                                                                             | 35/94 [00:32<00:54,  1.09it/s]"
     ]
    },
    {
     "name": "stdout",
     "output_type": "stream",
     "text": [
      "Failed for FJSieeTSF-c\n"
     ]
    },
    {
     "name": "stderr",
     "output_type": "stream",
     "text": [
      "\r",
      " 38%|██████████████████████████████████████████████████████████████████▋                                                                                                           | 36/94 [00:33<00:48,  1.19it/s]"
     ]
    },
    {
     "name": "stdout",
     "output_type": "stream",
     "text": [
      "Failed for d_CwKquidvY\n"
     ]
    },
    {
     "name": "stderr",
     "output_type": "stream",
     "text": [
      " 40%|██████████████████████████████████████████████████████████████████████▎                                                                                                       | 38/94 [00:35<00:49,  1.13it/s]"
     ]
    },
    {
     "name": "stdout",
     "output_type": "stream",
     "text": [
      "Failed for 3htjjh_XaPk\n"
     ]
    },
    {
     "name": "stderr",
     "output_type": "stream",
     "text": [
      "\r",
      " 41%|████████████████████████████████████████████████████████████████████████▏                                                                                                     | 39/94 [00:36<00:46,  1.18it/s]"
     ]
    },
    {
     "name": "stdout",
     "output_type": "stream",
     "text": [
      "Failed for 1d-jJMH8CRA\n"
     ]
    },
    {
     "name": "stderr",
     "output_type": "stream",
     "text": [
      "\r",
      " 43%|██████████████████████████████████████████████████████████████████████████                                                                                                    | 40/94 [00:36<00:44,  1.22it/s]"
     ]
    },
    {
     "name": "stdout",
     "output_type": "stream",
     "text": [
      "Failed for gLHLk-uUVyU\n"
     ]
    },
    {
     "name": "stderr",
     "output_type": "stream",
     "text": [
      "\r",
      " 44%|███████████████████████████████████████████████████████████████████████████▉                                                                                                  | 41/94 [00:37<00:41,  1.29it/s]"
     ]
    },
    {
     "name": "stdout",
     "output_type": "stream",
     "text": [
      "Failed for ZiFfh7yupB4\n"
     ]
    },
    {
     "name": "stderr",
     "output_type": "stream",
     "text": [
      " 46%|███████████████████████████████████████████████████████████████████████████████▌                                                                                              | 43/94 [00:39<00:41,  1.22it/s]"
     ]
    },
    {
     "name": "stdout",
     "output_type": "stream",
     "text": [
      "Failed for lIcgKzBWUhc\n"
     ]
    },
    {
     "name": "stderr",
     "output_type": "stream",
     "text": [
      "\r",
      " 47%|█████████████████████████████████████████████████████████████████████████████████▍                                                                                            | 44/94 [00:39<00:39,  1.28it/s]"
     ]
    },
    {
     "name": "stdout",
     "output_type": "stream",
     "text": [
      "Failed for 1T0l0P7lLtQ\n"
     ]
    },
    {
     "name": "stderr",
     "output_type": "stream",
     "text": [
      "\r",
      " 48%|███████████████████████████████████████████████████████████████████████████████████▎                                                                                          | 45/94 [00:40<00:37,  1.30it/s]"
     ]
    },
    {
     "name": "stdout",
     "output_type": "stream",
     "text": [
      "Failed for jDpzZKxJk4w\n"
     ]
    },
    {
     "name": "stderr",
     "output_type": "stream",
     "text": [
      " 71%|████████████████████████████████████████████████████████████████████████████████████████████████████████████████████████████                                                  | 67/94 [01:13<00:50,  1.87s/it]"
     ]
    },
    {
     "name": "stdout",
     "output_type": "stream",
     "text": [
      "Failed for n7H3_0K5GA\n"
     ]
    },
    {
     "name": "stderr",
     "output_type": "stream",
     "text": [
      "100%|██████████████████████████████████████████████████████████████████████████████████████████████████████████████████████████████████████████████████████████████████████████████| 94/94 [01:46<00:00,  1.13s/it]\n"
     ]
    }
   ],
   "source": [
    "from tqdm import tqdm\n",
    "tqdm.pandas()\n",
    "df['text'] = df['youtube_id'].progress_apply(lambda x:get_text(x))"
   ]
  },
  {
   "cell_type": "code",
   "execution_count": 5,
   "id": "5b372781",
   "metadata": {},
   "outputs": [
    {
     "data": {
      "text/html": [
       "<div>\n",
       "<style scoped>\n",
       "    .dataframe tbody tr th:only-of-type {\n",
       "        vertical-align: middle;\n",
       "    }\n",
       "\n",
       "    .dataframe tbody tr th {\n",
       "        vertical-align: top;\n",
       "    }\n",
       "\n",
       "    .dataframe thead th {\n",
       "        text-align: right;\n",
       "    }\n",
       "</style>\n",
       "<table border=\"1\" class=\"dataframe\">\n",
       "  <thead>\n",
       "    <tr style=\"text-align: right;\">\n",
       "      <th></th>\n",
       "      <th>Title</th>\n",
       "      <th>ID</th>\n",
       "      <th>youtube_id</th>\n",
       "      <th>text</th>\n",
       "    </tr>\n",
       "  </thead>\n",
       "  <tbody>\n",
       "    <tr>\n",
       "      <th>0</th>\n",
       "      <td>1. Shanti Gita -- The Song of Peace 001</td>\n",
       "      <td>tZ0nusCEobA&amp;list=PLBh-iYJ1Q_hQqhTNNuKJP4WNaieZ...</td>\n",
       "      <td>tZ0nusCEobA</td>\n",
       "      <td>[Music] [Music] mama of our minds the works of...</td>\n",
       "    </tr>\n",
       "    <tr>\n",
       "      <th>1</th>\n",
       "      <td>2. Shanti Gita - Class 2 - Introduction</td>\n",
       "      <td>0ghpmhlHLrw&amp;list=PLBh-iYJ1Q_hQqhTNNuKJP4WNaieZ...</td>\n",
       "      <td>0ghpmhlHLrw</td>\n",
       "      <td>so today we are entering into the book or the ...</td>\n",
       "    </tr>\n",
       "    <tr>\n",
       "      <th>2</th>\n",
       "      <td>3. Shanti Gita - Class 3 - Introduction - Vers...</td>\n",
       "      <td>CQ3fpRA926o&amp;list=PLBh-iYJ1Q_hQqhTNNuKJP4WNaieZ...</td>\n",
       "      <td>CQ3fpRA926o</td>\n",
       "      <td>None</td>\n",
       "    </tr>\n",
       "    <tr>\n",
       "      <th>3</th>\n",
       "      <td>4. Shanti Gita - Class 4 - Introduction - Vers...</td>\n",
       "      <td>cu7oDEH5l3I&amp;list=PLBh-iYJ1Q_hQqhTNNuKJP4WNaieZ...</td>\n",
       "      <td>cu7oDEH5l3I</td>\n",
       "      <td>None</td>\n",
       "    </tr>\n",
       "    <tr>\n",
       "      <th>4</th>\n",
       "      <td>5. Shanti Gita - Class 5 - Chapter 1 - Verse 1...</td>\n",
       "      <td>WUVy-rvUD9c&amp;list=PLBh-iYJ1Q_hQqhTNNuKJP4WNaieZ...</td>\n",
       "      <td>WUVy-rvUD9c</td>\n",
       "      <td>None</td>\n",
       "    </tr>\n",
       "    <tr>\n",
       "      <th>...</th>\n",
       "      <td>...</td>\n",
       "      <td>...</td>\n",
       "      <td>...</td>\n",
       "      <td>...</td>\n",
       "    </tr>\n",
       "    <tr>\n",
       "      <th>89</th>\n",
       "      <td>86. Shanti Gita - Class 86 - chapter 7- verse ...</td>\n",
       "      <td>JGDf2-Wml44&amp;list=PLBh-iYJ1Q_hQqhTNNuKJP4WNaieZ...</td>\n",
       "      <td>JGDf2-Wml44</td>\n",
       "      <td>foreign [Music] [Music] oh Lord lead us from t...</td>\n",
       "    </tr>\n",
       "    <tr>\n",
       "      <th>90</th>\n",
       "      <td>87. Shanti Gita - Class 87 - Review - Swami Sa...</td>\n",
       "      <td>B5CHoPnHoUM&amp;list=PLBh-iYJ1Q_hQqhTNNuKJP4WNaieZ...</td>\n",
       "      <td>B5CHoPnHoUM</td>\n",
       "      <td>foreign [Music] [Music] foreign lead us from D...</td>\n",
       "    </tr>\n",
       "    <tr>\n",
       "      <th>91</th>\n",
       "      <td>88. Shanti Gita - Class 88 - Review - Swami Sa...</td>\n",
       "      <td>k9ilv7ljoVE&amp;list=PLBh-iYJ1Q_hQqhTNNuKJP4WNaieZ...</td>\n",
       "      <td>k9ilv7ljoVE</td>\n",
       "      <td>foreign [Music] foreign [Music] oh Lord lead u...</td>\n",
       "    </tr>\n",
       "    <tr>\n",
       "      <th>92</th>\n",
       "      <td>89. Shanti Gita - Class 89 - Review - Swami Sa...</td>\n",
       "      <td>m1keu16CD-M&amp;list=PLBh-iYJ1Q_hQqhTNNuKJP4WNaieZ...</td>\n",
       "      <td>m1keu16CD-M</td>\n",
       "      <td>hmm Aya Thomas oh Lord lead us from the unreal...</td>\n",
       "    </tr>\n",
       "    <tr>\n",
       "      <th>93</th>\n",
       "      <td>90. Shanti Gita - Class 90 - Review - Swami Sa...</td>\n",
       "      <td>ZgnbtqVFozQ&amp;list=PLBh-iYJ1Q_hQqhTNNuKJP4WNaieZ...</td>\n",
       "      <td>ZgnbtqVFozQ</td>\n",
       "      <td>intellect understanding is intellect and in re...</td>\n",
       "    </tr>\n",
       "  </tbody>\n",
       "</table>\n",
       "<p>94 rows × 4 columns</p>\n",
       "</div>"
      ],
      "text/plain": [
       "                                                Title  \\\n",
       "0             1. Shanti Gita -- The Song of Peace 001   \n",
       "1             2. Shanti Gita - Class 2 - Introduction   \n",
       "2   3. Shanti Gita - Class 3 - Introduction - Vers...   \n",
       "3   4. Shanti Gita - Class 4 - Introduction - Vers...   \n",
       "4   5. Shanti Gita - Class 5 - Chapter 1 - Verse 1...   \n",
       "..                                                ...   \n",
       "89  86. Shanti Gita - Class 86 - chapter 7- verse ...   \n",
       "90  87. Shanti Gita - Class 87 - Review - Swami Sa...   \n",
       "91  88. Shanti Gita - Class 88 - Review - Swami Sa...   \n",
       "92  89. Shanti Gita - Class 89 - Review - Swami Sa...   \n",
       "93  90. Shanti Gita - Class 90 - Review - Swami Sa...   \n",
       "\n",
       "                                                   ID   youtube_id  \\\n",
       "0   tZ0nusCEobA&list=PLBh-iYJ1Q_hQqhTNNuKJP4WNaieZ...  tZ0nusCEobA   \n",
       "1   0ghpmhlHLrw&list=PLBh-iYJ1Q_hQqhTNNuKJP4WNaieZ...  0ghpmhlHLrw   \n",
       "2   CQ3fpRA926o&list=PLBh-iYJ1Q_hQqhTNNuKJP4WNaieZ...  CQ3fpRA926o   \n",
       "3   cu7oDEH5l3I&list=PLBh-iYJ1Q_hQqhTNNuKJP4WNaieZ...  cu7oDEH5l3I   \n",
       "4   WUVy-rvUD9c&list=PLBh-iYJ1Q_hQqhTNNuKJP4WNaieZ...  WUVy-rvUD9c   \n",
       "..                                                ...          ...   \n",
       "89  JGDf2-Wml44&list=PLBh-iYJ1Q_hQqhTNNuKJP4WNaieZ...  JGDf2-Wml44   \n",
       "90  B5CHoPnHoUM&list=PLBh-iYJ1Q_hQqhTNNuKJP4WNaieZ...  B5CHoPnHoUM   \n",
       "91  k9ilv7ljoVE&list=PLBh-iYJ1Q_hQqhTNNuKJP4WNaieZ...  k9ilv7ljoVE   \n",
       "92  m1keu16CD-M&list=PLBh-iYJ1Q_hQqhTNNuKJP4WNaieZ...  m1keu16CD-M   \n",
       "93  ZgnbtqVFozQ&list=PLBh-iYJ1Q_hQqhTNNuKJP4WNaieZ...  ZgnbtqVFozQ   \n",
       "\n",
       "                                                 text  \n",
       "0   [Music] [Music] mama of our minds the works of...  \n",
       "1   so today we are entering into the book or the ...  \n",
       "2                                                None  \n",
       "3                                                None  \n",
       "4                                                None  \n",
       "..                                                ...  \n",
       "89  foreign [Music] [Music] oh Lord lead us from t...  \n",
       "90  foreign [Music] [Music] foreign lead us from D...  \n",
       "91  foreign [Music] foreign [Music] oh Lord lead u...  \n",
       "92  hmm Aya Thomas oh Lord lead us from the unreal...  \n",
       "93  intellect understanding is intellect and in re...  \n",
       "\n",
       "[94 rows x 4 columns]"
      ]
     },
     "execution_count": 5,
     "metadata": {},
     "output_type": "execute_result"
    }
   ],
   "source": [
    "df"
   ]
  },
  {
   "cell_type": "code",
   "execution_count": 6,
   "id": "b2bdb4be",
   "metadata": {},
   "outputs": [],
   "source": [
    "lines=[]\n",
    "filenames=[]\n",
    "temp='<!--table_content--><table style=\"width:100%\" id=\"j_table\">'+ \"<thead><tr>\"+ \"<th>Text</th>\"+ \"<th>Video</th>\"+ \"</tr></thead>\"\n",
    "for i,ii in df.iterrows():\n",
    "    page = int(ii.name)+1  #ii['Unnamed: 0']\n",
    "    text = ii['text']\n",
    "    if text is not None:\n",
    "        #print('text',text)\n",
    "        filename='Video-'+str(page)+'.md'\n",
    "        filename2='Video-'+str(page)\n",
    "        #print (filename)\n",
    "        f=open(filename,'w')\n",
    "        line='['+ii['Title']+']('+'https://www.youtube.com/watch?v='+str(ii['ID'].split('&')[0].strip('!'))+')' \n",
    "        line2='['+ii['Title']+'](./'+filename2 +')'\n",
    "        \n",
    "        \n",
    "        \n",
    "        #temp+='<tr>'+'<td>'+line2+'</td>'+'<td>'+line+'</td>'+'</tr>'\n",
    "        part1='<a href=\"'+'./'+filename2+' \"'+' target=\"_black\"> '+ii['Title']+'</a>'\n",
    "        part2='<a href=\"'+ 'https://www.youtube.com/watch?v='+str(ii['ID'].split('&')[0].strip('!'))  +' \"'+' target=\"_black\"> '+'YouTube'+'</a>'\n",
    "        temp+='<tr>'+'<td>'+part1+'</td>'+'<td>'+part2+'</td>'+'</tr>'\n",
    "        lines.append(line2)\n",
    "        filenames.append(filename)\n",
    "        f.write(line+'\\n\\n')\n",
    "        f.write(text)\n",
    "        f.close()\n",
    "        #break"
   ]
  },
  {
   "cell_type": "code",
   "execution_count": 7,
   "id": "08667ad6",
   "metadata": {},
   "outputs": [
    {
     "data": {
      "text/plain": [
       "['[1. Shanti Gita -- The Song of Peace 001](./Video-1)',\n",
       " '[2. Shanti Gita - Class 2 - Introduction](./Video-2)',\n",
       " '[6. Shanti Gita - Class 6 - Chapter 1 - Verse 6 & 7](./Video-6)',\n",
       " '[9. Shanti Gita - Class 9 - Chapter 1, Verse 17 - 20](./Video-9)',\n",
       " '[10. Shanti Gita - Class 10 - Chapter 1, Verse 21 - 24](./Video-10)',\n",
       " '[12. Shanti Gita - Class 12 - Chapter 1, Verse 31 -35](./Video-12)',\n",
       " '[14. Shanti Gita - Class 14 - Chapter 1, Verse 42](./Video-14)',\n",
       " '[14. Shanti Gita - Class 14 - Chapter 1, Verse 42 - 46](./Video-15)',\n",
       " '[15. Shanti Gita - Class 15 - Chapter 2 , Verse 1](./Video-16)',\n",
       " '[17. Shanti Gita - Class 17 - Chapter 2 , Verse 15](./Video-20)',\n",
       " '[18. Shanti Gita - Class 18 - Chapter 2 , Verse 20](./Video-21)',\n",
       " '[19. Shanti Gita - Class 19 - Chapter 2 , Verse 24-27](./Video-22)',\n",
       " '[26. Shanti Gita - Class 26 - Chapter 3 , Verses 8-11](./Video-29)',\n",
       " '[27. Shanti Gita - Class 27 - Chapter 3 , Verses 16](./Video-30)',\n",
       " '[28. Shanti Gita - Class 28 - Chapter 3 , Verse 20](./Video-31)',\n",
       " '[29. Shanti Gita - Class 29 - Chapter 3 , Verse 24](./Video-32)',\n",
       " '[33. Shanti Gita - Class 33 - Chapter 4 - Verses 5-7](./Video-36)',\n",
       " '[38. Shanti Gita - Class 38 - Chapter 4 - Verses 22 - 26](./Video-41)',\n",
       " '[42. Shanti Gita - Class 42 - Chapter 4 - Verse 39](./Video-45)',\n",
       " '[43. Shanti Gita - Class 43 - Chapter 4 - Verses 41-42](./Video-46)',\n",
       " '[44. Shanti Gita - Class 44 - Chapter 4 - Verses 43-46](./Video-47)',\n",
       " '[45. Shanti Gita - Class 45 - Chapter 4 - Verses 47](./Video-48)',\n",
       " '[46. Shanti Gita - Class 46 - Chapter 5 - Verses 1-4](./Video-49)',\n",
       " '[47. Shanti Gita - Class 47 - Chapter 5 - Verses 5-7](./Video-50)',\n",
       " '[48. Shanti Gita - Class 48 - Chapter 5 - Verses 8-9](./Video-51)',\n",
       " '[49. Shanti Gita - Class 49 - Chapter 5 - Verse 10](./Video-52)',\n",
       " '[50. Shanti Gita - Class 50 - Chapter 5 - Verses 11-13](./Video-53)',\n",
       " '[51. Shanti Gita - Class 51 - Chapter 5 - Verses 14-17](./Video-54)',\n",
       " '[52. Shanti Gita - Class 52 - Chapter 5 - Verses 18-22](./Video-55)',\n",
       " '[53. Shanti Gita - Class 53 - Verses 23-25](./Video-56)',\n",
       " '[54. Shanti Gita - Class 54 - Verses 25 - 28](./Video-57)',\n",
       " '[55. Shanti Gita - Class 55 - Verses 29](./Video-58)',\n",
       " '[56. Shanti Gita - Class 56 - Verse 30](./Video-59)',\n",
       " '[57. Shanti Gita - Class 57 - Verse 30](./Video-60)',\n",
       " '[58. Shanti Gita - Class 58 - Verse](./Video-61)',\n",
       " '[59. Shanti Gita - Class 59 - chapter 6 - verse 1](./Video-62)',\n",
       " '[60. Shanti Gita - Class 60 - chapter 6 - verse 4](./Video-63)',\n",
       " '[61. Shanti Gita - Class 61 - chapter 6 - verse 6](./Video-64)',\n",
       " '[62. Shanti Gita - Class 62 - chapter 6 - verse 9](./Video-65)',\n",
       " '[64. Shanti Gita - Class 64 - chapter 6 - verse 14](./Video-67)',\n",
       " '[65. Shanti Gita - Class 65 - chapter 6 - verse 17 - 30](./Video-68)',\n",
       " '[66. Shanti Gita - Class 66 - chapter 6 - verse 21 - 23](./Video-69)',\n",
       " '[67. Shanti Gita - Class 67 - chapter 6 - verse 24](./Video-70)',\n",
       " '[68. Shanti Gita - Class 68 - chapter 6 - verse 28](./Video-71)',\n",
       " '[69. Shanti Gita - Class 69 - chapter 6 - verse 28 - 29](./Video-72)',\n",
       " '[69. Shanti Gita - Class 69 - chapter 6 - verse 30](./Video-73)',\n",
       " '[70. Shanti Gita - Class 70 - chapter 6 - verse 33](./Video-74)',\n",
       " '[71. Shanti Gita - Class 71 - chapter 6 - verse 37](./Video-75)',\n",
       " '[72. Shanti Gita - Class 72 - chapter 6 - verse 37](./Video-76)',\n",
       " '[73. Shanti Gita - Class 73 - chapter 6 - verse](./Video-77)',\n",
       " '[74. Shanti Gita - Class 74 - chapter 6 - verse](./Video-78)',\n",
       " '[74. Shanti Gita - Class 74 - chapter 7- verse 1](./Video-79)',\n",
       " '[75. Shanti Gita - Class 75 - chapter 7- verse 4](./Video-80)',\n",
       " '[76. Shanti Gita - Class 76 - chapter 7- verse 9](./Video-81)',\n",
       " '[77. Shanti Gita - Class 77 - chapter 7- verse 12](./Video-82)',\n",
       " '[78. Shanti Gita - Class 78 - chapter 7- verse 16](./Video-83)',\n",
       " '[79. Shanti Gita - Class 79 - chapter 7- verse 21](./Video-84)',\n",
       " '[80. Shanti Gita - Class 80 - chapter 7- verse 27](./Video-85)',\n",
       " '[81. Shanti Gita - Class 81 - chapter 7- verse 31 -32](./Video-86)',\n",
       " '[82. Shanti Gita - Class 82 - chapter 7- verse 33 -38 - Swami Sarvadevananda](./Video-87)',\n",
       " '[83. Shanti Gita - Class 83 - chapter 7- verse 39 -43 - Swami Sarvadevananda](./Video-88)',\n",
       " '[85. Shanti Gita - Class 85 - chapter 7- verse 39 -43 - Swami Sarvadevananda](./Video-89)',\n",
       " '[86. Shanti Gita - Class 86 - chapter 7- verse 50 -55 - Swami Sarvadevananda](./Video-90)',\n",
       " '[87. Shanti Gita - Class 87 - Review - Swami Sarvadevananda](./Video-91)',\n",
       " '[88. Shanti Gita - Class 88 - Review - Swami Sarvadevananda](./Video-92)',\n",
       " '[89. Shanti Gita - Class 89 - Review - Swami Sarvadevananda](./Video-93)',\n",
       " '[90. Shanti Gita - Class 90 - Review - Swami Sarvadevananda](./Video-94)']"
      ]
     },
     "execution_count": 7,
     "metadata": {},
     "output_type": "execute_result"
    }
   ],
   "source": [
    "lines"
   ]
  },
  {
   "cell_type": "code",
   "execution_count": 8,
   "id": "08a62f97",
   "metadata": {},
   "outputs": [],
   "source": [
    "md_path='index.md'\n",
    "with open(md_path, \"r\") as file:\n",
    "    filedata = file.read().splitlines()\n",
    "content = []\n",
    "\n",
    "content = ['\\n [The Shanti Gita](https://vedanta.org/shanti-gita-the-song-of-peace/) by [Swami Sarvadevananda](https://vedanta.org/swami-sarvadevananda/) \\n\\n<!--table_content-->\\n']\n",
    "# for j in filedata:\n",
    "#     if \"<!--table_content-->\" in j:\n",
    "#         content.append(\"<!--table_content-->\")\n",
    "#     else:\n",
    "#         content.append(j)\n",
    "with open(md_path, \"w\") as file:\n",
    "    file.write(\"\\n\".join(content))\n",
    "\n",
    "with open(md_path, \"r\") as file:\n",
    "    filedata = file.read().splitlines()\n",
    "    \n",
    "\n",
    "\n",
    "for j in filedata:\n",
    "    if \"<!--table_content-->\" in j:\n",
    "        content.append(\"<!--table_content-->\"+temp+\"</table>\")\n",
    "#     else:\n",
    "#         content.append(j)\n",
    "        \n",
    "# for i in lines:\n",
    "#         temp =  \"<!--table_content-->\"+\"<tr>\"+ \"<td>\"+\n",
    "#         \"<table style=\"width:100%\" id=\"j_table\"><thead><tr><th>Text</th><th>Video</th></thead>\"+'\\n\\n'.join(lines) +\"</table>\"\n",
    "#         content.append(temp)\n",
    "#     else:\n",
    "#         content.append(j)\n",
    "            \n",
    "\n",
    "with open(md_path, \"w\") as file:\n",
    "        file.write(\"\\n\".join(content))"
   ]
  },
  {
   "cell_type": "code",
   "execution_count": null,
   "id": "0903dd75",
   "metadata": {},
   "outputs": [],
   "source": []
  },
  {
   "cell_type": "code",
   "execution_count": null,
   "id": "f30213c6",
   "metadata": {},
   "outputs": [],
   "source": []
  }
 ],
 "metadata": {
  "kernelspec": {
   "display_name": "Python 3 (ipykernel)",
   "language": "python",
   "name": "python3"
  },
  "language_info": {
   "codemirror_mode": {
    "name": "ipython",
    "version": 3
   },
   "file_extension": ".py",
   "mimetype": "text/x-python",
   "name": "python",
   "nbconvert_exporter": "python",
   "pygments_lexer": "ipython3",
   "version": "3.8.13"
  }
 },
 "nbformat": 4,
 "nbformat_minor": 5
}
