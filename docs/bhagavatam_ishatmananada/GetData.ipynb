{
 "cells": [
  {
   "cell_type": "code",
   "execution_count": 1,
   "id": "d4effa42",
   "metadata": {},
   "outputs": [],
   "source": [
    "playlist='PLOEjrfhKOlHlcRto9x_jm_BU15D2iA5QC'"
   ]
  },
  {
   "cell_type": "code",
   "execution_count": 2,
   "id": "b03f3290",
   "metadata": {},
   "outputs": [
    {
     "name": "stdout",
     "output_type": "stream",
     "text": [
      "Videos Retrieved: 81\n",
      "Found all the videos.\n"
     ]
    }
   ],
   "source": [
    "from youtubesearchpython import *\n",
    "url = 'https://www.youtube.com/playlist?list='+playlist\n",
    "playlist = Playlist(url)\n",
    "\n",
    "print(f'Videos Retrieved: {len(playlist.videos)}')\n",
    "\n",
    "while playlist.hasMoreVideos:\n",
    "    print('Getting more videos...')\n",
    "    playlist.getNextVideos()\n",
    "    print(f'Videos Retrieved: {len(playlist.videos)}')\n",
    "\n",
    "print('Found all the videos.')"
   ]
  },
  {
   "cell_type": "code",
   "execution_count": 3,
   "id": "72480304",
   "metadata": {},
   "outputs": [],
   "source": [
    "ids = [i['id'] for i in playlist.videos]"
   ]
  },
  {
   "cell_type": "code",
   "execution_count": 17,
   "id": "55ebec52",
   "metadata": {},
   "outputs": [],
   "source": [
    "from py_youtube import Data\n",
    "mem=[]\n",
    "f=open('Sheet1.csv','w')\n",
    "f.write('Title,ID\\n')\n",
    "for i in playlist.videos:\n",
    "    id = i['id']\n",
    "    link = 'https://www.youtube.com/watch?v='+str(id)\n",
    "    data = Data(link).data()\n",
    "    #print(data)\n",
    "    title=i['title']\n",
    "    info={}\n",
    "    info['Title']=title\n",
    "    info['ID']=id\n",
    "    mem.append(info)\n",
    "    #line=title+','+id+'\\n'\n",
    "    line=id+'\\n'\n",
    "    f.write(line)\n",
    "f.close()\n",
    "\n"
   ]
  },
  {
   "cell_type": "code",
   "execution_count": 5,
   "id": "b0be8f90",
   "metadata": {},
   "outputs": [],
   "source": [
    "from youtube_transcript_api import YouTubeTranscriptApi\n",
    "\n",
    "def get_text(youtube_id=\"XhKdu1_m-k4\"):\n",
    "    try:\n",
    "        text = \" \".join(\n",
    "            [\n",
    "                i[\"text\"]\n",
    "                .replace(\"\\xa0\\xa0\", \" \")\n",
    "                .replace(\"\\n\", \"\")\n",
    "                .replace(\"\\xa0\", \" \")\n",
    "                for i in YouTubeTranscriptApi.get_transcript(youtube_id)\n",
    "            ]\n",
    "        )\n",
    "        return text\n",
    "    except:\n",
    "        print ('Failed for',youtube_id )\n",
    "        pass"
   ]
  },
  {
   "cell_type": "code",
   "execution_count": 8,
   "id": "6e06908c",
   "metadata": {},
   "outputs": [],
   "source": [
    "import pandas as pd\n",
    "# df = pd.read_csv('Sheet1.csv')\n",
    "# df = df[df['Title'].notnull()]\n",
    "df = pd.DataFrame(mem)"
   ]
  },
  {
   "cell_type": "code",
   "execution_count": 9,
   "id": "e0f508dc",
   "metadata": {},
   "outputs": [
    {
     "data": {
      "text/html": [
       "<div>\n",
       "<style scoped>\n",
       "    .dataframe tbody tr th:only-of-type {\n",
       "        vertical-align: middle;\n",
       "    }\n",
       "\n",
       "    .dataframe tbody tr th {\n",
       "        vertical-align: top;\n",
       "    }\n",
       "\n",
       "    .dataframe thead th {\n",
       "        text-align: right;\n",
       "    }\n",
       "</style>\n",
       "<table border=\"1\" class=\"dataframe\">\n",
       "  <thead>\n",
       "    <tr style=\"text-align: right;\">\n",
       "      <th></th>\n",
       "      <th>Title</th>\n",
       "      <th>ID</th>\n",
       "    </tr>\n",
       "  </thead>\n",
       "  <tbody>\n",
       "    <tr>\n",
       "      <th>0</th>\n",
       "      <td>1. Bhagavatam - A Guide to Liberation: Birth o...</td>\n",
       "      <td>fsiMIuTBrfA</td>\n",
       "    </tr>\n",
       "    <tr>\n",
       "      <th>1</th>\n",
       "      <td>Bhagavatam 002 - A Guide to Liberation: Five Q...</td>\n",
       "      <td>rq_H8sioIMQ</td>\n",
       "    </tr>\n",
       "    <tr>\n",
       "      <th>2</th>\n",
       "      <td>Bhagavatam 006 - A Guide to Liberation: Birth ...</td>\n",
       "      <td>DSdqVBnj8is</td>\n",
       "    </tr>\n",
       "    <tr>\n",
       "      <th>3</th>\n",
       "      <td>Bhagavatam 008 - A Guide to Liberation: Mother...</td>\n",
       "      <td>4d8lIVWJJCc</td>\n",
       "    </tr>\n",
       "    <tr>\n",
       "      <th>4</th>\n",
       "      <td>Bhagavatam 009 - A Guide to Liberation: Bheesm...</td>\n",
       "      <td>7WJWzAfBUV4</td>\n",
       "    </tr>\n",
       "    <tr>\n",
       "      <th>...</th>\n",
       "      <td>...</td>\n",
       "      <td>...</td>\n",
       "    </tr>\n",
       "    <tr>\n",
       "      <th>76</th>\n",
       "      <td>Bhagavatam 060 : Help Yourself and Be Free</td>\n",
       "      <td>t-53T51b08I</td>\n",
       "    </tr>\n",
       "    <tr>\n",
       "      <th>77</th>\n",
       "      <td>Bhagavatam 069 : Go Beyond The Gunas</td>\n",
       "      <td>qyVwX2foTbU</td>\n",
       "    </tr>\n",
       "    <tr>\n",
       "      <th>78</th>\n",
       "      <td>Bhagavatam 070 : \"They asked God, 'Who are you...</td>\n",
       "      <td>nNH82RCCc6s</td>\n",
       "    </tr>\n",
       "    <tr>\n",
       "      <th>79</th>\n",
       "      <td>Bhagavatam 074 : In Which Form One Should Wors...</td>\n",
       "      <td>y90aVx8qzhU</td>\n",
       "    </tr>\n",
       "    <tr>\n",
       "      <th>80</th>\n",
       "      <td>Bhagavatam 079 : Swadharma Of a Sannyasi</td>\n",
       "      <td>m2y53PBQHKM</td>\n",
       "    </tr>\n",
       "  </tbody>\n",
       "</table>\n",
       "<p>81 rows × 2 columns</p>\n",
       "</div>"
      ],
      "text/plain": [
       "                                                Title           ID\n",
       "0   1. Bhagavatam - A Guide to Liberation: Birth o...  fsiMIuTBrfA\n",
       "1   Bhagavatam 002 - A Guide to Liberation: Five Q...  rq_H8sioIMQ\n",
       "2   Bhagavatam 006 - A Guide to Liberation: Birth ...  DSdqVBnj8is\n",
       "3   Bhagavatam 008 - A Guide to Liberation: Mother...  4d8lIVWJJCc\n",
       "4   Bhagavatam 009 - A Guide to Liberation: Bheesm...  7WJWzAfBUV4\n",
       "..                                                ...          ...\n",
       "76         Bhagavatam 060 : Help Yourself and Be Free  t-53T51b08I\n",
       "77               Bhagavatam 069 : Go Beyond The Gunas  qyVwX2foTbU\n",
       "78  Bhagavatam 070 : \"They asked God, 'Who are you...  nNH82RCCc6s\n",
       "79  Bhagavatam 074 : In Which Form One Should Wors...  y90aVx8qzhU\n",
       "80           Bhagavatam 079 : Swadharma Of a Sannyasi  m2y53PBQHKM\n",
       "\n",
       "[81 rows x 2 columns]"
      ]
     },
     "execution_count": 9,
     "metadata": {},
     "output_type": "execute_result"
    }
   ],
   "source": [
    "df"
   ]
  },
  {
   "cell_type": "code",
   "execution_count": 10,
   "id": "cf310199",
   "metadata": {},
   "outputs": [],
   "source": [
    "\n",
    "df['youtube_id']=df['ID'].apply(lambda x: str(x).split('&')[0].strip('!'))"
   ]
  },
  {
   "cell_type": "code",
   "execution_count": 11,
   "id": "e40de853",
   "metadata": {},
   "outputs": [
    {
     "name": "stderr",
     "output_type": "stream",
     "text": [
      "  5%|████████▋                                                                                                                                                                      | 4/81 [00:02<00:58,  1.32it/s]"
     ]
    },
    {
     "name": "stdout",
     "output_type": "stream",
     "text": [
      "Failed for DSdqVBnj8is\n"
     ]
    },
    {
     "name": "stderr",
     "output_type": "stream",
     "text": [
      "\r",
      "  6%|██████████▊                                                                                                                                                                    | 5/81 [00:03<00:56,  1.34it/s]"
     ]
    },
    {
     "name": "stdout",
     "output_type": "stream",
     "text": [
      "Failed for 4d8lIVWJJCc\n"
     ]
    },
    {
     "name": "stderr",
     "output_type": "stream",
     "text": [
      " 20%|██████████████████████████████████▎                                                                                                                                           | 16/81 [00:17<01:11,  1.10s/it]"
     ]
    },
    {
     "name": "stdout",
     "output_type": "stream",
     "text": [
      "Failed for Sjl57rRssgc\n"
     ]
    },
    {
     "name": "stderr",
     "output_type": "stream",
     "text": [
      " 22%|██████████████████████████████████████▋                                                                                                                                       | 18/81 [00:18<01:02,  1.01it/s]"
     ]
    },
    {
     "name": "stdout",
     "output_type": "stream",
     "text": [
      "Failed for W7k56NjXG1Q\n"
     ]
    },
    {
     "name": "stderr",
     "output_type": "stream",
     "text": [
      " 26%|█████████████████████████████████████████████                                                                                                                                 | 21/81 [00:21<00:56,  1.06it/s]"
     ]
    },
    {
     "name": "stdout",
     "output_type": "stream",
     "text": [
      "Failed for e3HiP3aupeo\n"
     ]
    },
    {
     "name": "stderr",
     "output_type": "stream",
     "text": [
      " 33%|██████████████████████████████████████████████████████████                                                                                                                    | 27/81 [00:28<00:55,  1.04s/it]"
     ]
    },
    {
     "name": "stdout",
     "output_type": "stream",
     "text": [
      "Failed for pqpjBz_fIjg\n"
     ]
    },
    {
     "name": "stderr",
     "output_type": "stream",
     "text": [
      "\r",
      " 35%|████████████████████████████████████████████████████████████▏                                                                                                                 | 28/81 [00:29<00:49,  1.08it/s]"
     ]
    },
    {
     "name": "stdout",
     "output_type": "stream",
     "text": [
      "Failed for lszVxLE3hhg\n"
     ]
    },
    {
     "name": "stderr",
     "output_type": "stream",
     "text": [
      "100%|██████████████████████████████████████████████████████████████████████████████████████████████████████████████████████████████████████████████████████████████████████████████| 81/81 [01:33<00:00,  1.15s/it]\n"
     ]
    }
   ],
   "source": [
    "from tqdm import tqdm\n",
    "tqdm.pandas()\n",
    "df['text'] = df['youtube_id'].progress_apply(lambda x:get_text(x))"
   ]
  },
  {
   "cell_type": "code",
   "execution_count": 14,
   "id": "88e2cd51",
   "metadata": {},
   "outputs": [],
   "source": [
    "lines=[]\n",
    "filenames=[]\n",
    "temp='<!--table_content--><table style=\"width:100%\" id=\"j_table\">'+ \"<thead><tr>\"+ \"<th>Text</th>\"+ \"<th>Video</th>\"+ \"</tr></thead>\"\n",
    "for i,ii in df.iterrows():\n",
    "    page = int(ii.name)+1  #ii['Unnamed: 0']\n",
    "    text = ii['text']\n",
    "    if text is not None:\n",
    "        #print('text',text)\n",
    "        filename='Video-'+str(page)+'.md'\n",
    "        filename2='Video-'+str(page)\n",
    "        #print (filename)\n",
    "        f=open(filename,'w')\n",
    "        line='['+ii['Title']+']('+'https://www.youtube.com/watch?v='+str(ii['ID'].split('&')[0].strip('!'))+')' \n",
    "        line2='['+ii['Title']+'](./'+filename2 +')'\n",
    "        \n",
    "        \n",
    "        \n",
    "        #temp+='<tr>'+'<td>'+line2+'</td>'+'<td>'+line+'</td>'+'</tr>'\n",
    "        part1='<a href=\"'+'./'+filename2+' \"'+' target=\"_black\"> '+ii['Title']+'</a>'\n",
    "        part2='<a href=\"'+ 'https://www.youtube.com/watch?v='+str(ii['ID'].split('&')[0].strip('!'))  +' \"'+' target=\"_black\"> '+'YouTube'+'</a>'\n",
    "        temp+='<tr>'+'<td>'+part1+'</td>'+'<td>'+part2+'</td>'+'</tr>'\n",
    "        lines.append(line2)\n",
    "        filenames.append(filename)\n",
    "        f.write(line+'\\n\\n')\n",
    "        f.write(text)\n",
    "        f.close()\n",
    "        #break"
   ]
  },
  {
   "cell_type": "code",
   "execution_count": 15,
   "id": "6ca9f51c",
   "metadata": {},
   "outputs": [
    {
     "data": {
      "text/plain": [
       "['[1. Bhagavatam - A Guide to Liberation: Birth of the Scripture](./Video-1)',\n",
       " '[Bhagavatam 002 - A Guide to Liberation: Five Questions of the Rishis](./Video-2)',\n",
       " \"[Bhagavatam 009 - A Guide to Liberation: Bheesma the Great Reveals Sri Krishna's Divinity](./Video-5)\",\n",
       " '[Bhagavatam 010 - A Guide to Liberation: Last Advices Of Bheesma](./Video-6)',\n",
       " '[Bhagavatam 012 - A Guide to Liberation: Scion Of The Mighty Pandavas](./Video-7)',\n",
       " \"[Bhagavatam 024 - A Guide to Liberation:  Purusha & Prakriti : Kapila's Interpretation](./Video-8)\",\n",
       " '[Bhagavatam 027 - A Guide to Liberation : How Devahuti Attained Liberation](./Video-9)',\n",
       " '[Bhagavatam 029 : Conversation Between King Prithu & Four Great Kumaras](./Video-10)',\n",
       " '[Bhagavatam 030 : Rudra Gita](./Video-11)',\n",
       " '[Bhagavatam 031 : The Soul Of Bhagavatam](./Video-12)',\n",
       " '[Bhagavatam 023 - A Guide to Liberation: Holy Association Develops Devotion](./Video-13)',\n",
       " '[Bhagavatam 026 - A Guide to Liberation Mystery Of Birth and Beyond](./Video-14)',\n",
       " '[Bhagavatam 028 - A Guide to Liberation : How Can Man Attain Spiritual Merits?](./Video-16)',\n",
       " '[Bhagavatam 011 - A Guide to Liberation: Scion Of The Mighty Pandavas](./Video-18)',\n",
       " '[Bhagavatam 014 - A Guide to Liberation: How to face Death?](./Video-19)',\n",
       " \"[Bhagavatam 004 - A Guide to Liberation: Ugrashrava's Answer to the Rishis (Part 2)](./Video-21)\",\n",
       " '[Bhagavatam 015 - A Guide to Liberation :  Cosmic Form of the Formless](./Video-22)',\n",
       " \"[Bhagavatam 020 - A Guide to Liberation : A Son's Advice To Mother](./Video-23)\",\n",
       " \"[Bhagavatam 021 - A Guide to Liberation : A Son's Advice To Mother Part 2](./Video-24)\",\n",
       " '[Bhagavatam 018 - A Guide to Liberation : The First Marriage Of The World](./Video-25)',\n",
       " '[Bhagavatam 032 : The Churning Of The Ocean](./Video-28)',\n",
       " '[Bhagavatam 022 - A Guide to Liberation : How To Know Who Is a Holy Person ?](./Video-29)',\n",
       " '[Bhagavatam 016 - A Guide to Liberation : the Twenty Question Of Parikshit](./Video-30)',\n",
       " '[Bhagavatam 017 - A Guide to Liberation :Ten Unique Feature Of The Bhagavatam](./Video-31)',\n",
       " '[Bhagavatam 025 - A Guide to Liberation Sat-Karya-Vada Of Sri Kapila](./Video-32)',\n",
       " '[Bhagavatam 056 : Argument Of a Devotee](./Video-33)',\n",
       " '[Bhagavatam 065 : Responsibilities Of The Devotee](./Video-34)',\n",
       " '[Bhagavatam 066 : The Secret Of Spirituality](./Video-35)',\n",
       " '[Bhagavatam 036  :  Can the Veda Reveal Brahman?](./Video-36)',\n",
       " '[Bhagavatam 052 : \"Why do you weep , my friend !\"](./Video-37)',\n",
       " '[Bhagavatam 044 : Three Types of Karma](./Video-38)',\n",
       " '[Bhagavatam 081 : What We Learn From Bhagavatam?](./Video-39)',\n",
       " '[Bhagavatam 053 : Do We Die?](./Video-40)',\n",
       " '[Bhagavatam 047 : How to Live Like a realized Soul?](./Video-41)',\n",
       " '[Bhagavatam 067 : The Confusion of Uddhava](./Video-42)',\n",
       " '[Bhagavatam 058 : The Self Alone Is The Teacher](./Video-43)',\n",
       " '[Bhagavatam 076 : Swadharma Of Ashramas](./Video-44)',\n",
       " '[Bhagavatam 051 : A Guide To Liberation](./Video-45)',\n",
       " '[Bhagavatam 048 : Avadhuta Gita: Experience In the State Of infinite](./Video-46)',\n",
       " '[Bhagavatam 057 : Spiritual Tips Of Krishna](./Video-47)',\n",
       " '[Bhagavatam 075 : Swadharma According To The Bhagavat](./Video-48)',\n",
       " '[Bhagavatam 037 : Brahman Is The Mother Of All](./Video-49)',\n",
       " '[Bhagavatam 078 : Sri Krishna Eternal Lover Of Pure Souls](./Video-50)',\n",
       " '[Bhagavatam 073 : God and His Miraculous Power](./Video-51)',\n",
       " '[Bhagavatam 041 : How To Recognize a Realized Soul](./Video-52)',\n",
       " '[Bhagavatam 042 : Maya: The Source Of Misery](./Video-53)',\n",
       " '[Bhagavatam 063 : Bondage and Liberation](./Video-54)',\n",
       " \"[Bhagavatam 054 : Son's Advices To Mother](./Video-55)\",\n",
       " '[Bhagavatam 049 : Avadhut Gita: How to Realize Brahman?](./Video-56)',\n",
       " '[Bhagavatam 040 : Blessings Of Nine Yogis](./Video-57)',\n",
       " '[Bhagavatam 035 : The Exchange Of Sri Krishna and Yogamaya](./Video-58)',\n",
       " '[Bhagavatam 043 : Topic: How to Overcome Maya](./Video-59)',\n",
       " '[Bhagavatam 062 : For the Soul there is neither Bondage nor Liberation](./Video-60)',\n",
       " '[Bhagavatam 055 : Parting Advices Of Krishna](./Video-61)',\n",
       " '[Bhagavatam 071 : God Replied \" Know me as Vishnu\"](./Video-62)',\n",
       " '[Bhagavatam 072 : God and His Miraculous Power](./Video-63)',\n",
       " '[Bhagavatam 050 : I am the Pure Shiva](./Video-64)',\n",
       " '[Bhagavatam 061 : Three Questions Of Sri Krishna](./Video-65)',\n",
       " '[Bhagavatam 034 : Supreme Being Incarnated As Super Human](./Video-66)',\n",
       " '[Bhagavatam 059 : The Unique Reply](./Video-67)',\n",
       " '[Bhagavatam 033 : The Greatest Gift](./Video-68)',\n",
       " '[Bhagavatam 038 : The Philosophy Of Bhagavata](./Video-69)',\n",
       " '[Bhagavatam 039 : The Confluence Of Kali And Krishna](./Video-70)',\n",
       " '[Bhagavatam 064 : Who can be called a sadhu?-- Bhagwan Sri Krishna Says](./Video-71)',\n",
       " '[Bhagavatam 077: Transition from Householder to Sanyasi](./Video-72)',\n",
       " '[Bhagavatam 080 : Kah Pantha ? Sri Krishna Show The Path](./Video-73)',\n",
       " \"[Bhagavatam 068 : Sri Krishna Removed Uddhav's Doubt](./Video-74)\",\n",
       " \"[Bhagavatam 045 :  Are God's Incarnations Bound By Karma?](./Video-75)\",\n",
       " '[Bhagavatam 046 : Avadhuta - Way Of Learning](./Video-76)',\n",
       " '[Bhagavatam 060 : Help Yourself and Be Free](./Video-77)',\n",
       " '[Bhagavatam 069 : Go Beyond The Gunas](./Video-78)',\n",
       " '[Bhagavatam 070 : \"They asked God, \\'Who are you ?\\'\"](./Video-79)',\n",
       " '[Bhagavatam 074 : In Which Form One Should Worship God ?](./Video-80)',\n",
       " '[Bhagavatam 079 : Swadharma Of a Sannyasi](./Video-81)']"
      ]
     },
     "execution_count": 15,
     "metadata": {},
     "output_type": "execute_result"
    }
   ],
   "source": [
    "lines"
   ]
  },
  {
   "cell_type": "code",
   "execution_count": 16,
   "id": "5280e076",
   "metadata": {},
   "outputs": [],
   "source": [
    "md_path='index.md'\n",
    "with open(md_path, \"r\") as file:\n",
    "    filedata = file.read().splitlines()\n",
    "content = []\n",
    "\n",
    "content = ['\\n[The Bhagavatam](https://en.wikipedia.org/wiki/Bhagavata_Purana) by [Swami Ishatmananda](https://chicagovedanta.org/swami_ishatmananda.html) \\n\\n<!--table_content-->\\n']\n",
    "# for j in filedata:\n",
    "#     if \"<!--table_content-->\" in j:\n",
    "#         content.append(\"<!--table_content-->\")\n",
    "#     else:\n",
    "#         content.append(j)\n",
    "with open(md_path, \"w\") as file:\n",
    "    file.write(\"\\n\".join(content))\n",
    "\n",
    "with open(md_path, \"r\") as file:\n",
    "    filedata = file.read().splitlines()\n",
    "    \n",
    "\n",
    "\n",
    "for j in filedata:\n",
    "    if \"<!--table_content-->\" in j:\n",
    "        content.append(\"<!--table_content-->\"+temp+\"</table>\")\n",
    "#     else:\n",
    "#         content.append(j)\n",
    "        \n",
    "# for i in lines:\n",
    "#         temp =  \"<!--table_content-->\"+\"<tr>\"+ \"<td>\"+\n",
    "#         \"<table style=\"width:100%\" id=\"j_table\"><thead><tr><th>Text</th><th>Video</th></thead>\"+'\\n\\n'.join(lines) +\"</table>\"\n",
    "#         content.append(temp)\n",
    "#     else:\n",
    "#         content.append(j)\n",
    "            \n",
    "\n",
    "with open(md_path, \"w\") as file:\n",
    "        file.write(\"\\n\".join(content))"
   ]
  },
  {
   "cell_type": "code",
   "execution_count": null,
   "id": "d50bf95c",
   "metadata": {},
   "outputs": [],
   "source": []
  }
 ],
 "metadata": {
  "kernelspec": {
   "display_name": "Python 3 (ipykernel)",
   "language": "python",
   "name": "python3"
  },
  "language_info": {
   "codemirror_mode": {
    "name": "ipython",
    "version": 3
   },
   "file_extension": ".py",
   "mimetype": "text/x-python",
   "name": "python",
   "nbconvert_exporter": "python",
   "pygments_lexer": "ipython3",
   "version": "3.8.13"
  }
 },
 "nbformat": 4,
 "nbformat_minor": 5
}
