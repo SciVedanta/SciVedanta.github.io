{
 "cells": [
  {
   "cell_type": "code",
   "execution_count": 1,
   "id": "d4effa42",
   "metadata": {},
   "outputs": [],
   "source": [
    "playlist='PLOEjrfhKOlHmR7EzV4ddrWCJSQKoef2be'"
   ]
  },
  {
   "cell_type": "code",
   "execution_count": 2,
   "id": "b03f3290",
   "metadata": {},
   "outputs": [
    {
     "name": "stdout",
     "output_type": "stream",
     "text": [
      "Videos Retrieved: 11\n",
      "Found all the videos.\n"
     ]
    }
   ],
   "source": [
    "from youtubesearchpython import *\n",
    "url = 'https://www.youtube.com/playlist?list='+playlist\n",
    "playlist = Playlist(url)\n",
    "\n",
    "print(f'Videos Retrieved: {len(playlist.videos)}')\n",
    "\n",
    "while playlist.hasMoreVideos:\n",
    "    print('Getting more videos...')\n",
    "    playlist.getNextVideos()\n",
    "    print(f'Videos Retrieved: {len(playlist.videos)}')\n",
    "\n",
    "print('Found all the videos.')"
   ]
  },
  {
   "cell_type": "code",
   "execution_count": 3,
   "id": "72480304",
   "metadata": {},
   "outputs": [],
   "source": [
    "ids = [i['id'] for i in playlist.videos]"
   ]
  },
  {
   "cell_type": "code",
   "execution_count": 4,
   "id": "55ebec52",
   "metadata": {},
   "outputs": [],
   "source": [
    "from py_youtube import Data\n",
    "mem=[]\n",
    "f=open('Sheet1.csv','w')\n",
    "f.write('ID\\n')\n",
    "for i in playlist.videos:\n",
    "    id = i['id']\n",
    "    link = 'https://www.youtube.com/watch?v='+str(id)\n",
    "    data = Data(link).data()\n",
    "    #print(data)\n",
    "    title=i['title']\n",
    "    info={}\n",
    "    info['Title']=title\n",
    "    info['ID']=id\n",
    "    mem.append(info)\n",
    "    #line=title+','+id+'\\n'\n",
    "    line=id+'\\n'\n",
    "    f.write(line)\n",
    "f.close()\n",
    "\n"
   ]
  },
  {
   "cell_type": "code",
   "execution_count": 5,
   "id": "b0be8f90",
   "metadata": {},
   "outputs": [],
   "source": [
    "from youtube_transcript_api import YouTubeTranscriptApi\n",
    "\n",
    "def get_text(youtube_id=\"XhKdu1_m-k4\"):\n",
    "    try:\n",
    "        text = \" \".join(\n",
    "            [\n",
    "                i[\"text\"]\n",
    "                .replace(\"\\xa0\\xa0\", \" \")\n",
    "                .replace(\"\\n\", \"\")\n",
    "                .replace(\"\\xa0\", \" \")\n",
    "                for i in YouTubeTranscriptApi.get_transcript(youtube_id)\n",
    "            ]\n",
    "        )\n",
    "        return text\n",
    "    except:\n",
    "        print ('Failed for',youtube_id )\n",
    "        pass"
   ]
  },
  {
   "cell_type": "code",
   "execution_count": 6,
   "id": "6e06908c",
   "metadata": {},
   "outputs": [],
   "source": [
    "import pandas as pd\n",
    "# df = pd.read_csv('Sheet1.csv')\n",
    "# df = df[df['Title'].notnull()]\n",
    "df = pd.DataFrame(mem)"
   ]
  },
  {
   "cell_type": "code",
   "execution_count": 7,
   "id": "e0f508dc",
   "metadata": {},
   "outputs": [
    {
     "data": {
      "text/html": [
       "<div>\n",
       "<style scoped>\n",
       "    .dataframe tbody tr th:only-of-type {\n",
       "        vertical-align: middle;\n",
       "    }\n",
       "\n",
       "    .dataframe tbody tr th {\n",
       "        vertical-align: top;\n",
       "    }\n",
       "\n",
       "    .dataframe thead th {\n",
       "        text-align: right;\n",
       "    }\n",
       "</style>\n",
       "<table border=\"1\" class=\"dataframe\">\n",
       "  <thead>\n",
       "    <tr style=\"text-align: right;\">\n",
       "      <th></th>\n",
       "      <th>Title</th>\n",
       "      <th>ID</th>\n",
       "    </tr>\n",
       "  </thead>\n",
       "  <tbody>\n",
       "    <tr>\n",
       "      <th>0</th>\n",
       "      <td>1. Yoga Vasistha - A Guide To Brahma Jnana</td>\n",
       "      <td>QVwyyXqd0UE</td>\n",
       "    </tr>\n",
       "    <tr>\n",
       "      <th>1</th>\n",
       "      <td>2. Yoga Vasistha - Doubts Of Sri Ramachandra</td>\n",
       "      <td>mCFL0_876cw</td>\n",
       "    </tr>\n",
       "    <tr>\n",
       "      <th>2</th>\n",
       "      <td>3. Yoga Vasistha - Doubts of Sri Ramachandra</td>\n",
       "      <td>2R9vj7Sq1pY</td>\n",
       "    </tr>\n",
       "    <tr>\n",
       "      <th>3</th>\n",
       "      <td>4. Yoga Vasistha - O Rama, You need a Guru</td>\n",
       "      <td>IA3WKb7m3Tw</td>\n",
       "    </tr>\n",
       "    <tr>\n",
       "      <th>4</th>\n",
       "      <td>5. Yoga Vasistha - Sage Vasistha Consoles Sri ...</td>\n",
       "      <td>ERbZx4sryek</td>\n",
       "    </tr>\n",
       "    <tr>\n",
       "      <th>5</th>\n",
       "      <td>14. Yoga Vasistha - You and Your World</td>\n",
       "      <td>BfZaKPpdUOo</td>\n",
       "    </tr>\n",
       "    <tr>\n",
       "      <th>6</th>\n",
       "      <td>15. Yoga Vasistha - O Rama, this World is Brahman</td>\n",
       "      <td>z9KtiuQI1qA</td>\n",
       "    </tr>\n",
       "    <tr>\n",
       "      <th>7</th>\n",
       "      <td>51. Yoga Vasishtha: A Guide to Brahma Jana - “...</td>\n",
       "      <td>WknbbA6FalU</td>\n",
       "    </tr>\n",
       "    <tr>\n",
       "      <th>8</th>\n",
       "      <td>68. Yoga Vasistha -  Behavior of a Brahma Gyani</td>\n",
       "      <td>MpAhhy7FVMs</td>\n",
       "    </tr>\n",
       "    <tr>\n",
       "      <th>9</th>\n",
       "      <td>69. Yoga Vasistha</td>\n",
       "      <td>Wc-pa3Kkx1k</td>\n",
       "    </tr>\n",
       "    <tr>\n",
       "      <th>10</th>\n",
       "      <td>70. Yoga Vasistha - “O Rama, Realize Brahman A...</td>\n",
       "      <td>Xb-aiiCvUBQ</td>\n",
       "    </tr>\n",
       "  </tbody>\n",
       "</table>\n",
       "</div>"
      ],
      "text/plain": [
       "                                                Title           ID\n",
       "0          1. Yoga Vasistha - A Guide To Brahma Jnana  QVwyyXqd0UE\n",
       "1        2. Yoga Vasistha - Doubts Of Sri Ramachandra  mCFL0_876cw\n",
       "2        3. Yoga Vasistha - Doubts of Sri Ramachandra  2R9vj7Sq1pY\n",
       "3          4. Yoga Vasistha - O Rama, You need a Guru  IA3WKb7m3Tw\n",
       "4   5. Yoga Vasistha - Sage Vasistha Consoles Sri ...  ERbZx4sryek\n",
       "5              14. Yoga Vasistha - You and Your World  BfZaKPpdUOo\n",
       "6   15. Yoga Vasistha - O Rama, this World is Brahman  z9KtiuQI1qA\n",
       "7   51. Yoga Vasishtha: A Guide to Brahma Jana - “...  WknbbA6FalU\n",
       "8     68. Yoga Vasistha -  Behavior of a Brahma Gyani  MpAhhy7FVMs\n",
       "9                                   69. Yoga Vasistha  Wc-pa3Kkx1k\n",
       "10  70. Yoga Vasistha - “O Rama, Realize Brahman A...  Xb-aiiCvUBQ"
      ]
     },
     "execution_count": 7,
     "metadata": {},
     "output_type": "execute_result"
    }
   ],
   "source": [
    "df"
   ]
  },
  {
   "cell_type": "code",
   "execution_count": 8,
   "id": "cf310199",
   "metadata": {},
   "outputs": [],
   "source": [
    "\n",
    "df['youtube_id']=df['ID'].apply(lambda x: str(x).split('&')[0].strip('!'))"
   ]
  },
  {
   "cell_type": "code",
   "execution_count": 9,
   "id": "e40de853",
   "metadata": {},
   "outputs": [
    {
     "name": "stderr",
     "output_type": "stream",
     "text": [
      " 18%|███████████████████████████████▊                                                                                                                                               | 2/11 [00:00<00:03,  2.65it/s]"
     ]
    },
    {
     "name": "stdout",
     "output_type": "stream",
     "text": [
      "Failed for QVwyyXqd0UE\n"
     ]
    },
    {
     "name": "stderr",
     "output_type": "stream",
     "text": [
      " 45%|███████████████████████████████████████████████████████████████████████████████▌                                                                                               | 5/11 [00:03<00:05,  1.17it/s]"
     ]
    },
    {
     "name": "stdout",
     "output_type": "stream",
     "text": [
      "Failed for IA3WKb7m3Tw\n"
     ]
    },
    {
     "name": "stderr",
     "output_type": "stream",
     "text": [
      "\r",
      " 55%|███████████████████████████████████████████████████████████████████████████████████████████████▍                                                                               | 6/11 [00:04<00:04,  1.24it/s]"
     ]
    },
    {
     "name": "stdout",
     "output_type": "stream",
     "text": [
      "Failed for ERbZx4sryek\n"
     ]
    },
    {
     "name": "stderr",
     "output_type": "stream",
     "text": [
      " 73%|███████████████████████████████████████████████████████████████████████████████████████████████████████████████████████████████▎                                               | 8/11 [00:06<00:02,  1.18it/s]"
     ]
    },
    {
     "name": "stdout",
     "output_type": "stream",
     "text": [
      "Failed for z9KtiuQI1qA\n"
     ]
    },
    {
     "name": "stderr",
     "output_type": "stream",
     "text": [
      "100%|██████████████████████████████████████████████████████████████████████████████████████████████████████████████████████████████████████████████████████████████████████████████| 11/11 [00:11<00:00,  1.02s/it]\n"
     ]
    }
   ],
   "source": [
    "from tqdm import tqdm\n",
    "tqdm.pandas()\n",
    "df['text'] = df['youtube_id'].progress_apply(lambda x:get_text(x))"
   ]
  },
  {
   "cell_type": "code",
   "execution_count": 10,
   "id": "88e2cd51",
   "metadata": {},
   "outputs": [],
   "source": [
    "lines=[]\n",
    "filenames=[]\n",
    "temp='<!--table_content--><table style=\"width:100%\" id=\"j_table\">'+ \"<thead><tr>\"+ \"<th>Text</th>\"+ \"<th>Video</th>\"+ \"</tr></thead>\"\n",
    "for i,ii in df.iterrows():\n",
    "    page = int(ii.name)+1  #ii['Unnamed: 0']\n",
    "    text = ii['text']\n",
    "    if text is not None:\n",
    "        #print('text',text)\n",
    "        filename='Video-'+str(page)+'.md'\n",
    "        filename2='Video-'+str(page)\n",
    "        #print (filename)\n",
    "        f=open(filename,'w')\n",
    "        line='['+ii['Title']+']('+'https://www.youtube.com/watch?v='+str(ii['ID'].split('&')[0].strip('!'))+')' \n",
    "        line2='['+ii['Title']+'](./'+filename2 +')'\n",
    "        \n",
    "        \n",
    "        \n",
    "        #temp+='<tr>'+'<td>'+line2+'</td>'+'<td>'+line+'</td>'+'</tr>'\n",
    "        part1='<a href=\"'+'./'+filename2+' \"'+' target=\"_black\"> '+ii['Title']+'</a>'\n",
    "        part2='<a href=\"'+ 'https://www.youtube.com/watch?v='+str(ii['ID'].split('&')[0].strip('!'))  +' \"'+' target=\"_black\"> '+'YouTube'+'</a>'\n",
    "        temp+='<tr>'+'<td>'+part1+'</td>'+'<td>'+part2+'</td>'+'</tr>'\n",
    "        lines.append(line2)\n",
    "        filenames.append(filename)\n",
    "        f.write(line+'\\n\\n')\n",
    "        f.write(text)\n",
    "        f.close()\n",
    "        #break"
   ]
  },
  {
   "cell_type": "code",
   "execution_count": 11,
   "id": "6ca9f51c",
   "metadata": {},
   "outputs": [
    {
     "data": {
      "text/plain": [
       "['[2. Yoga Vasistha - Doubts Of Sri Ramachandra](./Video-2)',\n",
       " '[3. Yoga Vasistha - Doubts of Sri Ramachandra](./Video-3)',\n",
       " '[14. Yoga Vasistha - You and Your World](./Video-6)',\n",
       " '[51. Yoga Vasishtha: A Guide to Brahma Jana - “O Rama, Resolve to Realize Brahman”](./Video-8)',\n",
       " '[68. Yoga Vasistha -  Behavior of a Brahma Gyani](./Video-9)',\n",
       " '[69. Yoga Vasistha](./Video-10)',\n",
       " '[70. Yoga Vasistha - “O Rama, Realize Brahman And be Free\"](./Video-11)']"
      ]
     },
     "execution_count": 11,
     "metadata": {},
     "output_type": "execute_result"
    }
   ],
   "source": [
    "lines"
   ]
  },
  {
   "cell_type": "code",
   "execution_count": 12,
   "id": "5280e076",
   "metadata": {},
   "outputs": [],
   "source": [
    "md_path='index.md'\n",
    "with open(md_path, \"r\") as file:\n",
    "    filedata = file.read().splitlines()\n",
    "content = []\n",
    "\n",
    "content = ['\\n[The Yoga Vasistha](https://en.wikipedia.org/wiki/Yoga_Vasistha) by [Swami Ishatmananda](https://chicagovedanta.org/swami_ishatmananda.html) \\n\\n<!--table_content-->\\n']\n",
    "# for j in filedata:\n",
    "#     if \"<!--table_content-->\" in j:\n",
    "#         content.append(\"<!--table_content-->\")\n",
    "#     else:\n",
    "#         content.append(j)\n",
    "with open(md_path, \"w\") as file:\n",
    "    file.write(\"\\n\".join(content))\n",
    "\n",
    "with open(md_path, \"r\") as file:\n",
    "    filedata = file.read().splitlines()\n",
    "    \n",
    "\n",
    "\n",
    "for j in filedata:\n",
    "    if \"<!--table_content-->\" in j:\n",
    "        content.append(\"<!--table_content-->\"+temp+\"</table>\")\n",
    "#     else:\n",
    "#         content.append(j)\n",
    "        \n",
    "# for i in lines:\n",
    "#         temp =  \"<!--table_content-->\"+\"<tr>\"+ \"<td>\"+\n",
    "#         \"<table style=\"width:100%\" id=\"j_table\"><thead><tr><th>Text</th><th>Video</th></thead>\"+'\\n\\n'.join(lines) +\"</table>\"\n",
    "#         content.append(temp)\n",
    "#     else:\n",
    "#         content.append(j)\n",
    "            \n",
    "\n",
    "with open(md_path, \"w\") as file:\n",
    "        file.write(\"\\n\".join(content))"
   ]
  },
  {
   "cell_type": "code",
   "execution_count": null,
   "id": "d50bf95c",
   "metadata": {},
   "outputs": [],
   "source": []
  }
 ],
 "metadata": {
  "kernelspec": {
   "display_name": "Python 3 (ipykernel)",
   "language": "python",
   "name": "python3"
  },
  "language_info": {
   "codemirror_mode": {
    "name": "ipython",
    "version": 3
   },
   "file_extension": ".py",
   "mimetype": "text/x-python",
   "name": "python",
   "nbconvert_exporter": "python",
   "pygments_lexer": "ipython3",
   "version": "3.8.13"
  }
 },
 "nbformat": 4,
 "nbformat_minor": 5
}
